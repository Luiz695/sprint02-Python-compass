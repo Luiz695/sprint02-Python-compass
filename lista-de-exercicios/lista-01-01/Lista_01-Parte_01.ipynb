{
 "cells": [
  {
   "cell_type": "markdown",
   "metadata": {
    "id": "53FrqpUi0dun"
   },
   "source": [
    "# Exercícios – Parte 1"
   ]
  },
  {
   "cell_type": "markdown",
   "metadata": {
    "id": "-0V2u3zb0gkv"
   },
   "source": [
    "## Exercício 1"
   ]
  },
  {
   "cell_type": "markdown",
   "metadata": {
    "id": "NI2RVFYg1SJt"
   },
   "source": [
    "Escreva um código Python que lê do teclado o nome e a idade de um usuário e imprime o ano em que o\n",
    "usuário completará 100 anos.\n",
    "Dica: você pode ler strings digitadas no teclado utilizando a função builtin input('mensagem'). Lembre-se de\n",
    "converter números para seu respectivo tipo (int ou float) antes fazer operações aritméticas.\n"
   ]
  },
  {
   "cell_type": "code",
   "execution_count": 6,
   "metadata": {},
   "outputs": [
    {
     "name": "stdout",
     "output_type": "stream",
     "text": [
      "Valor digitado é invalido\n",
      "Paula irá completar 100 anos em 2116.\n"
     ]
    }
   ],
   "source": [
    "import datetime\n",
    "on = True\n",
    "while (on): \n",
    "    try:\n",
    "        current_time = datetime.datetime.now()\n",
    "        current_time_1 = current_time.year\n",
    "        name = input('Insira seu nome: ')\n",
    "        age = int(input('Insira usa idade: '))\n",
    "        year = 100-age+current_time_1;\n",
    "        print(f'{name} irá completar 100 anos em {year}.')\n",
    "        on=False\n",
    "    except ValueError:\n",
    "        print('Valor digitado é invalido')"
   ]
  },
  {
   "cell_type": "markdown",
   "metadata": {
    "id": "PQTB6-0E0iEC"
   },
   "source": [
    "## Exercício 2"
   ]
  },
  {
   "cell_type": "markdown",
   "metadata": {
    "id": "dcIZlsu51gMq"
   },
   "source": [
    "Escreva um código Python que lê do teclado um número digitado pelo usuário e imprime se ele par ou ímpar"
   ]
  },
  {
   "cell_type": "code",
   "execution_count": 4,
   "metadata": {},
   "outputs": [
    {
     "name": "stdout",
     "output_type": "stream",
     "text": [
      "Erro na execução. Informe um valor válido.\n",
      "Erro na execução. Informe um valor válido.\n",
      "3.0 é impar.\n",
      "6.0 é par.\n"
     ]
    }
   ],
   "source": [
    "funcionando = True\n",
    "while (funcionando):\n",
    "    try:\n",
    "        numero = float(input('Digite um numero: '))\n",
    "        if (numero%2==0):\n",
    "            print(f'{numero} é par.')\n",
    "            x = input('Deseja realizar uma nova busca: S/N')\n",
    "            if (x.upper() == 'S'):\n",
    "                funcionando = True \n",
    "                continue\n",
    "            else:\n",
    "                funcionando = False\n",
    "        else :\n",
    "            print(f'{numero} é impar.')\n",
    "            x = input('Deseja realizar uma nova busca: S/N')\n",
    "            if (x.upper() == 'S'): \n",
    "                funcionando = True\n",
    "                continue\n",
    "            else:\n",
    "                funcionando = False\n",
    "    except ValueError:\n",
    "        print('Erro na execução. Informe um valor válido.')"
   ]
  },
  {
   "cell_type": "markdown",
   "metadata": {
    "id": "-TNUUYrP0pPx"
   },
   "source": [
    "## Exercício 3"
   ]
  },
  {
   "cell_type": "markdown",
   "metadata": {
    "id": "bArkXx6J1jit"
   },
   "source": [
    "Escreva um código Python que imprime os números pares de 0 até 20 (incluso).\n",
    "\n",
    "Dica: olhe a documentação da função range(). \n"
   ]
  },
  {
   "cell_type": "code",
   "execution_count": 5,
   "metadata": {},
   "outputs": [
    {
     "name": "stdout",
     "output_type": "stream",
     "text": [
      "0\n",
      "2\n",
      "4\n",
      "6\n",
      "8\n",
      "10\n",
      "12\n",
      "14\n",
      "16\n",
      "18\n",
      "20\n"
     ]
    }
   ],
   "source": [
    "for numeros in range(0,21, 2):\n",
    "  print(numeros)"
   ]
  },
  {
   "cell_type": "markdown",
   "metadata": {
    "id": "51OOhh_o0q13"
   },
   "source": [
    "## Exercício 4"
   ]
  },
  {
   "cell_type": "markdown",
   "metadata": {
    "id": "HWrKgCNU1rRV"
   },
   "source": [
    "Escreva um código Python que imprime todos os números primos de 0 até 100."
   ]
  },
  {
   "cell_type": "code",
   "execution_count": 6,
   "metadata": {},
   "outputs": [
    {
     "name": "stdout",
     "output_type": "stream",
     "text": [
      "2 é primo\n",
      "3 é primo\n",
      "5 é primo\n",
      "7 é primo\n",
      "11 é primo\n",
      "13 é primo\n",
      "17 é primo\n",
      "19 é primo\n",
      "23 é primo\n",
      "29 é primo\n",
      "31 é primo\n",
      "37 é primo\n",
      "41 é primo\n",
      "43 é primo\n",
      "47 é primo\n",
      "53 é primo\n",
      "59 é primo\n",
      "61 é primo\n",
      "67 é primo\n",
      "71 é primo\n",
      "73 é primo\n",
      "79 é primo\n",
      "83 é primo\n",
      "89 é primo\n",
      "97 é primo\n"
     ]
    }
   ],
   "source": [
    "# primos - são maiores do que 1 e possuem somente dois divisores (divisiveis por 1 e por ele mesmo)\n",
    "for numero in range(2, 101):\n",
    "    for count in range(2, numero):\n",
    "        if (numero%count) == 0: #o numero possui um divisor sem ser 1 e ele mesmo.\n",
    "            break # encerra o laço\n",
    "    else:\n",
    "        print(f'{numero} é primo')"
   ]
  },
  {
   "cell_type": "markdown",
   "metadata": {
    "id": "H9rrX9PG0q9g"
   },
   "source": [
    "## Exercício 5\n"
   ]
  },
  {
   "cell_type": "markdown",
   "metadata": {
    "id": "oI6uVZ_11tfs"
   },
   "source": [
    "Escreva um código Python que lê do teclado um dia, um mês e um ano e imprime a data completa no\n",
    "formato a seguir:\n",
    "Exemplo: 22/10/2022"
   ]
  },
  {
   "cell_type": "code",
   "execution_count": 4,
   "metadata": {},
   "outputs": [
    {
     "name": "stdout",
     "output_type": "stream",
     "text": [
      "Valor informado é inválido. Reiniciando a aplicação...\n",
      "Valor informado é inválido. Reiniciando a aplicação...\n",
      "01/04/1998\n"
     ]
    }
   ],
   "source": [
    "on = True\n",
    "while True:\n",
    "    try:\n",
    "        dia = int(input('Insira o dia: '))\n",
    "\n",
    "        mes = int(input('Insira o mês: '))\n",
    "        if mes >= 13:\n",
    "            mes = input('Valor incorreto. Insira novamente o mês: ')  \n",
    "        ano = input('Insira o ano com quatro digitos: ')\n",
    "        qtd_caracteres_ano = len(ano)\n",
    "        if qtd_caracteres_ano<4:\n",
    "            ano = input('Insira novamente o ano com quatro digitos: ')\n",
    "        print(\"{:0>2}/{:0>2}/{}\".format(dia, mes, ano))\n",
    "        on = False\n",
    "        break    \n",
    "    except:\n",
    "        on = False\n",
    "        on = True\n",
    "        print(\"Valor informado é inválido. Reiniciando a aplicação...\")"
   ]
  },
  {
   "cell_type": "markdown",
   "metadata": {},
   "source": [
    "Usando datetime - Solução do Aristides:"
   ]
  },
  {
   "cell_type": "code",
   "execution_count": 7,
   "metadata": {},
   "outputs": [
    {
     "name": "stdout",
     "output_type": "stream",
     "text": [
      "Hoje é: 04/03/0002\n"
     ]
    }
   ],
   "source": [
    "import datetime\n",
    "\n",
    "a = datetime.datetime(int(input('Insira o ano: ')), int(input('Insira o mês: ')), int(input('Insira o dia: ')))\n",
    "print(a.strftime('Hoje é: %d/%m/%Y'))"
   ]
  }
 ],
 "metadata": {
  "colab": {
   "name": "Lista_01.ipynb",
   "provenance": []
  },
  "kernelspec": {
   "display_name": "Python 3.10.5 64-bit",
   "language": "python",
   "name": "python3"
  },
  "language_info": {
   "codemirror_mode": {
    "name": "ipython",
    "version": 3
   },
   "file_extension": ".py",
   "mimetype": "text/x-python",
   "name": "python",
   "nbconvert_exporter": "python",
   "pygments_lexer": "ipython3",
   "version": "3.10.5"
  },
  "vscode": {
   "interpreter": {
    "hash": "d1d9262175893a3f9c089c524f593192d5b8538f6ec9ef6d8235214e3dc272a1"
   }
  }
 },
 "nbformat": 4,
 "nbformat_minor": 1
}
