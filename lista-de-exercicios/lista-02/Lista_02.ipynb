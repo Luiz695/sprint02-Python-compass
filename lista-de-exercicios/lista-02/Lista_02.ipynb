{
 "cells": [
  {
   "cell_type": "markdown",
   "metadata": {},
   "source": [
    "# Exercícios Pandas"
   ]
  },
  {
   "cell_type": "markdown",
   "metadata": {},
   "source": [
    "## Exercício 1"
   ]
  },
  {
   "cell_type": "markdown",
   "metadata": {},
   "source": [
    "Leia o arquivo actors.csv e faça os seguintes cálculos sobre o conjunto de dados utilizando Pandas\n",
    "\n",
    "• O ator/atriz com maior número de filmes e o respectivo número de filmes.\n",
    "\n",
    "• A média do número de filmes.\n",
    "\n",
    "• O ator/atriz com a maior média por filme.\n",
    "\n",
    "• O nome do(s) filme(s) mais frequente(s) e sua respectiva frequência."
   ]
  },
  {
   "cell_type": "markdown",
   "metadata": {},
   "source": [
    "## Exercício 2"
   ]
  },
  {
   "cell_type": "markdown",
   "metadata": {},
   "source": [
    "Leia o arquivo csv googleplaystore.csv e realize as seguintes atividades sobre o dataset utilizando Pandas:\n",
    "\n",
    "• Faça um gráfico de barras contendo os top 5 apps por número de instalação.\n",
    "\n",
    "• Faça um gráfico de pizza (pie chart) mostrando as categorias de apps existentes no dataset de acordo com a frequência em que elas aparecem.\n",
    "\n",
    "• Mostre qual o app mais caro existente no dataset.\n",
    "\n",
    "• Mostre quantos apps são classificados como “Mature 17+”.\n",
    "\n",
    "• Mostre o top 10 apps por número de reviews bem como o respectivo número de reviews. Ordene a lista de forma decrescente por número de reviews."
   ]
  },
  {
   "cell_type": "markdown",
   "metadata": {},
   "source": [
    "## Exercício 3"
   ]
  },
  {
   "cell_type": "markdown",
   "metadata": {},
   "source": [
    "Leia o arquivo csv wines_SPA.csv e realize as seguintes atividades sobre o dataset utilizando Pandas:\n",
    "\n",
    "• Mostre qual a vinícola (winery) que possui o maior número de reviews (num_reviews) nos últimos 20 anos.\n",
    "\n",
    "• Mostre quais são as 5 regiões com a média de preço mais alta e mais baixa.\n",
    "\n",
    "• A acidez (acidity) varia entre valores até 5, mostre a média de acidez por ano em todo o intervalo existente na coluna ano (year).\n",
    "\n",
    "• Mostre qual vinho (wine) possui o maior número de safras em todo o intervalo existente na coluna ano (year)."
   ]
  },
  {
   "cell_type": "markdown",
   "metadata": {},
   "source": [
    "# Exercícios NumPy"
   ]
  },
  {
   "cell_type": "markdown",
   "metadata": {},
   "source": [
    "## Exercício 1"
   ]
  },
  {
   "cell_type": "markdown",
   "metadata": {},
   "source": [
    "Crie um array 5x5 com a sequência 1...25 (incluso) e faça a soma dos elementos da diagonal."
   ]
  },
  {
   "cell_type": "code",
   "execution_count": null,
   "metadata": {},
   "outputs": [],
   "source": []
  },
  {
   "cell_type": "markdown",
   "metadata": {},
   "source": [
    "## Exercício 2"
   ]
  },
  {
   "cell_type": "markdown",
   "metadata": {},
   "source": [
    "Crie um array 5x5 com a sequência de números pares entre 0...50 (incluso) e faça as seguintes operações:\n",
    "\n",
    "• Soma das linhas\n",
    "\n",
    "• Soma das Colunas\n",
    "\n",
    "• Média dos elementos da última linha\n",
    "\n",
    "• Média dos elementos da última coluna"
   ]
  },
  {
   "cell_type": "code",
   "execution_count": null,
   "metadata": {},
   "outputs": [],
   "source": []
  },
  {
   "cell_type": "markdown",
   "metadata": {},
   "source": [
    "## Exercício 3"
   ]
  },
  {
   "cell_type": "markdown",
   "metadata": {},
   "source": [
    "Dado o array 2D abaixo, substitua o seu maior valor por 0.\n",
    "• np.random.normal(0, 3, size=(5, 5))"
   ]
  },
  {
   "cell_type": "code",
   "execution_count": null,
   "metadata": {},
   "outputs": [],
   "source": []
  },
  {
   "cell_type": "markdown",
   "metadata": {},
   "source": [
    "## Exercício 4"
   ]
  },
  {
   "cell_type": "markdown",
   "metadata": {},
   "source": [
    "A partir das arrays abaixo, caso seja possível, realize o produto das mesmas:\n",
    "\n",
    "• np.random.uniform(size=(5, 3))\n",
    "\n",
    "• np.random.uniform(size=(3, 4))"
   ]
  },
  {
   "cell_type": "markdown",
   "metadata": {},
   "source": [
    "## Exercício 5"
   ]
  },
  {
   "cell_type": "markdown",
   "metadata": {},
   "source": [
    "Dado o array abaixo, converta-o para um array do tipo int32.\n",
    "• np.arange(9, dtype=np.float32).reshape(3, 3)"
   ]
  },
  {
   "cell_type": "markdown",
   "metadata": {},
   "source": [
    "## Exercício 6"
   ]
  },
  {
   "cell_type": "markdown",
   "metadata": {},
   "source": [
    "Dado o array abaixo, some 10 em todos os elementos da última coluna.\n",
    "• np.random.uniform(size=(8, 8))"
   ]
  },
  {
   "cell_type": "markdown",
   "metadata": {},
   "source": [
    "## Exercício 7"
   ]
  },
  {
   "cell_type": "markdown",
   "metadata": {},
   "source": [
    "Dados os dois arrays 2x4 abaixo, empilhe ambos formando um novo array 4x4.\n",
    "\n",
    "• np.array([[0,3,4,5], [7, 10, 9, 2]])\n",
    "\n",
    "• np.array([[1,4,9,12], [15, 22, 19, 17]])\n"
   ]
  },
  {
   "cell_type": "markdown",
   "metadata": {},
   "source": [
    "## Exercício 8"
   ]
  },
  {
   "cell_type": "markdown",
   "metadata": {},
   "source": [
    "Dado o array definido por np.arange(25).reshape(5, 5), realize as seguintes operações sem utilizar nenhum tipo de loop (for / while):\n",
    "\n",
    "• A média das linhas 0, 2 e 3.\n",
    "\n",
    "• A média das colunas 0, 1 e 4.\n",
    "\n",
    "• A soma dos elementos das duas diagonais."
   ]
  },
  {
   "cell_type": "markdown",
   "metadata": {},
   "source": [
    "## Exercício 9"
   ]
  },
  {
   "cell_type": "markdown",
   "metadata": {},
   "source": [
    "Dado o array abaixo, selecione os valores Pares e todos os valores maiores que 8, seu código não deve conter nenhum tipo de loop (for / while):\n",
    "\n",
    "• np.arange(25).reshape(5, 5)"
   ]
  },
  {
   "cell_type": "markdown",
   "metadata": {},
   "source": [
    "## Exercício 10"
   ]
  },
  {
   "cell_type": "markdown",
   "metadata": {},
   "source": [
    "Dado o array 2D abaixo, substitua os 5 menores valores por -1, seu código não deve conter nenhum tipo de loop (for / while):\n",
    "\n",
    "• a = np.random.randint(0, 50, (5, 5))"
   ]
  }
 ],
 "metadata": {
  "kernelspec": {
   "display_name": "Python 3.10.5 64-bit",
   "language": "python",
   "name": "python3"
  },
  "language_info": {
   "name": "python",
   "version": "3.10.5"
  },
  "orig_nbformat": 4,
  "vscode": {
   "interpreter": {
    "hash": "d1d9262175893a3f9c089c524f593192d5b8538f6ec9ef6d8235214e3dc272a1"
   }
  }
 },
 "nbformat": 4,
 "nbformat_minor": 2
}
