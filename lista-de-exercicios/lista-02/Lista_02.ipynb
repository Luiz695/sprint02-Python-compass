{
 "cells": [
  {
   "cell_type": "markdown",
   "metadata": {},
   "source": [
    "# Exercícios Pandas"
   ]
  },
  {
   "cell_type": "markdown",
   "metadata": {},
   "source": [
    "## Exercício 1"
   ]
  },
  {
   "cell_type": "markdown",
   "metadata": {},
   "source": [
    "Leia o arquivo actors.csv e faça os seguintes cálculos sobre o conjunto de dados utilizando Pandas\n",
    "\n",
    "• O ator/atriz com maior número de filmes e o respectivo número de filmes.\n",
    "\n",
    "• A média do número de filmes.\n",
    "\n",
    "• O ator/atriz com a maior média por filme.\n",
    "\n",
    "• O nome do(s) filme(s) mais frequente(s) e sua respectiva frequência."
   ]
  },
  {
   "cell_type": "markdown",
   "metadata": {},
   "source": [
    "## Exercício 2"
   ]
  },
  {
   "cell_type": "markdown",
   "metadata": {},
   "source": [
    "Leia o arquivo csv googleplaystore.csv e realize as seguintes atividades sobre o dataset utilizando Pandas:\n",
    "\n",
    "• Faça um gráfico de barras contendo os top 5 apps por número de instalação.\n",
    "\n",
    "• Faça um gráfico de pizza (pie chart) mostrando as categorias de apps existentes no dataset de acordo com a frequência em que elas aparecem.\n",
    "\n",
    "• Mostre qual o app mais caro existente no dataset.\n",
    "\n",
    "• Mostre quantos apps são classificados como “Mature 17+”.\n",
    "\n",
    "• Mostre o top 10 apps por número de reviews bem como o respectivo número de reviews. Ordene a lista de forma decrescente por número de reviews."
   ]
  },
  {
   "cell_type": "markdown",
   "metadata": {},
   "source": [
    "## Exercício 3"
   ]
  },
  {
   "cell_type": "markdown",
   "metadata": {},
   "source": [
    "Leia o arquivo csv wines_SPA.csv e realize as seguintes atividades sobre o dataset utilizando Pandas:\n",
    "\n",
    "• Mostre qual a vinícola (winery) que possui o maior número de reviews (num_reviews) nos últimos 20 anos.\n",
    "\n",
    "• Mostre quais são as 5 regiões com a média de preço mais alta e mais baixa.\n",
    "\n",
    "• A acidez (acidity) varia entre valores até 5, mostre a média de acidez por ano em todo o intervalo existente na coluna ano (year).\n",
    "\n",
    "• Mostre qual vinho (wine) possui o maior número de safras em todo o intervalo existente na coluna ano (year)."
   ]
  },
  {
   "cell_type": "markdown",
   "metadata": {},
   "source": [
    "# Exercícios NumPy"
   ]
  },
  {
   "cell_type": "markdown",
   "metadata": {},
   "source": [
    "## Exercício 1"
   ]
  },
  {
   "cell_type": "markdown",
   "metadata": {},
   "source": [
    "Crie um array 5x5 com a sequência 1...25 (incluso) e faça a soma dos elementos da diagonal."
   ]
  },
  {
   "cell_type": "code",
   "execution_count": 9,
   "metadata": {},
   "outputs": [
    {
     "name": "stdout",
     "output_type": "stream",
     "text": [
      "Array: \n",
      " [ 1  2  3  4  5  6  7  8  9 10 11 12 13 14 15 16 17 18 19 20 21 22 23 24\n",
      " 25] \n",
      " Forma do array: (25,) \n",
      "\n",
      "Array 5 x 5: \n",
      " [[ 1  2  3  4  5]\n",
      " [ 6  7  8  9 10]\n",
      " [11 12 13 14 15]\n",
      " [16 17 18 19 20]\n",
      " [21 22 23 24 25]] \n",
      " Forma do array:  (5, 5) \n",
      "\n",
      "Diagonal do Array: \n",
      " [ 1  7 13 19 25] \n",
      "\n",
      "Soma dos elementos da diagonal:  65\n"
     ]
    }
   ],
   "source": [
    "import numpy as np\n",
    "array = np.array(range(1,26))\n",
    "print('Array: \\n', array, '\\n Forma do array:', array.shape, '\\n')\n",
    "new_array= array.reshape((5, 5))\n",
    "print('Array 5 x 5: \\n', new_array, '\\n Forma do array: ', new_array.shape, '\\n')\n",
    "diagonal = np.diagonal(new_array)\n",
    "print('Diagonal do Array: \\n', diagonal, '\\n')\n",
    "print('Soma dos elementos da diagonal: ', np.sum(diagonal))"
   ]
  },
  {
   "cell_type": "markdown",
   "metadata": {},
   "source": [
    "## Exercício 2"
   ]
  },
  {
   "cell_type": "markdown",
   "metadata": {},
   "source": [
    "Crie um array 5x5 com a sequência de números pares entre 0...50 (incluso) e faça as seguintes operações:\n",
    "\n",
    "• Soma das linhas\n",
    "\n",
    "• Soma das Colunas\n",
    "\n",
    "• Média dos elementos da última linha\n",
    "\n",
    "• Média dos elementos da última coluna"
   ]
  },
  {
   "cell_type": "code",
   "execution_count": 13,
   "metadata": {},
   "outputs": [
    {
     "name": "stdout",
     "output_type": "stream",
     "text": [
      "Array: \n",
      " [ 0  2  4  6  8 10 12 14 16 18 20 22 24 26 28 30 32 34 36 38 40 42 44 46\n",
      " 48 50] \n",
      "\n"
     ]
    },
    {
     "ename": "ValueError",
     "evalue": "cannot reshape array of size 26 into shape (5,5)",
     "output_type": "error",
     "traceback": [
      "\u001b[1;31m---------------------------------------------------------------------------\u001b[0m",
      "\u001b[1;31mValueError\u001b[0m                                Traceback (most recent call last)",
      "\u001b[1;32mc:\\Users\\Anne Karoline\\OneDrive\\Área de Trabalho\\Estágio-Compass\\Sprint02-Python\\sprint02-Python-compass\\lista-de-exercicios\\lista-02\\Lista_02.ipynb Célula: 14\u001b[0m in \u001b[0;36m<cell line: 4>\u001b[1;34m()\u001b[0m\n\u001b[0;32m      <a href='vscode-notebook-cell:/c%3A/Users/Anne%20Karoline/OneDrive/%C3%81rea%20de%20Trabalho/Est%C3%A1gio-Compass/Sprint02-Python/sprint02-Python-compass/lista-de-exercicios/lista-02/Lista_02.ipynb#X14sZmlsZQ%3D%3D?line=1'>2</a>\u001b[0m array \u001b[39m=\u001b[39m np\u001b[39m.\u001b[39marray(\u001b[39mrange\u001b[39m(\u001b[39m0\u001b[39m, \u001b[39m51\u001b[39m, \u001b[39m2\u001b[39m))\n\u001b[0;32m      <a href='vscode-notebook-cell:/c%3A/Users/Anne%20Karoline/OneDrive/%C3%81rea%20de%20Trabalho/Est%C3%A1gio-Compass/Sprint02-Python/sprint02-Python-compass/lista-de-exercicios/lista-02/Lista_02.ipynb#X14sZmlsZQ%3D%3D?line=2'>3</a>\u001b[0m \u001b[39mprint\u001b[39m(\u001b[39m'\u001b[39m\u001b[39mArray: \u001b[39m\u001b[39m\\n\u001b[39;00m\u001b[39m'\u001b[39m, array, \u001b[39m'\u001b[39m\u001b[39m\\n\u001b[39;00m\u001b[39m'\u001b[39m)\n\u001b[1;32m----> <a href='vscode-notebook-cell:/c%3A/Users/Anne%20Karoline/OneDrive/%C3%81rea%20de%20Trabalho/Est%C3%A1gio-Compass/Sprint02-Python/sprint02-Python-compass/lista-de-exercicios/lista-02/Lista_02.ipynb#X14sZmlsZQ%3D%3D?line=3'>4</a>\u001b[0m new_array \u001b[39m=\u001b[39m array\u001b[39m.\u001b[39;49mreshape((\u001b[39m5\u001b[39;49m, \u001b[39m5\u001b[39;49m))\n",
      "\u001b[1;31mValueError\u001b[0m: cannot reshape array of size 26 into shape (5,5)"
     ]
    }
   ],
   "source": [
    "import numpy as np\n",
    "array = np.array(range(0, 51, 2))\n",
    "print('Array: \\n', array, '\\n')\n",
    "new_array = array.reshape((5, 5))\n"
   ]
  },
  {
   "cell_type": "markdown",
   "metadata": {},
   "source": [
    "## Exercício 3"
   ]
  },
  {
   "cell_type": "markdown",
   "metadata": {},
   "source": [
    "Dado o array 2D abaixo, substitua o seu maior valor por 0.\n",
    "\n",
    "• np.random.normal(0, 3, size=(5, 5))"
   ]
  },
  {
   "cell_type": "code",
   "execution_count": 17,
   "metadata": {},
   "outputs": [
    {
     "name": "stdout",
     "output_type": "stream",
     "text": [
      "Array Numpy: \n",
      " [[ 4.54144158  0.34972828  0.35023585 -2.06185305 -0.11831187]\n",
      " [-1.15066199  2.7973944   0.55537875  5.02401118 -1.91742797]\n",
      " [-0.98385368  0.79381043  1.07788091 11.16074087  1.23287476]\n",
      " [-3.35035426 -0.89072546 -0.2758325  -0.7046704  -0.62417932]\n",
      " [ 5.53266499 -3.89325404 -2.55086806  4.17592872  4.21652661]] \n",
      "\n",
      "Maior elemento do array: \n",
      " 11.160740873061314 \n",
      "\n",
      "Substituindo valores: \n",
      " [[ 4.54144158  0.34972828  0.35023585 -2.06185305 -0.11831187]\n",
      " [-1.15066199  2.7973944   0.55537875  5.02401118 -1.91742797]\n",
      " [-0.98385368  0.79381043  1.07788091  0.          1.23287476]\n",
      " [-3.35035426 -0.89072546 -0.2758325  -0.7046704  -0.62417932]\n",
      " [ 5.53266499 -3.89325404 -2.55086806  4.17592872  4.21652661]]\n"
     ]
    }
   ],
   "source": [
    "import numpy as np\n",
    "array = np.random.normal(0, 3, size=(5, 5))\n",
    "print('Array Numpy: \\n', array, '\\n')\n",
    "bigger_el = np.max(array)\n",
    "print('Maior elemento do array: \\n', bigger_el, '\\n')\n",
    "array[array == bigger_el] = 0\n",
    "print('Substituindo valores: \\n', array )"
   ]
  },
  {
   "cell_type": "markdown",
   "metadata": {},
   "source": [
    "## Exercício 4"
   ]
  },
  {
   "cell_type": "markdown",
   "metadata": {},
   "source": [
    "A partir das arrays abaixo, caso seja possível, realize o produto das mesmas:\n",
    "\n",
    "• np.random.uniform(size=(5, 3))\n",
    "\n",
    "• np.random.uniform(size=(3, 4))"
   ]
  },
  {
   "cell_type": "code",
   "execution_count": 35,
   "metadata": {},
   "outputs": [
    {
     "name": "stdout",
     "output_type": "stream",
     "text": [
      "Array Numpy 01: \n",
      " [[0.96283344 0.79132353 0.58504042]\n",
      " [0.88927244 0.81847994 0.30253998]\n",
      " [0.01783104 0.2001454  0.14262327]\n",
      " [0.84263986 0.32918936 0.63578945]\n",
      " [0.90463708 0.27955251 0.80117518]] \n",
      "\n",
      "Array Numpy 02: \n",
      " [[0.4519881  0.1802943  0.74802938 0.69263676]\n",
      " [0.50030996 0.00770025 0.66099316 0.16339944]\n",
      " [0.32076746 0.98188971 0.2271187  0.87805776]] \n",
      "\n",
      "Produto dos Arrays Numpy: \n",
      " [[1.01875823 0.75413194 1.37616076 1.30989494]\n",
      " [0.9084792  0.46369415 1.27492404 1.01532953]\n",
      " [0.15394306 0.14479632 0.17802529 0.17028555]\n",
      " [0.74950047 0.77873312 0.99231096 1.19569256]\n",
      " [0.80573903 0.9519192  1.04343928 1.37574171]] \n",
      "\n"
     ]
    }
   ],
   "source": [
    "import numpy as np\n",
    "\n",
    "array_1 = np.random.uniform(size=(5, 3))\n",
    "array_2 = np.random.uniform(size=(3, 4))\n",
    "print('Array Numpy 01: \\n', array_1, '\\n')\n",
    "print('Array Numpy 02: \\n', array_2, '\\n')\n",
    "\n",
    "array_3 = np.dot(array_1, array_2)\n",
    "print('Produto dos Arrays Numpy: \\n', array_3, '\\n')"
   ]
  },
  {
   "cell_type": "markdown",
   "metadata": {},
   "source": [
    "## Exercício 5"
   ]
  },
  {
   "cell_type": "markdown",
   "metadata": {},
   "source": [
    "Dado o array abaixo, converta-o para um array do tipo int32.\n",
    "\n",
    "• np.arange(9, dtype=np.float32).reshape(3, 3)"
   ]
  },
  {
   "cell_type": "code",
   "execution_count": 27,
   "metadata": {},
   "outputs": [
    {
     "name": "stdout",
     "output_type": "stream",
     "text": [
      "Array Numpy: \n",
      " [[0. 1. 2.]\n",
      " [3. 4. 5.]\n",
      " [6. 7. 8.]] \n",
      "\n",
      "List: \n",
      " [[0.0, 1.0, 2.0], [3.0, 4.0, 5.0], [6.0, 7.0, 8.0]] \n",
      "\n",
      "Array Numpy convertido: \n",
      " [[0 1 2]\n",
      " [3 4 5]\n",
      " [6 7 8]] \n",
      "\n"
     ]
    }
   ],
   "source": [
    "import numpy as np\n",
    "\n",
    "array = np.arange(9, dtype=np.float32).reshape(3, 3)\n",
    "print('Array Numpy: \\n', array, '\\n')\n",
    "print('List: \\n', array.tolist(), '\\n')\n",
    "list_to_array = np.array(array.tolist(), dtype=np.int32)\n",
    "print('Array Numpy convertido: \\n', list_to_array, '\\n')"
   ]
  },
  {
   "cell_type": "markdown",
   "metadata": {},
   "source": [
    "## Exercício 6"
   ]
  },
  {
   "cell_type": "markdown",
   "metadata": {},
   "source": [
    "Dado o array abaixo, some 10 em todos os elementos da última coluna.\n",
    "\n",
    "• np.random.uniform(size=(8, 8))"
   ]
  },
  {
   "cell_type": "code",
   "execution_count": 28,
   "metadata": {},
   "outputs": [
    {
     "name": "stdout",
     "output_type": "stream",
     "text": [
      "Array Numpy: \n",
      " [[0.28718189 0.67286187 0.30741605 0.38794014 0.5625901  0.98710653\n",
      "  0.13749034 0.7416226 ]\n",
      " [0.20922001 0.39215922 0.45377661 0.88534094 0.0586739  0.45884635\n",
      "  0.75104703 0.25911796]\n",
      " [0.63454374 0.79158911 0.92265604 0.39600299 0.0575524  0.20280185\n",
      "  0.79518536 0.55324356]\n",
      " [0.57350758 0.87475948 0.45008437 0.03238764 0.23560215 0.4508947\n",
      "  0.61821757 0.59828692]\n",
      " [0.47251415 0.24389477 0.52279359 0.43510507 0.64978028 0.17838131\n",
      "  0.05558135 0.31886208]\n",
      " [0.04813614 0.1835944  0.73209101 0.6109577  0.77197981 0.72749363\n",
      "  0.60578479 0.82590751]\n",
      " [0.64186037 0.29571695 0.25132711 0.3974988  0.8911412  0.59838545\n",
      "  0.50682692 0.84724064]\n",
      " [0.98974625 0.07316472 0.03311386 0.12662416 0.43603435 0.31773999\n",
      "  0.34661913 0.91565578]] \n",
      "\n",
      "New Array Numpy: \n",
      " [[10.28718189 10.67286187 10.30741605 10.38794014 10.5625901  10.98710653\n",
      "  10.13749034 10.7416226 ]\n",
      " [10.20922001 10.39215922 10.45377661 10.88534094 10.0586739  10.45884635\n",
      "  10.75104703 10.25911796]\n",
      " [10.63454374 10.79158911 10.92265604 10.39600299 10.0575524  10.20280185\n",
      "  10.79518536 10.55324356]\n",
      " [10.57350758 10.87475948 10.45008437 10.03238764 10.23560215 10.4508947\n",
      "  10.61821757 10.59828692]\n",
      " [10.47251415 10.24389477 10.52279359 10.43510507 10.64978028 10.17838131\n",
      "  10.05558135 10.31886208]\n",
      " [10.04813614 10.1835944  10.73209101 10.6109577  10.77197981 10.72749363\n",
      "  10.60578479 10.82590751]\n",
      " [10.64186037 10.29571695 10.25132711 10.3974988  10.8911412  10.59838545\n",
      "  10.50682692 10.84724064]\n",
      " [10.98974625 10.07316472 10.03311386 10.12662416 10.43603435 10.31773999\n",
      "  10.34661913 10.91565578]] \n",
      "\n"
     ]
    }
   ],
   "source": [
    "import pandas as pd\n",
    "\n",
    "array = np.random.uniform(size=(8, 8))\n",
    "print('Array Numpy: \\n', array, '\\n')\n",
    "new_array = 10 + array\n",
    "print('New Array Numpy: \\n', new_array, '\\n')"
   ]
  },
  {
   "cell_type": "markdown",
   "metadata": {},
   "source": [
    "## Exercício 7"
   ]
  },
  {
   "cell_type": "markdown",
   "metadata": {},
   "source": [
    "Dados os dois arrays 2x4 abaixo, empilhe ambos formando um novo array 4x4.\n",
    "\n",
    "• np.array([[0,3,4,5], [7, 10, 9, 2]])\n",
    "\n",
    "• np.array([[1,4,9,12], [15, 22, 19, 17]])\n"
   ]
  },
  {
   "cell_type": "code",
   "execution_count": 30,
   "metadata": {},
   "outputs": [
    {
     "name": "stdout",
     "output_type": "stream",
     "text": [
      "Array Numpy 01: \n",
      " [[ 0  3  4  5]\n",
      " [ 7 10  9  2]] \n",
      " Forma do array numpy: \n",
      " (2, 4) \n",
      "\n",
      "Array Numpy 02: \n",
      " [[ 1  4  9 12]\n",
      " [15 22 19 17]] \n",
      " Forma do array numpy: \n",
      " (2, 4) \n",
      "\n",
      "New Array Numpy: \n",
      " [[ 0  3  4  5]\n",
      " [ 7 10  9  2]\n",
      " [ 1  4  9 12]\n",
      " [15 22 19 17]] \n",
      " Forma do array numpy: \n",
      " (4, 4)\n"
     ]
    }
   ],
   "source": [
    "import numpy as np\n",
    "\n",
    "array_01 = np.array([[0,3,4,5], [7, 10, 9, 2]])\n",
    "array_02 = np.array([[1,4,9,12], [15, 22, 19, 17]])\n",
    "print('Array Numpy 01: \\n', array_01, '\\n', 'Forma do array numpy: \\n', array_01.shape, '\\n')\n",
    "print('Array Numpy 02: \\n', array_02, '\\n', 'Forma do array numpy: \\n', array_02.shape, '\\n')\n",
    "array_03 = np.concatenate((array_01, array_02))\n",
    "print('New Array Numpy: \\n', array_03, '\\n', 'Forma do array numpy: \\n', array_03.shape)\n"
   ]
  },
  {
   "cell_type": "markdown",
   "metadata": {},
   "source": [
    "## Exercício 8"
   ]
  },
  {
   "cell_type": "markdown",
   "metadata": {},
   "source": [
    "Dado o array definido por np.arange(25).reshape(5, 5), realize as seguintes operações sem utilizar nenhum tipo de loop (for / while):\n",
    "\n",
    "• A média das linhas 0, 2 e 3.\n",
    "\n",
    "• A média das colunas 0, 1 e 4.\n",
    "\n",
    "• A soma dos elementos das duas diagonais."
   ]
  },
  {
   "cell_type": "code",
   "execution_count": 67,
   "metadata": {},
   "outputs": [
    {
     "name": "stdout",
     "output_type": "stream",
     "text": [
      "Array Numpy: \n",
      " [[ 0  1  2  3  4]\n",
      " [ 5  6  7  8  9]\n",
      " [10 11 12 13 14]\n",
      " [15 16 17 18 19]\n",
      " [20 21 22 23 24]] \n",
      " \n",
      " \n",
      "Linha 0:  [0 1 2 3 4]\n",
      "Linha 2:  [10 11 12 13 14]\n",
      "Linha 3:  [15 16 17 18 19] \n",
      "\n",
      "Coluna 0:  [ 0  5 10 15 20]\n",
      "Coluna 1:  [ 1  6 11 16 21]\n",
      "Coluna 4:  [ 4  9 14 19 24] \n",
      "\n",
      "Média das linhas:  12.0\n",
      "Média de cada linha:  [ 2.  7. 12. 17. 22.]\n",
      "Média da linha 0:  2.0\n",
      "Média da linha 2:  12.0\n",
      "Média da linha 3:  17.0 \n",
      "\n",
      "Média das colunas:  [[ 0  1  2  3  4]\n",
      " [ 5  6  7  8  9]\n",
      " [10 11 12 13 14]\n",
      " [15 16 17 18 19]\n",
      " [20 21 22 23 24]]\n",
      "Média de cada coluna:  [10. 11. 12. 13. 14.]\n",
      "Média da coluna 0:  10.0\n",
      "Média da coluna 1:  11.0\n",
      "Média da coluna 4:  14.0 \n",
      "\n"
     ]
    },
    {
     "ename": "ValueError",
     "evalue": "diag requires an array of at least two dimensions",
     "output_type": "error",
     "traceback": [
      "\u001b[1;31m---------------------------------------------------------------------------\u001b[0m",
      "\u001b[1;31mValueError\u001b[0m                                Traceback (most recent call last)",
      "\u001b[1;32mc:\\Users\\Anne Karoline\\OneDrive\\Área de Trabalho\\Estágio-Compass\\Sprint02-Python\\sprint02-Python-compass\\lista-de-exercicios\\lista-02\\Lista_02.ipynb Célula: 32\u001b[0m in \u001b[0;36m<cell line: 27>\u001b[1;34m()\u001b[0m\n\u001b[0;32m     <a href='vscode-notebook-cell:/c%3A/Users/Anne%20Karoline/OneDrive/%C3%81rea%20de%20Trabalho/Est%C3%A1gio-Compass/Sprint02-Python/sprint02-Python-compass/lista-de-exercicios/lista-02/Lista_02.ipynb#X43sZmlsZQ%3D%3D?line=23'>24</a>\u001b[0m \u001b[39mprint\u001b[39m(\u001b[39m'\u001b[39m\u001b[39mMédia da coluna 4: \u001b[39m\u001b[39m'\u001b[39m, np\u001b[39m.\u001b[39mmean(array[:,\u001b[39m4\u001b[39m]), \u001b[39m'\u001b[39m\u001b[39m\\n\u001b[39;00m\u001b[39m'\u001b[39m)\n\u001b[0;32m     <a href='vscode-notebook-cell:/c%3A/Users/Anne%20Karoline/OneDrive/%C3%81rea%20de%20Trabalho/Est%C3%A1gio-Compass/Sprint02-Python/sprint02-Python-compass/lista-de-exercicios/lista-02/Lista_02.ipynb#X43sZmlsZQ%3D%3D?line=25'>26</a>\u001b[0m diagonal_01 \u001b[39m=\u001b[39m np\u001b[39m.\u001b[39mdiagonal(array)\n\u001b[1;32m---> <a href='vscode-notebook-cell:/c%3A/Users/Anne%20Karoline/OneDrive/%C3%81rea%20de%20Trabalho/Est%C3%A1gio-Compass/Sprint02-Python/sprint02-Python-compass/lista-de-exercicios/lista-02/Lista_02.ipynb#X43sZmlsZQ%3D%3D?line=26'>27</a>\u001b[0m diagonal_02 \u001b[39m=\u001b[39m np\u001b[39m.\u001b[39;49mdiagonal(array[\u001b[39m-\u001b[39;49m\u001b[39m1\u001b[39;49m])\n\u001b[0;32m     <a href='vscode-notebook-cell:/c%3A/Users/Anne%20Karoline/OneDrive/%C3%81rea%20de%20Trabalho/Est%C3%A1gio-Compass/Sprint02-Python/sprint02-Python-compass/lista-de-exercicios/lista-02/Lista_02.ipynb#X43sZmlsZQ%3D%3D?line=27'>28</a>\u001b[0m \u001b[39mprint\u001b[39m(\u001b[39m'\u001b[39m\u001b[39mDiagonal 01: \u001b[39m\u001b[39m'\u001b[39m, diagonal_01)\n\u001b[0;32m     <a href='vscode-notebook-cell:/c%3A/Users/Anne%20Karoline/OneDrive/%C3%81rea%20de%20Trabalho/Est%C3%A1gio-Compass/Sprint02-Python/sprint02-Python-compass/lista-de-exercicios/lista-02/Lista_02.ipynb#X43sZmlsZQ%3D%3D?line=28'>29</a>\u001b[0m \u001b[39mprint\u001b[39m(\u001b[39m'\u001b[39m\u001b[39mDiagonal 02: \u001b[39m\u001b[39m'\u001b[39m, diagonal_02)\n",
      "File \u001b[1;32m<__array_function__ internals>:180\u001b[0m, in \u001b[0;36mdiagonal\u001b[1;34m(*args, **kwargs)\u001b[0m\n",
      "File \u001b[1;32mc:\\Users\\Anne Karoline\\AppData\\Local\\Programs\\Python\\Python310\\lib\\site-packages\\numpy\\core\\fromnumeric.py:1679\u001b[0m, in \u001b[0;36mdiagonal\u001b[1;34m(a, offset, axis1, axis2)\u001b[0m\n\u001b[0;32m   1677\u001b[0m     \u001b[39mreturn\u001b[39;00m asarray(a)\u001b[39m.\u001b[39mdiagonal(offset\u001b[39m=\u001b[39moffset, axis1\u001b[39m=\u001b[39maxis1, axis2\u001b[39m=\u001b[39maxis2)\n\u001b[0;32m   1678\u001b[0m \u001b[39melse\u001b[39;00m:\n\u001b[1;32m-> 1679\u001b[0m     \u001b[39mreturn\u001b[39;00m asanyarray(a)\u001b[39m.\u001b[39;49mdiagonal(offset\u001b[39m=\u001b[39;49moffset, axis1\u001b[39m=\u001b[39;49maxis1, axis2\u001b[39m=\u001b[39;49maxis2)\n",
      "\u001b[1;31mValueError\u001b[0m: diag requires an array of at least two dimensions"
     ]
    }
   ],
   "source": [
    "import numpy as np\n",
    "\n",
    "array = np.arange(25).reshape(5, 5)\n",
    "print('Array Numpy: \\n', array, '\\n \\n ')\n",
    "print('Linha 0: ', array[0])\n",
    "print('Linha 2: ', array[2])\n",
    "print('Linha 3: ', array[3], '\\n')\n",
    "print('Coluna 0: ', array[:, 0] )\n",
    "print('Coluna 1: ', array[:, 1])\n",
    "print('Coluna 4: ', array[:, 4],'\\n' )\n",
    "\n",
    "media_linhas = np.mean(array, axis = 1)\n",
    "\n",
    "print('Média das linhas: ', np.mean(array))\n",
    "print('Média de cada linha: ', array.mean(axis=1) )\n",
    "print('Média da linha 0: ',  np.mean(array[0]))\n",
    "print('Média da linha 2: ',  np.mean(array[2]))\n",
    "print('Média da linha 3: ',  np.mean(array[3]), '\\n')\n",
    "\n",
    "print('Média das colunas: ')\n",
    "print('Média de cada coluna: ', array.mean(axis=0) )\n",
    "print('Média da coluna 0: ', np.mean(array[:,0]))\n",
    "print('Média da coluna 1: ', np.mean(array[:,1]))\n",
    "print('Média da coluna 4: ', np.mean(array[:,4]), '\\n')\n",
    "\n",
    "diagonal_01 = np.diagonal(array)\n",
    "diagonal_02 = np.diagonal(array[-1])\n",
    "print('Diagonal 01: ', diagonal_01)\n",
    "print('Diagonal 02: ', diagonal_02)\n",
    "print('Soma da diagonal 01: ')\n",
    "print('Soma da diagonal 02: ')\n",
    "print('Soma das duas diagonais: ', '\\n')\n"
   ]
  },
  {
   "cell_type": "markdown",
   "metadata": {},
   "source": [
    "## Exercício 9"
   ]
  },
  {
   "cell_type": "markdown",
   "metadata": {},
   "source": [
    "Dado o array abaixo, selecione os valores Pares e todos os valores maiores que 8, seu código não deve conter nenhum tipo de loop (for / while):\n",
    "\n",
    "• np.arange(25).reshape(5, 5)"
   ]
  },
  {
   "cell_type": "code",
   "execution_count": 40,
   "metadata": {},
   "outputs": [
    {
     "name": "stdout",
     "output_type": "stream",
     "text": [
      "Array Numpy: \n",
      " [[ 0  1  2  3  4]\n",
      " [ 5  6  7  8  9]\n",
      " [10 11 12 13 14]\n",
      " [15 16 17 18 19]\n",
      " [20 21 22 23 24]] \n",
      "\n",
      "Pares do Array Numpy: \n",
      " [ 0  2  4  6  8 10 12 14 16 18 20 22 24] \n",
      "\n",
      "Valores > 8 do Array Numpy: \n",
      " [ 9 10 11 12 13 14 15 16 17 18 19 20 21 22 23 24] \n",
      "\n",
      "Seleção de valores pares e valores > 8 do Array Numpy: \n",
      " [10 12 14 16 18 20 22 24] \n",
      "\n"
     ]
    }
   ],
   "source": [
    "import numpy as np\n",
    "\n",
    "array = np.arange(25).reshape(5, 5)\n",
    "print('Array Numpy: \\n', array, '\\n')\n",
    "print('Pares do Array Numpy: \\n', array[array%2==0], '\\n')\n",
    "print('Valores > 8 do Array Numpy: \\n', array[array>8], '\\n')\n",
    "new_array = array[(array%2==0)&(array>8)]\n",
    "print('Seleção de valores pares e valores > 8 do Array Numpy: \\n', new_array, '\\n')"
   ]
  },
  {
   "cell_type": "markdown",
   "metadata": {},
   "source": [
    "## Exercício 10"
   ]
  },
  {
   "cell_type": "markdown",
   "metadata": {},
   "source": [
    "Dado o array 2D abaixo, substitua os 5 menores valores por -1, seu código não deve conter nenhum tipo de loop (for / while):\n",
    "\n",
    "• a = np.random.randint(0, 50, (5, 5))"
   ]
  },
  {
   "cell_type": "code",
   "execution_count": 52,
   "metadata": {},
   "outputs": [
    {
     "name": "stdout",
     "output_type": "stream",
     "text": [
      "Array Numpy: \n",
      " [[12 26 42 46 46]\n",
      " [11 10 49 17 11]\n",
      " [10 40 49 16 47]\n",
      " [16 22 39 45 15]\n",
      " [13 15  0 14 27]] \n",
      "\n",
      "[[12, 26, 42, 46, 46], [11, 10, 49, 17, 11], [10, 40, 49, 16, 47], [16, 22, 39, 45, 15], [13, 15, 0, 14, 27]]\n",
      "Array Numpy ordenado: \n",
      "  \n",
      "\n",
      "New Array Numpy: \n",
      " futuro resultado \n",
      "\n"
     ]
    }
   ],
   "source": [
    "import numpy as np \n",
    "\n",
    "array = np.random.randint(0, 50, (5, 5))\n",
    "print('Array Numpy: \\n', array, '\\n')\n",
    "\n",
    "\n",
    "\n",
    "print('Array Numpy ordenado: \\n', '' , '\\n')\n",
    "\n",
    "print('New Array Numpy: \\n', 'futuro resultado', '\\n')\n"
   ]
  }
 ],
 "metadata": {
  "kernelspec": {
   "display_name": "Python 3.10.5 64-bit",
   "language": "python",
   "name": "python3"
  },
  "language_info": {
   "codemirror_mode": {
    "name": "ipython",
    "version": 3
   },
   "file_extension": ".py",
   "mimetype": "text/x-python",
   "name": "python",
   "nbconvert_exporter": "python",
   "pygments_lexer": "ipython3",
   "version": "3.10.5"
  },
  "orig_nbformat": 4,
  "vscode": {
   "interpreter": {
    "hash": "d1d9262175893a3f9c089c524f593192d5b8538f6ec9ef6d8235214e3dc272a1"
   }
  }
 },
 "nbformat": 4,
 "nbformat_minor": 2
}
