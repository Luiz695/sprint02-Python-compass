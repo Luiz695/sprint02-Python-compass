{
 "cells": [
  {
   "cell_type": "markdown",
   "metadata": {},
   "source": [
    "# Exercícios Pandas"
   ]
  },
  {
   "cell_type": "markdown",
   "metadata": {},
   "source": [
    "## Exercício 1"
   ]
  },
  {
   "cell_type": "markdown",
   "metadata": {},
   "source": [
    "Leia o arquivo actors.csv e faça os seguintes cálculos sobre o conjunto de dados utilizando Pandas\n",
    "\n",
    "• O ator/atriz com maior número de filmes e o respectivo número de filmes.\n",
    "\n",
    "• A média do número de filmes.\n",
    "\n",
    "• O ator/atriz com a maior média por filme.\n",
    "\n",
    "• O nome do(s) filme(s) mais frequente(s) e sua respectiva frequência."
   ]
  },
  {
   "cell_type": "markdown",
   "metadata": {},
   "source": [
    "### Leia o arquivo actors.csv"
   ]
  },
  {
   "cell_type": "code",
   "execution_count": 405,
   "metadata": {},
   "outputs": [
    {
     "name": "stdout",
     "output_type": "stream",
     "text": [
      "DataFrame de Atores: \n",
      "                      Actor  Total Gross  Number of Movies  Average per Movie  \\\n",
      "0            Harrison Ford       4871.7                41              118.8   \n",
      "1        Samuel L. Jackson       4772.8                69               69.2   \n",
      "2           Morgan Freeman       4468.3                61               73.3   \n",
      "3                Tom Hanks       4340.8                44               98.7   \n",
      "4       Robert Downey, Jr.       3947.3                53               74.5   \n",
      "5             Eddie Murphy       3810.4                38              100.3   \n",
      "6               Tom Cruise       3587.2                36               99.6   \n",
      "7              Johnny Depp       3368.6                45               74.9   \n",
      "8            Michael Caine       3351.5                58               57.8   \n",
      "9       Scarlett Johansson       3341.2                37               90.3   \n",
      "10             Gary Oldman       3294.0                38               86.7   \n",
      "11          Robin Williams       3279.3                49               66.9   \n",
      "12            Bruce Willis       3189.4                60               53.2   \n",
      "13       Stellan Skarsgard       3175.0                43               73.8   \n",
      "14         Anthony Daniels       3162.9                 7              451.8   \n",
      "15            Ian McKellen       3150.4                31              101.6   \n",
      "16              Will Smith       3149.1                24              131.2   \n",
      "17           Stanley Tucci       3123.9                50               62.5   \n",
      "18              Matt Damon       3107.3                39               79.7   \n",
      "19           Robert DeNiro       3081.3                79               39.0   \n",
      "20            Cameron Diaz       3031.7                34               89.2   \n",
      "21             Liam Neeson       2942.7                63               46.7   \n",
      "22             Andy Serkis       2890.6                23              125.7   \n",
      "23             Don Cheadle       2885.4                34               84.9   \n",
      "24             Ben Stiller       2827.0                37               76.4   \n",
      "25    Helena Bonham Carter       2822.0                36               78.4   \n",
      "26           Orlando Bloom       2815.8                17              165.6   \n",
      "27         Woody Harrelson       2815.8                50               56.3   \n",
      "28          Cate Blanchett       2802.6                39               71.9   \n",
      "29           Julia Roberts       2735.3                42               65.1   \n",
      "30         Elizabeth Banks       2726.3                35               77.9   \n",
      "31           Ralph Fiennes       2715.3                36               75.4   \n",
      "32             Emma Watson       2681.9                17              157.8   \n",
      "33         Tommy Lee Jones       2681.3                46               58.3   \n",
      "34               Brad Pitt       2680.9                40               67.0   \n",
      "35            Adam Sandler       2661.0                32               83.2   \n",
      "36        Daniel Radcliffe       2634.4                17              155.0   \n",
      "37              Jonah Hill       2605.1                29               89.8   \n",
      "38             Owen Wilson       2602.3                39               66.7   \n",
      "39              Idris Elba       2580.6                26               99.3   \n",
      "40          Bradley Cooper       2557.7                25              102.3   \n",
      "41           Mark Wahlberg       2549.8                36               70.8   \n",
      "42              Jim Carrey       2545.2                27               94.3   \n",
      "43          Dustin Hoffman       2522.1                43               58.7   \n",
      "44       Leonardo DiCaprio       2518.3                25              100.7   \n",
      "45           Jeremy Renner       2500.3                21              119.1   \n",
      "46  Philip Seymour Hoffman       2463.7                40               61.6   \n",
      "47          Sandra Bullock       2462.6                35               70.4   \n",
      "48             Chris Evans       2457.8                23              106.9   \n",
      "49           Anne Hathaway       2416.5                25               96.7   \n",
      "\n",
      "                               #1 Movie  Gross  \n",
      "0          Star Wars: The Force Awakens  936.7  \n",
      "1                          The Avengers  623.4  \n",
      "2                       The Dark Knight  534.9  \n",
      "3                           Toy Story 3  415.0  \n",
      "4                          The Avengers  623.4  \n",
      "5                               Shrek 2  441.2  \n",
      "6                     War of the Worlds  234.3  \n",
      "7                      Dead Man's Chest  423.3  \n",
      "8                       The Dark Knight  534.9  \n",
      "9                          The Avengers  623.4  \n",
      "10                      The Dark Knight  534.9  \n",
      "11                  Night at the Museum  250.9  \n",
      "12                          Sixth Sense  293.5  \n",
      "13                         The Avengers  623.4  \n",
      "14         Star Wars: The Force Awakens  936.7  \n",
      "15                   Return of the King  377.8  \n",
      "16                     Independence Day  306.2  \n",
      "17                        Catching Fire  424.7  \n",
      "18                          The Martian  228.4  \n",
      "19                     Meet the Fockers  279.3  \n",
      "20                              Shrek 2  441.2  \n",
      "21                   The Phantom Menace  474.5  \n",
      "22         Star Wars: The Force Awakens  936.7  \n",
      "23              Avengers: Age of Ultron  459.0  \n",
      "24                     Meet the Fockers  279.3  \n",
      "25  Harry Potter / Deathly Hallows (P2)  381.0  \n",
      "26                     Dead Man's Chest  423.3  \n",
      "27                        Catching Fire  424.7  \n",
      "28                   Return of the King  377.8  \n",
      "29                       Ocean's Eleven  183.4  \n",
      "30                        Catching Fire  424.7  \n",
      "31  Harry Potter / Deathly Hallows (P2)  381.0  \n",
      "32  Harry Potter / Deathly Hallows (P2)  381.0  \n",
      "33                         Men in Black  250.7  \n",
      "34                          World War Z  202.4  \n",
      "35                 Hotel Transylvania 2  169.7  \n",
      "36  Harry Potter / Deathly Hallows (P2)  381.0  \n",
      "37                       The LEGO Movie  257.8  \n",
      "38                  Night at the Museum  250.9  \n",
      "39              Avengers: Age of Ultron  459.0  \n",
      "40                      American Sniper  350.1  \n",
      "41                       Transformers 4  245.4  \n",
      "42                           The Grinch  260.0  \n",
      "43                     Meet the Fockers  279.3  \n",
      "44                              Titanic  658.7  \n",
      "45                         The Avengers  623.4  \n",
      "46                        Catching Fire  424.7  \n",
      "47                              Minions  336.0  \n",
      "48                         The Avengers  623.4  \n",
      "49                The Dark Knight Rises  448.1  \n"
     ]
    }
   ],
   "source": [
    "# importação das bibliotecas\n",
    "import pandas as pd \n",
    "import numpy as np\n",
    "\n",
    "# leitura do arquivo actors.csv, sendo retornado pela variável df\n",
    "df = pd.read_csv('./actors.csv', sep=\",\", engine='python', encoding='utf-8')\n",
    "\n",
    "# Removendo colunas com valor nulo para evitar erros\n",
    "df.dropna(inplace=True)\n",
    "\n",
    "print(\"DataFrame de Atores: \\n\", df)"
   ]
  },
  {
   "cell_type": "markdown",
   "metadata": {},
   "source": [
    "### EXTRA: Extraindo Informações | Conhecendo a base de dados"
   ]
  },
  {
   "cell_type": "code",
   "execution_count": 12,
   "metadata": {},
   "outputs": [
    {
     "name": "stdout",
     "output_type": "stream",
     "text": [
      "Informações sobre os tipos de dados: \n",
      "\n",
      "Variáveis         Tipos de Dados\n",
      "Actor                     object\n",
      "Total Gross              float64\n",
      "Number of Movies           int64\n",
      "Average per Movie        float64\n",
      "#1 Movie                  object\n",
      "Gross                    float64\n"
     ]
    }
   ],
   "source": [
    "print('Informações sobre os tipos de dados: \\n')\n",
    "tipos_de_dados = pd.DataFrame(df.dtypes, columns=['Tipos de Dados'])\n",
    "tipos_de_dados.columns.name=\"Variáveis\"\n",
    "print(tipos_de_dados)"
   ]
  },
  {
   "cell_type": "code",
   "execution_count": 13,
   "metadata": {},
   "outputs": [
    {
     "name": "stdout",
     "output_type": "stream",
     "text": [
      "<class 'pandas.core.frame.DataFrame'>\n",
      "RangeIndex: 50 entries, 0 to 49\n",
      "Data columns (total 6 columns):\n",
      " #   Column             Non-Null Count  Dtype  \n",
      "---  ------             --------------  -----  \n",
      " 0   Actor              50 non-null     object \n",
      " 1   Total Gross        50 non-null     float64\n",
      " 2   Number of Movies   50 non-null     int64  \n",
      " 3   Average per Movie  50 non-null     float64\n",
      " 4   #1 Movie           50 non-null     object \n",
      " 5   Gross              50 non-null     float64\n",
      "dtypes: float64(3), int64(1), object(2)\n",
      "memory usage: 2.5+ KB\n",
      "Informações sobre a base de dados: \n",
      " None\n"
     ]
    }
   ],
   "source": [
    "print('Informações sobre a base de dados: \\n', df.info())"
   ]
  },
  {
   "cell_type": "code",
   "execution_count": 15,
   "metadata": {},
   "outputs": [
    {
     "name": "stdout",
     "output_type": "stream",
     "text": [
      "Dimensionalidade do Dataframe: \n",
      " A base de dados apresenta 50 registros e 6 variáveis\n"
     ]
    }
   ],
   "source": [
    "print('Dimensionalidade do Dataframe: \\n', 'A base de dados apresenta {} registros e {} variáveis'.format(df.shape[0], df.shape[1]))"
   ]
  },
  {
   "cell_type": "markdown",
   "metadata": {},
   "source": [
    "### O ator/atriz com maior número de filmes e o respectivo número de filmes."
   ]
  },
  {
   "cell_type": "code",
   "execution_count": 406,
   "metadata": {},
   "outputs": [],
   "source": [
    "# Dataframe da solução\n",
    "df_2 = df[['Actor', 'Number of Movies']]"
   ]
  },
  {
   "cell_type": "code",
   "execution_count": 407,
   "metadata": {},
   "outputs": [
    {
     "name": "stdout",
     "output_type": "stream",
     "text": [
      "Dataframe de Atores e números de filmes: \n",
      "\n",
      "Visualização do Dataframe: \n",
      "                      Actor  Number of Movies\n",
      "0            Harrison Ford                41\n",
      "1        Samuel L. Jackson                69\n",
      "2           Morgan Freeman                61\n",
      "3                Tom Hanks                44\n",
      "4       Robert Downey, Jr.                53\n",
      "5             Eddie Murphy                38\n",
      "6               Tom Cruise                36\n",
      "7              Johnny Depp                45\n",
      "8            Michael Caine                58\n",
      "9       Scarlett Johansson                37\n",
      "10             Gary Oldman                38\n",
      "11          Robin Williams                49\n",
      "12            Bruce Willis                60\n",
      "13       Stellan Skarsgard                43\n",
      "14         Anthony Daniels                 7\n",
      "15            Ian McKellen                31\n",
      "16              Will Smith                24\n",
      "17           Stanley Tucci                50\n",
      "18              Matt Damon                39\n",
      "19           Robert DeNiro                79\n",
      "20            Cameron Diaz                34\n",
      "21             Liam Neeson                63\n",
      "22             Andy Serkis                23\n",
      "23             Don Cheadle                34\n",
      "24             Ben Stiller                37\n",
      "25    Helena Bonham Carter                36\n",
      "26           Orlando Bloom                17\n",
      "27         Woody Harrelson                50\n",
      "28          Cate Blanchett                39\n",
      "29           Julia Roberts                42\n",
      "30         Elizabeth Banks                35\n",
      "31           Ralph Fiennes                36\n",
      "32             Emma Watson                17\n",
      "33         Tommy Lee Jones                46\n",
      "34               Brad Pitt                40\n",
      "35            Adam Sandler                32\n",
      "36        Daniel Radcliffe                17\n",
      "37              Jonah Hill                29\n",
      "38             Owen Wilson                39\n",
      "39              Idris Elba                26\n",
      "40          Bradley Cooper                25\n",
      "41           Mark Wahlberg                36\n",
      "42              Jim Carrey                27\n",
      "43          Dustin Hoffman                43\n",
      "44       Leonardo DiCaprio                25\n",
      "45           Jeremy Renner                21\n",
      "46  Philip Seymour Hoffman                40\n",
      "47          Sandra Bullock                35\n",
      "48             Chris Evans                23\n",
      "49           Anne Hathaway                25 \n",
      "\n"
     ]
    }
   ],
   "source": [
    "print('Dataframe de Atores e números de filmes: \\n')\n",
    "print('Visualização do Dataframe: \\n', df_2 , '\\n')"
   ]
  },
  {
   "cell_type": "code",
   "execution_count": 408,
   "metadata": {},
   "outputs": [
    {
     "name": "stdout",
     "output_type": "stream",
     "text": [
      "Descrição do Dataframe: \n",
      "        Number of Movies\n",
      "count         50.000000\n",
      "mean          37.880000\n",
      "std           14.122843\n",
      "min            7.000000\n",
      "25%           27.500000\n",
      "50%           37.000000\n",
      "75%           43.750000\n",
      "max           79.000000 \n",
      "\n"
     ]
    }
   ],
   "source": [
    "print('Descrição do Dataframe: \\n', df_2.describe(), '\\n')"
   ]
  },
  {
   "cell_type": "code",
   "execution_count": 24,
   "metadata": {},
   "outputs": [
    {
     "name": "stdout",
     "output_type": "stream",
     "text": [
      "<class 'pandas.core.frame.DataFrame'>\n",
      "RangeIndex: 50 entries, 0 to 49\n",
      "Data columns (total 2 columns):\n",
      " #   Column            Non-Null Count  Dtype \n",
      "---  ------            --------------  ----- \n",
      " 0   Actor             50 non-null     object\n",
      " 1   Number of Movies  50 non-null     int64 \n",
      "dtypes: int64(1), object(1)\n",
      "memory usage: 928.0+ bytes\n",
      "Informações do Dataframe: \n",
      " None \n",
      "\n",
      "A base de dados apresenta 50 atores e 2 variáveis.\n"
     ]
    }
   ],
   "source": [
    "print('Informações do Dataframe: \\n', df_2.info(), '\\n')\n",
    "print('A base de dados apresenta {} atores e {} variáveis.'.format(df_2.shape[0], df_2.shape[1]))"
   ]
  },
  {
   "cell_type": "code",
   "execution_count": 409,
   "metadata": {},
   "outputs": [
    {
     "name": "stdout",
     "output_type": "stream",
     "text": [
      "Maior quantidade de filmes:  79 \n",
      "\n",
      "Conferindo informação: \n",
      "        Number of Movies\n",
      "count         50.000000\n",
      "mean          37.880000\n",
      "std           14.122843\n",
      "min            7.000000\n",
      "25%           27.500000\n",
      "50%           37.000000\n",
      "75%           43.750000\n",
      "max           79.000000\n"
     ]
    }
   ],
   "source": [
    "# Encontrando o maior número de filmes\n",
    "maior_qtd_filmes = max(df['Number of Movies'])\n",
    "print(\"Maior quantidade de filmes: \", maior_qtd_filmes, '\\n')\n",
    "\n",
    "print(\"Conferindo informação: \\n\", df_2.describe())"
   ]
  },
  {
   "cell_type": "markdown",
   "metadata": {},
   "source": [
    "### A média do número de filmes."
   ]
  },
  {
   "cell_type": "code",
   "execution_count": 423,
   "metadata": {},
   "outputs": [
    {
     "name": "stdout",
     "output_type": "stream",
     "text": [
      "A média do npumero de filmes é:  38\n"
     ]
    },
    {
     "name": "stderr",
     "output_type": "stream",
     "text": [
      "c:\\Users\\Anne Karoline\\AppData\\Local\\Programs\\Python\\Python310\\lib\\site-packages\\numpy\\core\\fromnumeric.py:3430: FutureWarning: In a future version, DataFrame.mean(axis=None) will return a scalar mean over the entire DataFrame. To retain the old behavior, use 'frame.mean(axis=0)' or just 'frame.mean()'\n",
      "  return mean(axis=axis, dtype=dtype, out=out, **kwargs)\n"
     ]
    }
   ],
   "source": [
    "df_mean_number_of_movies = df[['Number of Movies']]\n",
    "#print('Dataframe da Resolução: \\n', df_mean_number_of_movies, '\\n')\n",
    "\n",
    "#Encontrando a média de filmes\n",
    "media = np.mean(df_mean_number_of_movies)\n",
    "serie_conferencia = pd.Series(data=media)\n",
    "#print('A media do número de filmes é: \\n', media, '\\n')\n",
    "#print('Serie criada para conferencia: \\n', serie_conferencia)\n",
    "\n",
    "df_media = df['Number of Movies'].mean()\n",
    "print('A média do npumero de filmes é:', round(df_media) )"
   ]
  },
  {
   "cell_type": "markdown",
   "metadata": {},
   "source": [
    "### O ator/atriz com a maior média por filme."
   ]
  },
  {
   "cell_type": "code",
   "execution_count": 431,
   "metadata": {},
   "outputs": [
    {
     "name": "stdout",
     "output_type": "stream",
     "text": [
      "Maior média por filme: \n",
      " 451.8 \n",
      "\n",
      "              Actor  Average per Movie\n",
      "14  Anthony Daniels              451.8\n"
     ]
    },
    {
     "data": {
      "text/html": [
       "<div>\n",
       "<style scoped>\n",
       "    .dataframe tbody tr th:only-of-type {\n",
       "        vertical-align: middle;\n",
       "    }\n",
       "\n",
       "    .dataframe tbody tr th {\n",
       "        vertical-align: top;\n",
       "    }\n",
       "\n",
       "    .dataframe thead th {\n",
       "        text-align: right;\n",
       "    }\n",
       "</style>\n",
       "<table border=\"1\" class=\"dataframe\">\n",
       "  <thead>\n",
       "    <tr style=\"text-align: right;\">\n",
       "      <th></th>\n",
       "      <th>Ator</th>\n",
       "      <th>Média por Filme</th>\n",
       "    </tr>\n",
       "  </thead>\n",
       "  <tbody>\n",
       "    <tr>\n",
       "      <th>14</th>\n",
       "      <td>Anthony Daniels</td>\n",
       "      <td>451.8</td>\n",
       "    </tr>\n",
       "  </tbody>\n",
       "</table>\n",
       "</div>"
      ],
      "text/plain": [
       "               Ator  Média por Filme\n",
       "14  Anthony Daniels            451.8"
      ]
     },
     "execution_count": 431,
     "metadata": {},
     "output_type": "execute_result"
    }
   ],
   "source": [
    "df_actor_average = df[['Actor', 'Average per Movie']]\n",
    "max_average = df['Average per Movie'].max()\n",
    "print('Maior média por filme: \\n', max_average, '\\n')\n",
    "#print('Exibindo atores: \\n',df_actor_average['Average per Movie']>=451.8, '\\n')\n",
    "\n",
    "df_filtro = df_actor_average['Average per Movie']==max_average\n",
    "df_autores = df_actor_average[df_filtro]\n",
    "print(df_autores)\n",
    "\n",
    "columns = ['Ator', 'Média por Filme']\n",
    "ator = df_actor_average.loc[df['Average per Movie']==max_average]\n",
    "ator.columns = columns\n",
    "ator"
   ]
  },
  {
   "cell_type": "markdown",
   "metadata": {},
   "source": [
    "### O nome do(s) filme(s) mais frequente(s) e sua respectiva frequência."
   ]
  },
  {
   "cell_type": "code",
   "execution_count": 434,
   "metadata": {},
   "outputs": [
    {
     "data": {
      "text/html": [
       "<div>\n",
       "<style scoped>\n",
       "    .dataframe tbody tr th:only-of-type {\n",
       "        vertical-align: middle;\n",
       "    }\n",
       "\n",
       "    .dataframe tbody tr th {\n",
       "        vertical-align: top;\n",
       "    }\n",
       "\n",
       "    .dataframe thead th {\n",
       "        text-align: right;\n",
       "    }\n",
       "</style>\n",
       "<table border=\"1\" class=\"dataframe\">\n",
       "  <thead>\n",
       "    <tr style=\"text-align: right;\">\n",
       "      <th></th>\n",
       "      <th>Filme</th>\n",
       "      <th>Frequência</th>\n",
       "      <th>Maior Frequência</th>\n",
       "    </tr>\n",
       "  </thead>\n",
       "  <tbody>\n",
       "    <tr>\n",
       "      <th>0</th>\n",
       "      <td>Star Wars: The Force Awakens</td>\n",
       "      <td>936.7</td>\n",
       "      <td>4871.7</td>\n",
       "    </tr>\n",
       "    <tr>\n",
       "      <th>14</th>\n",
       "      <td>Star Wars: The Force Awakens</td>\n",
       "      <td>936.7</td>\n",
       "      <td>3162.9</td>\n",
       "    </tr>\n",
       "    <tr>\n",
       "      <th>22</th>\n",
       "      <td>Star Wars: The Force Awakens</td>\n",
       "      <td>936.7</td>\n",
       "      <td>2890.6</td>\n",
       "    </tr>\n",
       "  </tbody>\n",
       "</table>\n",
       "</div>"
      ],
      "text/plain": [
       "                           Filme  Frequência  Maior Frequência\n",
       "0   Star Wars: The Force Awakens       936.7            4871.7\n",
       "14  Star Wars: The Force Awakens       936.7            3162.9\n",
       "22  Star Wars: The Force Awakens       936.7            2890.6"
      ]
     },
     "execution_count": 434,
     "metadata": {},
     "output_type": "execute_result"
    }
   ],
   "source": [
    "df_filmes = df[['#1 Movie', 'Gross', 'Total Gross']]\n",
    "#print(\"Filmes da Base de Dados: \\n\", df_filmes)\n",
    "\n",
    "#Encontrando o filme mais frequente\n",
    "mais_frequente = df['Gross'].max()\n",
    "\n",
    "# Localizando o filme que possui a maior frequencia (.max())\n",
    "df_filme_maior_frequencia = df_filmes[df['Gross']==mais_frequente]\n",
    "df_filme_maior_frequencia.columns = ['Filme', 'Frequência','Maior Frequência']\n",
    "df_filme_maior_frequencia\n"
   ]
  },
  {
   "cell_type": "markdown",
   "metadata": {},
   "source": [
    "## Exercício 2"
   ]
  },
  {
   "cell_type": "markdown",
   "metadata": {},
   "source": [
    "Leia o arquivo csv googleplaystore.csv e realize as seguintes atividades sobre o dataset utilizando Pandas:"
   ]
  },
  {
   "cell_type": "markdown",
   "metadata": {},
   "source": [
    "### Leia o arquivo csv googleplaystore.csv"
   ]
  },
  {
   "cell_type": "code",
   "execution_count": 458,
   "metadata": {},
   "outputs": [
    {
     "name": "stdout",
     "output_type": "stream",
     "text": [
      "Base de dados: \n",
      "                                App Category  Rating   Reviews Size  \\\n",
      "0                           ROBLOX     GAME     4.5   4447388   67   \n",
      "1                   Subway Surfers     GAME     4.5  27722264   76   \n",
      "2                 Candy Crush Saga     GAME     4.4  22426677   74   \n",
      "3                        Solitaire     GAME     4.7    254258   23   \n",
      "4                   Bubble Shooter     GAME     4.5    148897   46   \n",
      "...                            ...      ...     ...       ...  ...   \n",
      "1139             Winter Wonderland     GAME     4.0      1287   38   \n",
      "1140        Soccer Clubs Logo Quiz     GAME     4.2     21661   16   \n",
      "1141                     Sid Story     GAME     4.4     28510   78   \n",
      "1142  Fatal Raid - No.1 Mobile FPS     GAME     4.3     56496   81   \n",
      "1143                  Poker Pro.Fr     GAME     4.2      5442   17   \n",
      "\n",
      "           Installs  Type Price Content Rating                        Genres  \\\n",
      "0       100,000,000  Free     0   Everyone 10+  Adventure;Action & Adventure   \n",
      "1     1,000,000,000  Free     0   Everyone 10+                        Arcade   \n",
      "2       500,000,000  Free     0       Everyone                        Casual   \n",
      "3        10,000,000  Free     0       Everyone                          Card   \n",
      "4        10,000,000  Free     0       Everyone                        Casual   \n",
      "...             ...   ...   ...            ...                           ...   \n",
      "1139         50,000  Free     0       Everyone                          Word   \n",
      "1140      1,000,000  Free     0       Everyone                        Trivia   \n",
      "1141        500,000  Free     0           Teen                          Card   \n",
      "1142      1,000,000  Free     0           Teen                        Action   \n",
      "1143        100,000  Free     0           Teen                          Card   \n",
      "\n",
      "     Last Updated   Current Ver   Android Ver  \n",
      "0       31-Jul-18  2.347.225742    4.1 and up  \n",
      "1       12-Jul-18        1.90.0    4.1 and up  \n",
      "2        5-Jul-18     1.129.0.2    4.1 and up  \n",
      "3        1-Aug-18       2.137.0    4.1 and up  \n",
      "4       17-Jul-18        1.20.1  4.0.3 and up  \n",
      "...           ...           ...           ...  \n",
      "1139    18-Dec-13             1    2.2 and up  \n",
      "1140    24-May-18        1.3.81    4.0 and up  \n",
      "1141     1-Aug-18         2.6.6  4.0.3 and up  \n",
      "1142     7-Aug-18       1.5.447    4.0 and up  \n",
      "1143    22-May-18         4.1.3    2.3 and up  \n",
      "\n",
      "[1144 rows x 13 columns]\n"
     ]
    }
   ],
   "source": [
    "import pandas as pd\n",
    "import numpy as np \n",
    "\n",
    "# Importando os dados\n",
    "df = pd.read_csv('./googleplaystore.csv', sep=',', engine='python', encoding='utf-8')\n",
    "\n",
    "# Removendo colunas com valor nulo para evitar erros\n",
    "#df.dropna(inplace=True)\n",
    "df\n",
    "\n",
    "\n",
    "print(\"Base de dados: \\n\", df)\n",
    "\n",
    "# Nova base de dados com colunas de valor dividido\n",
    "# Fonte: https://acervolima.com/python-pandas-divida-as-strings-em-duas-listas-colunas-usando-str-rsplit/\n",
    "# dados['Genres'] = dados['Genres'].str.rsplit(\";\", n=1, expand=False)\n",
    "#dados\n"
   ]
  },
  {
   "cell_type": "markdown",
   "metadata": {},
   "source": [
    "### Extraindo Informações"
   ]
  },
  {
   "cell_type": "code",
   "execution_count": 157,
   "metadata": {},
   "outputs": [
    {
     "name": "stdout",
     "output_type": "stream",
     "text": [
      "<class 'pandas.core.frame.DataFrame'>\n",
      "Int64Index: 974 entries, 0 to 1143\n",
      "Data columns (total 13 columns):\n",
      " #   Column          Non-Null Count  Dtype  \n",
      "---  ------          --------------  -----  \n",
      " 0   App             974 non-null    object \n",
      " 1   Category        974 non-null    object \n",
      " 2   Rating          974 non-null    float64\n",
      " 3   Reviews         974 non-null    int64  \n",
      " 4   Size            974 non-null    object \n",
      " 5   Installs        974 non-null    object \n",
      " 6   Type            974 non-null    object \n",
      " 7   Price           974 non-null    object \n",
      " 8   Content Rating  974 non-null    object \n",
      " 9   Genres          974 non-null    object \n",
      " 10  Last Updated    974 non-null    object \n",
      " 11  Current Ver     974 non-null    object \n",
      " 12  Android Ver     974 non-null    object \n",
      "dtypes: float64(1), int64(1), object(11)\n",
      "memory usage: 106.5+ KB\n",
      "Informações da Base de dados: \n",
      " None\n"
     ]
    }
   ],
   "source": [
    "print(\"Informações da Base de dados: \\n\", df.info())"
   ]
  },
  {
   "cell_type": "markdown",
   "metadata": {},
   "source": [
    "### Faça um gráfico de barras contendo os top 5 apps por número de instalação."
   ]
  },
  {
   "cell_type": "code",
   "execution_count": 337,
   "metadata": {},
   "outputs": [
    {
     "name": "stdout",
     "output_type": "stream",
     "text": [
      "Os TOP 5 apps por número de instalação são: \n",
      "                       Installs\n",
      "App                           \n",
      "Subway Surfers    6.000000e+09\n",
      "Candy Crush Saga  3.000000e+09\n",
      "Temple Run 2      3.000000e+09\n",
      "Pou               1.500000e+09\n",
      "8 Ball Pool       6.000000e+08\n"
     ]
    }
   ],
   "source": [
    "# df['Installs'] está como objeto. NECESSÁRIO transformar em float.\n",
    "#print(\"Tipo de dados da Coluna de Número de Instalações: \\n\", df['Installs'].dtype)\n",
    "df['Installs'] = df['Installs'].apply(lambda x: str(x).replace(',', ''))\n",
    "df['Installs'] = df['Installs'].astype(float)\n",
    "\n",
    "#Criação do DataFrame utilizado\n",
    "df_apps_instalações = df[[\"App\",\"Installs\"]]\n",
    "\n",
    "#print(\"Relação de aplicativos e número de instalações: \\n\", df_apps_instalações)\n",
    "df_apps_instalações_agrupados = df_apps_instalações.groupby('App').sum()\n",
    "df_apps_instalações_agrupados\n",
    "\n",
    "#Ordenando por número de instalações\n",
    "top_5_apps = df_apps_instalações_agrupados.nlargest(5, columns=\"Installs\").head(5)\n",
    "\n",
    "print(\"Os TOP 5 apps por número de instalação são: \\n\", top_5_apps)"
   ]
  },
  {
   "cell_type": "code",
   "execution_count": 348,
   "metadata": {},
   "outputs": [
    {
     "ename": "TypeError",
     "evalue": "only size-1 arrays can be converted to Python scalars",
     "output_type": "error",
     "traceback": [
      "\u001b[1;31m---------------------------------------------------------------------------\u001b[0m",
      "\u001b[1;31mTypeError\u001b[0m                                 Traceback (most recent call last)",
      "\u001b[1;32mc:\\Users\\Anne Karoline\\OneDrive\\Área de Trabalho\\Estágio-Compass\\Sprint02-Python\\sprint02-Python-compass\\lista-de-exercicios\\lista-02\\Lista_02.ipynb Célula: 30\u001b[0m in \u001b[0;36m<cell line: 13>\u001b[1;34m()\u001b[0m\n\u001b[0;32m     <a href='vscode-notebook-cell:/c%3A/Users/Anne%20Karoline/OneDrive/%C3%81rea%20de%20Trabalho/Est%C3%A1gio-Compass/Sprint02-Python/sprint02-Python-compass/lista-de-exercicios/lista-02/Lista_02.ipynb#Y155sZmlsZQ%3D%3D?line=9'>10</a>\u001b[0m \u001b[39mimport\u001b[39;00m \u001b[39mmatplotlib\u001b[39;00m\u001b[39m.\u001b[39;00m\u001b[39mpyplot\u001b[39;00m \u001b[39mas\u001b[39;00m \u001b[39mplt\u001b[39;00m\n\u001b[0;32m     <a href='vscode-notebook-cell:/c%3A/Users/Anne%20Karoline/OneDrive/%C3%81rea%20de%20Trabalho/Est%C3%A1gio-Compass/Sprint02-Python/sprint02-Python-compass/lista-de-exercicios/lista-02/Lista_02.ipynb#Y155sZmlsZQ%3D%3D?line=11'>12</a>\u001b[0m plt\u001b[39m.\u001b[39mfigure(figsize\u001b[39m=\u001b[39m(\u001b[39m10\u001b[39m,\u001b[39m5\u001b[39m))\n\u001b[1;32m---> <a href='vscode-notebook-cell:/c%3A/Users/Anne%20Karoline/OneDrive/%C3%81rea%20de%20Trabalho/Est%C3%A1gio-Compass/Sprint02-Python/sprint02-Python-compass/lista-de-exercicios/lista-02/Lista_02.ipynb#Y155sZmlsZQ%3D%3D?line=12'>13</a>\u001b[0m plt\u001b[39m.\u001b[39;49mbar(app, installs,  fill \u001b[39m=\u001b[39;49m \u001b[39mFalse\u001b[39;49;00m)\n",
      "File \u001b[1;32mc:\\Users\\Anne Karoline\\AppData\\Local\\Programs\\Python\\Python310\\lib\\site-packages\\matplotlib\\pyplot.py:2399\u001b[0m, in \u001b[0;36mbar\u001b[1;34m(x, height, width, bottom, align, data, **kwargs)\u001b[0m\n\u001b[0;32m   2395\u001b[0m \u001b[39m@_copy_docstring_and_deprecators\u001b[39m(Axes\u001b[39m.\u001b[39mbar)\n\u001b[0;32m   2396\u001b[0m \u001b[39mdef\u001b[39;00m \u001b[39mbar\u001b[39m(\n\u001b[0;32m   2397\u001b[0m         x, height, width\u001b[39m=\u001b[39m\u001b[39m0.8\u001b[39m, bottom\u001b[39m=\u001b[39m\u001b[39mNone\u001b[39;00m, \u001b[39m*\u001b[39m, align\u001b[39m=\u001b[39m\u001b[39m'\u001b[39m\u001b[39mcenter\u001b[39m\u001b[39m'\u001b[39m,\n\u001b[0;32m   2398\u001b[0m         data\u001b[39m=\u001b[39m\u001b[39mNone\u001b[39;00m, \u001b[39m*\u001b[39m\u001b[39m*\u001b[39mkwargs):\n\u001b[1;32m-> 2399\u001b[0m     \u001b[39mreturn\u001b[39;00m gca()\u001b[39m.\u001b[39mbar(\n\u001b[0;32m   2400\u001b[0m         x, height, width\u001b[39m=\u001b[39mwidth, bottom\u001b[39m=\u001b[39mbottom, align\u001b[39m=\u001b[39malign,\n\u001b[0;32m   2401\u001b[0m         \u001b[39m*\u001b[39m\u001b[39m*\u001b[39m({\u001b[39m\"\u001b[39m\u001b[39mdata\u001b[39m\u001b[39m\"\u001b[39m: data} \u001b[39mif\u001b[39;00m data \u001b[39mis\u001b[39;00m \u001b[39mnot\u001b[39;00m \u001b[39mNone\u001b[39;00m \u001b[39melse\u001b[39;00m {}), \u001b[39m*\u001b[39m\u001b[39m*\u001b[39mkwargs)\n",
      "File \u001b[1;32mc:\\Users\\Anne Karoline\\AppData\\Local\\Programs\\Python\\Python310\\lib\\site-packages\\matplotlib\\__init__.py:1412\u001b[0m, in \u001b[0;36m_preprocess_data.<locals>.inner\u001b[1;34m(ax, data, *args, **kwargs)\u001b[0m\n\u001b[0;32m   1409\u001b[0m \u001b[39m@functools\u001b[39m\u001b[39m.\u001b[39mwraps(func)\n\u001b[0;32m   1410\u001b[0m \u001b[39mdef\u001b[39;00m \u001b[39minner\u001b[39m(ax, \u001b[39m*\u001b[39margs, data\u001b[39m=\u001b[39m\u001b[39mNone\u001b[39;00m, \u001b[39m*\u001b[39m\u001b[39m*\u001b[39mkwargs):\n\u001b[0;32m   1411\u001b[0m     \u001b[39mif\u001b[39;00m data \u001b[39mis\u001b[39;00m \u001b[39mNone\u001b[39;00m:\n\u001b[1;32m-> 1412\u001b[0m         \u001b[39mreturn\u001b[39;00m func(ax, \u001b[39m*\u001b[39m\u001b[39mmap\u001b[39m(sanitize_sequence, args), \u001b[39m*\u001b[39m\u001b[39m*\u001b[39mkwargs)\n\u001b[0;32m   1414\u001b[0m     bound \u001b[39m=\u001b[39m new_sig\u001b[39m.\u001b[39mbind(ax, \u001b[39m*\u001b[39margs, \u001b[39m*\u001b[39m\u001b[39m*\u001b[39mkwargs)\n\u001b[0;32m   1415\u001b[0m     auto_label \u001b[39m=\u001b[39m (bound\u001b[39m.\u001b[39marguments\u001b[39m.\u001b[39mget(label_namer)\n\u001b[0;32m   1416\u001b[0m                   \u001b[39mor\u001b[39;00m bound\u001b[39m.\u001b[39mkwargs\u001b[39m.\u001b[39mget(label_namer))\n",
      "File \u001b[1;32mc:\\Users\\Anne Karoline\\AppData\\Local\\Programs\\Python\\Python310\\lib\\site-packages\\matplotlib\\axes\\_axes.py:2395\u001b[0m, in \u001b[0;36mAxes.bar\u001b[1;34m(self, x, height, width, bottom, align, **kwargs)\u001b[0m\n\u001b[0;32m   2392\u001b[0m args \u001b[39m=\u001b[39m \u001b[39mzip\u001b[39m(left, bottom, width, height, color, edgecolor, linewidth,\n\u001b[0;32m   2393\u001b[0m            hatch)\n\u001b[0;32m   2394\u001b[0m \u001b[39mfor\u001b[39;00m l, b, w, h, c, e, lw, htch \u001b[39min\u001b[39;00m args:\n\u001b[1;32m-> 2395\u001b[0m     r \u001b[39m=\u001b[39m mpatches\u001b[39m.\u001b[39;49mRectangle(\n\u001b[0;32m   2396\u001b[0m         xy\u001b[39m=\u001b[39;49m(l, b), width\u001b[39m=\u001b[39;49mw, height\u001b[39m=\u001b[39;49mh,\n\u001b[0;32m   2397\u001b[0m         facecolor\u001b[39m=\u001b[39;49mc,\n\u001b[0;32m   2398\u001b[0m         edgecolor\u001b[39m=\u001b[39;49me,\n\u001b[0;32m   2399\u001b[0m         linewidth\u001b[39m=\u001b[39;49mlw,\n\u001b[0;32m   2400\u001b[0m         label\u001b[39m=\u001b[39;49m\u001b[39m'\u001b[39;49m\u001b[39m_nolegend_\u001b[39;49m\u001b[39m'\u001b[39;49m,\n\u001b[0;32m   2401\u001b[0m         hatch\u001b[39m=\u001b[39;49mhtch,\n\u001b[0;32m   2402\u001b[0m         )\n\u001b[0;32m   2403\u001b[0m     r\u001b[39m.\u001b[39mupdate(kwargs)\n\u001b[0;32m   2404\u001b[0m     r\u001b[39m.\u001b[39mget_path()\u001b[39m.\u001b[39m_interpolation_steps \u001b[39m=\u001b[39m \u001b[39m100\u001b[39m\n",
      "File \u001b[1;32mc:\\Users\\Anne Karoline\\AppData\\Local\\Programs\\Python\\Python310\\lib\\site-packages\\matplotlib\\patches.py:733\u001b[0m, in \u001b[0;36mRectangle.__init__\u001b[1;34m(self, xy, width, height, angle, **kwargs)\u001b[0m\n\u001b[0;32m    714\u001b[0m \u001b[39m@docstring\u001b[39m\u001b[39m.\u001b[39mdedent_interpd\n\u001b[0;32m    715\u001b[0m \u001b[39mdef\u001b[39;00m \u001b[39m__init__\u001b[39m(\u001b[39mself\u001b[39m, xy, width, height, angle\u001b[39m=\u001b[39m\u001b[39m0.0\u001b[39m, \u001b[39m*\u001b[39m\u001b[39m*\u001b[39mkwargs):\n\u001b[0;32m    716\u001b[0m     \u001b[39m\"\"\"\u001b[39;00m\n\u001b[0;32m    717\u001b[0m \u001b[39m    Parameters\u001b[39;00m\n\u001b[0;32m    718\u001b[0m \u001b[39m    ----------\u001b[39;00m\n\u001b[1;32m   (...)\u001b[0m\n\u001b[0;32m    731\u001b[0m \u001b[39m        %(Patch:kwdoc)s\u001b[39;00m\n\u001b[0;32m    732\u001b[0m \u001b[39m    \"\"\"\u001b[39;00m\n\u001b[1;32m--> 733\u001b[0m     \u001b[39msuper\u001b[39m()\u001b[39m.\u001b[39m\u001b[39m__init__\u001b[39m(\u001b[39m*\u001b[39m\u001b[39m*\u001b[39mkwargs)\n\u001b[0;32m    734\u001b[0m     \u001b[39mself\u001b[39m\u001b[39m.\u001b[39m_x0 \u001b[39m=\u001b[39m xy[\u001b[39m0\u001b[39m]\n\u001b[0;32m    735\u001b[0m     \u001b[39mself\u001b[39m\u001b[39m.\u001b[39m_y0 \u001b[39m=\u001b[39m xy[\u001b[39m1\u001b[39m]\n",
      "File \u001b[1;32mc:\\Users\\Anne Karoline\\AppData\\Local\\Programs\\Python\\Python310\\lib\\site-packages\\matplotlib\\patches.py:106\u001b[0m, in \u001b[0;36mPatch.__init__\u001b[1;34m(self, edgecolor, facecolor, color, linewidth, linestyle, antialiased, hatch, fill, capstyle, joinstyle, **kwargs)\u001b[0m\n\u001b[0;32m    104\u001b[0m \u001b[39mself\u001b[39m\u001b[39m.\u001b[39mset_fill(fill)\n\u001b[0;32m    105\u001b[0m \u001b[39mself\u001b[39m\u001b[39m.\u001b[39mset_linestyle(linestyle)\n\u001b[1;32m--> 106\u001b[0m \u001b[39mself\u001b[39;49m\u001b[39m.\u001b[39;49mset_linewidth(linewidth)\n\u001b[0;32m    107\u001b[0m \u001b[39mself\u001b[39m\u001b[39m.\u001b[39mset_antialiased(antialiased)\n\u001b[0;32m    108\u001b[0m \u001b[39mself\u001b[39m\u001b[39m.\u001b[39mset_hatch(hatch)\n",
      "File \u001b[1;32mc:\\Users\\Anne Karoline\\AppData\\Local\\Programs\\Python\\Python310\\lib\\site-packages\\matplotlib\\patches.py:411\u001b[0m, in \u001b[0;36mPatch.set_linewidth\u001b[1;34m(self, w)\u001b[0m\n\u001b[0;32m    408\u001b[0m     \u001b[39mif\u001b[39;00m w \u001b[39mis\u001b[39;00m \u001b[39mNone\u001b[39;00m:\n\u001b[0;32m    409\u001b[0m         w \u001b[39m=\u001b[39m mpl\u001b[39m.\u001b[39mrcParams[\u001b[39m'\u001b[39m\u001b[39maxes.linewidth\u001b[39m\u001b[39m'\u001b[39m]\n\u001b[1;32m--> 411\u001b[0m \u001b[39mself\u001b[39m\u001b[39m.\u001b[39m_linewidth \u001b[39m=\u001b[39m \u001b[39mfloat\u001b[39;49m(w)\n\u001b[0;32m    412\u001b[0m \u001b[39m# scale the dash pattern by the linewidth\u001b[39;00m\n\u001b[0;32m    413\u001b[0m offset, ls \u001b[39m=\u001b[39m \u001b[39mself\u001b[39m\u001b[39m.\u001b[39m_us_dashes\n",
      "\u001b[1;31mTypeError\u001b[0m: only size-1 arrays can be converted to Python scalars"
     ]
    },
    {
     "data": {
      "image/png": "[encoded data removed]",
      "text/plain": [
       "<Figure size 1000x500 with 1 Axes>"
      ]
     },
     "metadata": {},
     "output_type": "display_data"
    }
   ],
   "source": [
    "app = []\n",
    "installs = []\n",
    "\n",
    "index = top_5_apps.index\n",
    "values = top_5_apps.values\n",
    "\n",
    "app = index\n",
    "installs = values\n",
    "\n",
    "\n",
    "import matplotlib.pyplot as plt\n",
    "\n",
    "plt.figure(figsize=(10,5))\n",
    "plt.bar(app, installs,  fill = False)"
   ]
  },
  {
   "cell_type": "code",
   "execution_count": 195,
   "metadata": {},
   "outputs": [
    {
     "data": {
      "text/plain": [
       "<AxesSubplot:title={'center':'Top 5 aplicativos'}, xlabel='App', ylabel='Quantidade de Instalações'>"
      ]
     },
     "execution_count": 195,
     "metadata": {},
     "output_type": "execute_result"
    },
    {
     "data": {
      "image/png": "[encoded data removed]",
      "text/plain": [
       "<Figure size 640x480 with 1 Axes>"
      ]
     },
     "metadata": {},
     "output_type": "display_data"
    }
   ],
   "source": [
    "import matplotlib.pyplot as plt \n",
    "\n",
    "top_5_apps.plot(kind='bar', colormap='jet', title='Top 5 aplicativos', ylabel='Quantidade de Instalações')"
   ]
  },
  {
   "cell_type": "code",
   "execution_count": 191,
   "metadata": {},
   "outputs": [
    {
     "data": {
      "text/plain": [
       "<AxesSubplot:title={'center':'Top 5 aplicativos'}, xlabel='App', ylabel='Quantidade de Instalações'>"
      ]
     },
     "execution_count": 191,
     "metadata": {},
     "output_type": "execute_result"
    },
    {
     "data": {
      "image/png": "[encoded data removed]",
      "text/plain": [
       "<Figure size 640x480 with 1 Axes>"
      ]
     },
     "metadata": {},
     "output_type": "display_data"
    }
   ],
   "source": [
    "import matplotlib.pyplot as plt \n",
    "\n",
    "top_5_apps.plot(lw=2, colormap='jet', marker='o', markersize = 10, title='Top 5 aplicativos', ylabel='Quantidade de Instalações')"
   ]
  },
  {
   "cell_type": "markdown",
   "metadata": {},
   "source": [
    "### Faça um gráfico de pizza (pie chart) mostrando as categorias de apps existentes no dataset de acordo com a frequência em que elas aparecem."
   ]
  },
  {
   "cell_type": "code",
   "execution_count": 455,
   "metadata": {},
   "outputs": [
    {
     "data": {
      "text/plain": [
       "array([<AxesSubplot:ylabel='None'>], dtype=object)"
      ]
     },
     "execution_count": 455,
     "metadata": {},
     "output_type": "execute_result"
    },
    {
     "data": {
      "image/png": "[encoded data removed]",
      "text/plain": [
       "<Figure size 800x800 with 1 Axes>"
      ]
     },
     "metadata": {},
     "output_type": "display_data"
    }
   ],
   "source": [
    "# Contar numero de categorias\n",
    "categorias_dos_apps = df[['Category']]\n",
    "\n",
    "# Contando \n",
    "contagem = categorias_dos_apps.value_counts()\n",
    "\n",
    "categoria_de_apps_group = categorias_dos_apps.groupby(['Category']).count()\n",
    "categoria_de_apps_group\n",
    "\n",
    "contagem.plot.pie(title = \"Categoria dos Aplicativos\", figsize=(8, 8), autopct='%1.1f%%', subplots = True, legend = True)"
   ]
  },
  {
   "cell_type": "markdown",
   "metadata": {},
   "source": [
    "### Mostre qual o app mais caro existente no dataset."
   ]
  },
  {
   "cell_type": "code",
   "execution_count": 459,
   "metadata": {},
   "outputs": [
    {
     "name": "stdout",
     "output_type": "stream",
     "text": [
      "object\n",
      "float64\n"
     ]
    },
    {
     "data": {
      "text/html": [
       "<div>\n",
       "<style scoped>\n",
       "    .dataframe tbody tr th:only-of-type {\n",
       "        vertical-align: middle;\n",
       "    }\n",
       "\n",
       "    .dataframe tbody tr th {\n",
       "        vertical-align: top;\n",
       "    }\n",
       "\n",
       "    .dataframe thead th {\n",
       "        text-align: right;\n",
       "    }\n",
       "</style>\n",
       "<table border=\"1\" class=\"dataframe\">\n",
       "  <thead>\n",
       "    <tr style=\"text-align: right;\">\n",
       "      <th></th>\n",
       "      <th>423</th>\n",
       "    </tr>\n",
       "  </thead>\n",
       "  <tbody>\n",
       "    <tr>\n",
       "      <th>App</th>\n",
       "      <td>The World Ends With You</td>\n",
       "    </tr>\n",
       "    <tr>\n",
       "      <th>Category</th>\n",
       "      <td>GAME</td>\n",
       "    </tr>\n",
       "    <tr>\n",
       "      <th>Rating</th>\n",
       "      <td>4.6</td>\n",
       "    </tr>\n",
       "    <tr>\n",
       "      <th>Reviews</th>\n",
       "      <td>4108</td>\n",
       "    </tr>\n",
       "    <tr>\n",
       "      <th>Size</th>\n",
       "      <td>13</td>\n",
       "    </tr>\n",
       "    <tr>\n",
       "      <th>Installs</th>\n",
       "      <td>10,000</td>\n",
       "    </tr>\n",
       "    <tr>\n",
       "      <th>Type</th>\n",
       "      <td>Paid</td>\n",
       "    </tr>\n",
       "    <tr>\n",
       "      <th>Price</th>\n",
       "      <td>17.99</td>\n",
       "    </tr>\n",
       "    <tr>\n",
       "      <th>Content Rating</th>\n",
       "      <td>Everyone 10+</td>\n",
       "    </tr>\n",
       "    <tr>\n",
       "      <th>Genres</th>\n",
       "      <td>Arcade</td>\n",
       "    </tr>\n",
       "    <tr>\n",
       "      <th>Last Updated</th>\n",
       "      <td>14-Dec-15</td>\n",
       "    </tr>\n",
       "    <tr>\n",
       "      <th>Current Ver</th>\n",
       "      <td>1.0.4</td>\n",
       "    </tr>\n",
       "    <tr>\n",
       "      <th>Android Ver</th>\n",
       "      <td>4.0 and up</td>\n",
       "    </tr>\n",
       "  </tbody>\n",
       "</table>\n",
       "</div>"
      ],
      "text/plain": [
       "                                    423\n",
       "App             The World Ends With You\n",
       "Category                           GAME\n",
       "Rating                              4.6\n",
       "Reviews                            4108\n",
       "Size                                 13\n",
       "Installs                         10,000\n",
       "Type                               Paid\n",
       "Price                             17.99\n",
       "Content Rating             Everyone 10+\n",
       "Genres                           Arcade\n",
       "Last Updated                  14-Dec-15\n",
       "Current Ver                       1.0.4\n",
       "Android Ver                  4.0 and up"
      ]
     },
     "execution_count": 459,
     "metadata": {},
     "output_type": "execute_result"
    }
   ],
   "source": [
    "#Transformando o tipo de dado da coluna de preço e removendo strings indesejadas\n",
    "print(df['Price'].dtype)\n",
    "df['Price'] = df['Price'].apply(lambda x: str(x).replace(',', '').strip('$'))\n",
    "#df['Price'] = df['Price'].replace('$', '')\n",
    "#df['Price'] = df['Price'].replace('Everyone','0')\n",
    "df['Price'] = df['Price'].astype(float)\n",
    "print(df['Price'].dtype)\n",
    "\n",
    "#O critério utilizado para a resolução é o Price\n",
    "#preco_mais_caro = max(df['Price'])\n",
    "preco_mais_caro=pd.to_numeric(df['Price'])\n",
    "\n",
    "#Obtendo o index do app mais caro\n",
    "app_caro = preco_mais_caro.idxmax()\n",
    "\n",
    "# Criando um dataframe para o app mais caro\n",
    "df_do_app = df.loc[app_caro].to_frame()\n",
    "\n",
    "'''df_app = df[['Price', 'App']]\n",
    "app_mais_caro = df_app[df_app['Price']==17.99]\n",
    "s=pd.DataFrame(app_mais_caro, columns=['Price', 'App'])\n",
    "valores = s.values\n",
    "print(s)\n",
    "print(f'\\nO {app_mais_caro} é o app mais caro está ${preco_mais_caro}')'''\n",
    "\n",
    "df_do_app"
   ]
  },
  {
   "cell_type": "markdown",
   "metadata": {},
   "source": [
    "### Mostre quantos apps são classificados como “Mature 17+”."
   ]
  },
  {
   "cell_type": "code",
   "execution_count": 470,
   "metadata": {},
   "outputs": [
    {
     "name": "stdout",
     "output_type": "stream",
     "text": [
      "                                                    App Content Rating\n",
      "16                                   Zombie Hunter King     Mature 17+\n",
      "46     Sniper 3D Gun Shooter: Free Shooting Games - FPS     Mature 17+\n",
      "70     Sniper 3D Gun Shooter: Free Shooting Games - FPS     Mature 17+\n",
      "75                                   Zombie Hunter King     Mature 17+\n",
      "103    Sniper 3D Gun Shooter: Free Shooting Games - FPS     Mature 17+\n",
      "...                                                 ...            ...\n",
      "1094                     Family Guy The Quest for Stuff     Mature 17+\n",
      "1097                               Zombie Sniper 3D III     Mature 17+\n",
      "1106                               Rope Hero: Vice Town     Mature 17+\n",
      "1126  Frontline Terrorist Battle Shoot: Free FPS Sho...     Mature 17+\n",
      "1135       Modern Counter Terror Attack – Shooting Game     Mature 17+\n",
      "\n",
      "[74 rows x 2 columns]\n",
      "Content Rating  App                                              \n",
      "Mature 17+      Sniper 3D Gun Shooter: Free Shooting Games - FPS     6\n",
      "                Zombie Hunter King                                   4\n",
      "                DEAD TARGET: FPS Zombie Apocalypse Survival Games    2\n",
      "                Real City Car Driver                                 1\n",
      "                San Andreas Crime Stories                            1\n",
      "                                                                    ..\n",
      "                Iron Blade                                           1\n",
      "                Kill Shot Bravo: Sniper FPS                          1\n",
      "                L.A. Crime Stories Mad City Crime                    1\n",
      "                LA Stories 4 New Order Sandbox 2018                  1\n",
      "                Zombie War Z : Hero Survival Rules                   1\n",
      "Length: 65, dtype: int64\n"
     ]
    },
    {
     "data": {
      "text/plain": [
       "Content Rating\n",
       "Mature 17+        74\n",
       "dtype: int64"
      ]
     },
     "execution_count": 470,
     "metadata": {},
     "output_type": "execute_result"
    }
   ],
   "source": [
    "df_resolucao = df[['App', 'Content Rating']]\n",
    "#print(df_resolucao)\n",
    "\n",
    "classificados = df_resolucao[df_resolucao['Content Rating']=='Mature 17+']\n",
    "#classificados.columns = ['App', 'Classificação']\n",
    "print(classificados)\n",
    "\n",
    "quantidade_app_classificado = classificados.groupby('Content Rating').value_counts()\n",
    "quantidade_app_classificado\n",
    "\n",
    "print(f\"{quantidade_app_classificado}\")\n",
    "\n",
    "df_resolucao = df_resolucao.drop_duplicates('App')\n",
    "classificacao = df[['Content Rating']].value_counts().loc['Mature 17+']\n",
    "classificacao"
   ]
  },
  {
   "cell_type": "markdown",
   "metadata": {},
   "source": [
    "### Mostre o top 10 apps por número de reviews bem como o respectivo número de reviews. Ordene a lista de forma decrescente por número de reviews."
   ]
  },
  {
   "cell_type": "code",
   "execution_count": 307,
   "metadata": {},
   "outputs": [
    {
     "data": {
      "text/html": [
       "<div>\n",
       "<style scoped>\n",
       "    .dataframe tbody tr th:only-of-type {\n",
       "        vertical-align: middle;\n",
       "    }\n",
       "\n",
       "    .dataframe tbody tr th {\n",
       "        vertical-align: top;\n",
       "    }\n",
       "\n",
       "    .dataframe thead th {\n",
       "        text-align: right;\n",
       "    }\n",
       "</style>\n",
       "<table border=\"1\" class=\"dataframe\">\n",
       "  <thead>\n",
       "    <tr style=\"text-align: right;\">\n",
       "      <th></th>\n",
       "      <th>App</th>\n",
       "      <th>Reviews</th>\n",
       "    </tr>\n",
       "  </thead>\n",
       "  <tbody>\n",
       "    <tr>\n",
       "      <th>0</th>\n",
       "      <td>ROBLOX</td>\n",
       "      <td>4447388</td>\n",
       "    </tr>\n",
       "    <tr>\n",
       "      <th>1</th>\n",
       "      <td>Subway Surfers</td>\n",
       "      <td>27722264</td>\n",
       "    </tr>\n",
       "    <tr>\n",
       "      <th>2</th>\n",
       "      <td>Candy Crush Saga</td>\n",
       "      <td>22426677</td>\n",
       "    </tr>\n",
       "    <tr>\n",
       "      <th>3</th>\n",
       "      <td>Solitaire</td>\n",
       "      <td>254258</td>\n",
       "    </tr>\n",
       "    <tr>\n",
       "      <th>4</th>\n",
       "      <td>Bubble Shooter</td>\n",
       "      <td>148897</td>\n",
       "    </tr>\n",
       "    <tr>\n",
       "      <th>...</th>\n",
       "      <td>...</td>\n",
       "      <td>...</td>\n",
       "    </tr>\n",
       "    <tr>\n",
       "      <th>1139</th>\n",
       "      <td>Winter Wonderland</td>\n",
       "      <td>1287</td>\n",
       "    </tr>\n",
       "    <tr>\n",
       "      <th>1140</th>\n",
       "      <td>Soccer Clubs Logo Quiz</td>\n",
       "      <td>21661</td>\n",
       "    </tr>\n",
       "    <tr>\n",
       "      <th>1141</th>\n",
       "      <td>Sid Story</td>\n",
       "      <td>28510</td>\n",
       "    </tr>\n",
       "    <tr>\n",
       "      <th>1142</th>\n",
       "      <td>Fatal Raid - No.1 Mobile FPS</td>\n",
       "      <td>56496</td>\n",
       "    </tr>\n",
       "    <tr>\n",
       "      <th>1143</th>\n",
       "      <td>Poker Pro.Fr</td>\n",
       "      <td>5442</td>\n",
       "    </tr>\n",
       "  </tbody>\n",
       "</table>\n",
       "<p>974 rows × 2 columns</p>\n",
       "</div>"
      ],
      "text/plain": [
       "                               App   Reviews\n",
       "0                           ROBLOX   4447388\n",
       "1                   Subway Surfers  27722264\n",
       "2                 Candy Crush Saga  22426677\n",
       "3                        Solitaire    254258\n",
       "4                   Bubble Shooter    148897\n",
       "...                            ...       ...\n",
       "1139             Winter Wonderland      1287\n",
       "1140        Soccer Clubs Logo Quiz     21661\n",
       "1141                     Sid Story     28510\n",
       "1142  Fatal Raid - No.1 Mobile FPS     56496\n",
       "1143                  Poker Pro.Fr      5442\n",
       "\n",
       "[974 rows x 2 columns]"
      ]
     },
     "execution_count": 307,
     "metadata": {},
     "output_type": "execute_result"
    }
   ],
   "source": [
    "df_resolucao = df[['App','Reviews']]\n",
    "df_resolucao"
   ]
  },
  {
   "cell_type": "code",
   "execution_count": 471,
   "metadata": {},
   "outputs": [
    {
     "name": "stdout",
     "output_type": "stream",
     "text": [
      "TOP apps por review: \n",
      " <bound method DataFrame.value_counts of                                App Content Rating\n",
      "0                           ROBLOX   Everyone 10+\n",
      "1                   Subway Surfers   Everyone 10+\n",
      "2                 Candy Crush Saga       Everyone\n",
      "3                        Solitaire       Everyone\n",
      "4                   Bubble Shooter       Everyone\n",
      "...                            ...            ...\n",
      "1139             Winter Wonderland       Everyone\n",
      "1140        Soccer Clubs Logo Quiz       Everyone\n",
      "1141                     Sid Story           Teen\n",
      "1142  Fatal Raid - No.1 Mobile FPS           Teen\n",
      "1143                  Poker Pro.Fr           Teen\n",
      "\n",
      "[960 rows x 2 columns]>\n"
     ]
    },
    {
     "ename": "AttributeError",
     "evalue": "'function' object has no attribute 'nlargest'",
     "output_type": "error",
     "traceback": [
      "\u001b[1;31m---------------------------------------------------------------------------\u001b[0m",
      "\u001b[1;31mAttributeError\u001b[0m                            Traceback (most recent call last)",
      "\u001b[1;32mc:\\Users\\Anne Karoline\\OneDrive\\Área de Trabalho\\Estágio-Compass\\Sprint02-Python\\sprint02-Python-compass\\lista-de-exercicios\\lista-02\\Lista_02.ipynb Célula: 41\u001b[0m in \u001b[0;36m<cell line: 6>\u001b[1;34m()\u001b[0m\n\u001b[0;32m      <a href='vscode-notebook-cell:/c%3A/Users/Anne%20Karoline/OneDrive/%C3%81rea%20de%20Trabalho/Est%C3%A1gio-Compass/Sprint02-Python/sprint02-Python-compass/lista-de-exercicios/lista-02/Lista_02.ipynb#Y145sZmlsZQ%3D%3D?line=2'>3</a>\u001b[0m \u001b[39mprint\u001b[39m(\u001b[39m\"\u001b[39m\u001b[39mTOP apps por review: \u001b[39m\u001b[39m\\n\u001b[39;00m\u001b[39m\"\u001b[39m, top_apps_por_review)\n\u001b[0;32m      <a href='vscode-notebook-cell:/c%3A/Users/Anne%20Karoline/OneDrive/%C3%81rea%20de%20Trabalho/Est%C3%A1gio-Compass/Sprint02-Python/sprint02-Python-compass/lista-de-exercicios/lista-02/Lista_02.ipynb#Y145sZmlsZQ%3D%3D?line=4'>5</a>\u001b[0m \u001b[39m#Criterio utiliado é o de Reviews\u001b[39;00m\n\u001b[1;32m----> <a href='vscode-notebook-cell:/c%3A/Users/Anne%20Karoline/OneDrive/%C3%81rea%20de%20Trabalho/Est%C3%A1gio-Compass/Sprint02-Python/sprint02-Python-compass/lista-de-exercicios/lista-02/Lista_02.ipynb#Y145sZmlsZQ%3D%3D?line=5'>6</a>\u001b[0m top_10_apps \u001b[39m=\u001b[39m top_apps_por_review\u001b[39m.\u001b[39;49mnlargest(\u001b[39m10\u001b[39m, columns\u001b[39m=\u001b[39m\u001b[39m\"\u001b[39m\u001b[39mReviews\u001b[39m\u001b[39m\"\u001b[39m)\u001b[39m.\u001b[39mhead(\u001b[39m10\u001b[39m)\n",
      "\u001b[1;31mAttributeError\u001b[0m: 'function' object has no attribute 'nlargest'"
     ]
    }
   ],
   "source": [
    "#print(df['Reviews'].dtype)\n",
    "top_apps_por_review = df_resolucao.value_counts\n",
    "print(\"TOP apps por review: \\n\", top_apps_por_review)\n",
    "\n",
    "#Criterio utiliado é o de Reviews\n",
    "top_10_apps = top_apps_por_review.nlargest(10, columns=\"Reviews\").head(10)\n",
    "#print(\"TOP 10: \\n\", top_apps_por_review.head(10) )"
   ]
  },
  {
   "cell_type": "markdown",
   "metadata": {},
   "source": [
    "## Exercício 3"
   ]
  },
  {
   "cell_type": "markdown",
   "metadata": {},
   "source": [
    "Leia o arquivo csv wines_SPA.csv e realize as seguintes atividades sobre o dataset utilizando Pandas:"
   ]
  },
  {
   "cell_type": "markdown",
   "metadata": {},
   "source": [
    "### Leitura do arquivo"
   ]
  },
  {
   "cell_type": "code",
   "execution_count": 2,
   "metadata": {},
   "outputs": [
    {
     "data": {
      "text/html": [
       "<div>\n",
       "<style scoped>\n",
       "    .dataframe tbody tr th:only-of-type {\n",
       "        vertical-align: middle;\n",
       "    }\n",
       "\n",
       "    .dataframe tbody tr th {\n",
       "        vertical-align: top;\n",
       "    }\n",
       "\n",
       "    .dataframe thead th {\n",
       "        text-align: right;\n",
       "    }\n",
       "</style>\n",
       "<table border=\"1\" class=\"dataframe\">\n",
       "  <thead>\n",
       "    <tr style=\"text-align: right;\">\n",
       "      <th></th>\n",
       "      <th>Teso La Monja</th>\n",
       "      <th>Tinto</th>\n",
       "      <th>2013</th>\n",
       "      <th>4.9</th>\n",
       "      <th>58</th>\n",
       "      <th>Espana</th>\n",
       "      <th>Toro</th>\n",
       "      <th>995</th>\n",
       "      <th>Toro Red</th>\n",
       "      <th>5</th>\n",
       "      <th>3</th>\n",
       "    </tr>\n",
       "  </thead>\n",
       "  <tbody>\n",
       "    <tr>\n",
       "      <th>0</th>\n",
       "      <td>Artadi</td>\n",
       "      <td>Vina El Pison</td>\n",
       "      <td>2018</td>\n",
       "      <td>4.9</td>\n",
       "      <td>31</td>\n",
       "      <td>Espana</td>\n",
       "      <td>Vino de Espana</td>\n",
       "      <td>313.50</td>\n",
       "      <td>Tempranillo</td>\n",
       "      <td>4.0</td>\n",
       "      <td>2.0</td>\n",
       "    </tr>\n",
       "    <tr>\n",
       "      <th>1</th>\n",
       "      <td>Vega Sicilia</td>\n",
       "      <td>Unico</td>\n",
       "      <td>2009</td>\n",
       "      <td>4.8</td>\n",
       "      <td>1793</td>\n",
       "      <td>Espana</td>\n",
       "      <td>Ribera del Duero</td>\n",
       "      <td>324.95</td>\n",
       "      <td>Ribera Del Duero Red</td>\n",
       "      <td>5.0</td>\n",
       "      <td>3.0</td>\n",
       "    </tr>\n",
       "    <tr>\n",
       "      <th>2</th>\n",
       "      <td>Vega Sicilia</td>\n",
       "      <td>Unico</td>\n",
       "      <td>1999</td>\n",
       "      <td>4.8</td>\n",
       "      <td>1705</td>\n",
       "      <td>Espana</td>\n",
       "      <td>Ribera del Duero</td>\n",
       "      <td>692.96</td>\n",
       "      <td>Ribera Del Duero Red</td>\n",
       "      <td>5.0</td>\n",
       "      <td>3.0</td>\n",
       "    </tr>\n",
       "    <tr>\n",
       "      <th>3</th>\n",
       "      <td>Vega Sicilia</td>\n",
       "      <td>Unico</td>\n",
       "      <td>1996</td>\n",
       "      <td>4.8</td>\n",
       "      <td>1309</td>\n",
       "      <td>Espana</td>\n",
       "      <td>Ribera del Duero</td>\n",
       "      <td>778.06</td>\n",
       "      <td>Ribera Del Duero Red</td>\n",
       "      <td>5.0</td>\n",
       "      <td>3.0</td>\n",
       "    </tr>\n",
       "    <tr>\n",
       "      <th>4</th>\n",
       "      <td>Vega Sicilia</td>\n",
       "      <td>Unico</td>\n",
       "      <td>1998</td>\n",
       "      <td>4.8</td>\n",
       "      <td>1209</td>\n",
       "      <td>Espana</td>\n",
       "      <td>Ribera del Duero</td>\n",
       "      <td>490.00</td>\n",
       "      <td>Ribera Del Duero Red</td>\n",
       "      <td>5.0</td>\n",
       "      <td>3.0</td>\n",
       "    </tr>\n",
       "    <tr>\n",
       "      <th>...</th>\n",
       "      <td>...</td>\n",
       "      <td>...</td>\n",
       "      <td>...</td>\n",
       "      <td>...</td>\n",
       "      <td>...</td>\n",
       "      <td>...</td>\n",
       "      <td>...</td>\n",
       "      <td>...</td>\n",
       "      <td>...</td>\n",
       "      <td>...</td>\n",
       "      <td>...</td>\n",
       "    </tr>\n",
       "    <tr>\n",
       "      <th>7494</th>\n",
       "      <td>Contino</td>\n",
       "      <td>Reserva</td>\n",
       "      <td>2016</td>\n",
       "      <td>4.2</td>\n",
       "      <td>392</td>\n",
       "      <td>Espana</td>\n",
       "      <td>Rioja</td>\n",
       "      <td>19.98</td>\n",
       "      <td>Rioja Red</td>\n",
       "      <td>4.0</td>\n",
       "      <td>3.0</td>\n",
       "    </tr>\n",
       "    <tr>\n",
       "      <th>7495</th>\n",
       "      <td>Conreria d'Scala Dei</td>\n",
       "      <td>Les Brugueres</td>\n",
       "      <td>2018</td>\n",
       "      <td>4.2</td>\n",
       "      <td>390</td>\n",
       "      <td>Espana</td>\n",
       "      <td>Priorato</td>\n",
       "      <td>16.76</td>\n",
       "      <td>Priorat Red</td>\n",
       "      <td>4.0</td>\n",
       "      <td>3.0</td>\n",
       "    </tr>\n",
       "    <tr>\n",
       "      <th>7496</th>\n",
       "      <td>Mustiguillo</td>\n",
       "      <td>Finca Terrerazo</td>\n",
       "      <td>2017</td>\n",
       "      <td>4.2</td>\n",
       "      <td>390</td>\n",
       "      <td>Espana</td>\n",
       "      <td>El Terrerazo</td>\n",
       "      <td>24.45</td>\n",
       "      <td>Red</td>\n",
       "      <td>4.0</td>\n",
       "      <td>3.0</td>\n",
       "    </tr>\n",
       "    <tr>\n",
       "      <th>7497</th>\n",
       "      <td>Matarromera</td>\n",
       "      <td>Gran Reserva</td>\n",
       "      <td>2011</td>\n",
       "      <td>4.2</td>\n",
       "      <td>389</td>\n",
       "      <td>Espana</td>\n",
       "      <td>Ribera del Duero</td>\n",
       "      <td>64.50</td>\n",
       "      <td>Ribera Del Duero Red</td>\n",
       "      <td>5.0</td>\n",
       "      <td>3.0</td>\n",
       "    </tr>\n",
       "    <tr>\n",
       "      <th>7498</th>\n",
       "      <td>Sei Solo</td>\n",
       "      <td>Preludio</td>\n",
       "      <td>2016</td>\n",
       "      <td>4.2</td>\n",
       "      <td>388</td>\n",
       "      <td>Espana</td>\n",
       "      <td>Ribera del Duero</td>\n",
       "      <td>31.63</td>\n",
       "      <td>Ribera Del Duero Red</td>\n",
       "      <td>5.0</td>\n",
       "      <td>3.0</td>\n",
       "    </tr>\n",
       "  </tbody>\n",
       "</table>\n",
       "<p>7499 rows × 11 columns</p>\n",
       "</div>"
      ],
      "text/plain": [
       "             Teso La Monja            Tinto  2013  4.9    58  Espana  \\\n",
       "0                   Artadi    Vina El Pison  2018  4.9    31  Espana   \n",
       "1             Vega Sicilia            Unico  2009  4.8  1793  Espana   \n",
       "2             Vega Sicilia            Unico  1999  4.8  1705  Espana   \n",
       "3             Vega Sicilia            Unico  1996  4.8  1309  Espana   \n",
       "4             Vega Sicilia            Unico  1998  4.8  1209  Espana   \n",
       "...                    ...              ...   ...  ...   ...     ...   \n",
       "7494               Contino          Reserva  2016  4.2   392  Espana   \n",
       "7495  Conreria d'Scala Dei    Les Brugueres  2018  4.2   390  Espana   \n",
       "7496           Mustiguillo  Finca Terrerazo  2017  4.2   390  Espana   \n",
       "7497           Matarromera     Gran Reserva  2011  4.2   389  Espana   \n",
       "7498              Sei Solo         Preludio  2016  4.2   388  Espana   \n",
       "\n",
       "                  Toro     995              Toro Red    5    3  \n",
       "0       Vino de Espana  313.50           Tempranillo  4.0  2.0  \n",
       "1     Ribera del Duero  324.95  Ribera Del Duero Red  5.0  3.0  \n",
       "2     Ribera del Duero  692.96  Ribera Del Duero Red  5.0  3.0  \n",
       "3     Ribera del Duero  778.06  Ribera Del Duero Red  5.0  3.0  \n",
       "4     Ribera del Duero  490.00  Ribera Del Duero Red  5.0  3.0  \n",
       "...                ...     ...                   ...  ...  ...  \n",
       "7494             Rioja   19.98             Rioja Red  4.0  3.0  \n",
       "7495          Priorato   16.76           Priorat Red  4.0  3.0  \n",
       "7496      El Terrerazo   24.45                   Red  4.0  3.0  \n",
       "7497  Ribera del Duero   64.50  Ribera Del Duero Red  5.0  3.0  \n",
       "7498  Ribera del Duero   31.63  Ribera Del Duero Red  5.0  3.0  \n",
       "\n",
       "[7499 rows x 11 columns]"
      ]
     },
     "execution_count": 2,
     "metadata": {},
     "output_type": "execute_result"
    }
   ],
   "source": [
    "import pandas as pd\n",
    "\n",
    "df = pd.read_csv('./wines_SPA.csv', sep=',')\n",
    "df"
   ]
  },
  {
   "cell_type": "markdown",
   "metadata": {},
   "source": [
    "### Mostre qual a vinícola (winery) que possui o maior número de reviews (num_reviews) nos últimos 20 anos."
   ]
  },
  {
   "cell_type": "markdown",
   "metadata": {},
   "source": [
    "### Mostre quais são as 5 regiões com a média de preço mais alta e mais baixa."
   ]
  },
  {
   "cell_type": "markdown",
   "metadata": {},
   "source": [
    "### A acidez (acidity) varia entre valores até 5, mostre a média de acidez por ano em todo o intervalo existente na coluna ano (year)."
   ]
  },
  {
   "cell_type": "markdown",
   "metadata": {},
   "source": [
    "### Mostre qual vinho (wine) possui o maior número de safras em todo o intervalo existente na coluna ano (year)."
   ]
  },
  {
   "cell_type": "markdown",
   "metadata": {},
   "source": [
    "# Exercícios NumPy"
   ]
  },
  {
   "cell_type": "markdown",
   "metadata": {},
   "source": [
    "## Exercício 1"
   ]
  },
  {
   "cell_type": "markdown",
   "metadata": {},
   "source": [
    "Crie um array 5x5 com a sequência 1...25 (incluso) e faça a soma dos elementos da diagonal."
   ]
  },
  {
   "cell_type": "code",
   "execution_count": 7,
   "metadata": {},
   "outputs": [
    {
     "name": "stdout",
     "output_type": "stream",
     "text": [
      "Array: \n",
      " [ 1  2  3  4  5  6  7  8  9 10 11 12 13 14 15 16 17 18 19 20 21 22 23 24\n",
      " 25] \n",
      " Forma do array (linhas, colunas): (25,) \n",
      "\n",
      "Array 5 x 5: \n",
      " [[ 1  2  3  4  5]\n",
      " [ 6  7  8  9 10]\n",
      " [11 12 13 14 15]\n",
      " [16 17 18 19 20]\n",
      " [21 22 23 24 25]] \n",
      " Forma do array (linhas, colunas):  (5, 5) \n",
      "\n",
      "Diagonal do Array: \n",
      " [ 1  7 13 19 25] \n",
      "\n",
      "Soma dos elementos da diagonal:  65\n"
     ]
    }
   ],
   "source": [
    "import numpy as np\n",
    "\n",
    "array = np.array(range(1,26))\n",
    "new_array= array.reshape((5, 5))\n",
    "diagonal = np.diagonal(new_array)\n",
    "\n",
    "print('Array: \\n', array, '\\n Forma do array (linhas, colunas):', array.shape, '\\n')\n",
    "print('Array 5 x 5: \\n', new_array, '\\n Forma do array (linhas, colunas): ', new_array.shape, '\\n')\n",
    "print('Diagonal do Array: \\n', diagonal, '\\n')\n",
    "print('Soma dos elementos da diagonal: ', np.sum(diagonal)) # Uma outra opção seria: np.trace(array)\n",
    "#print('Soma dos elementos da diagonal: ', np.trace(new_array)) \n"
   ]
  },
  {
   "cell_type": "code",
   "execution_count": 472,
   "metadata": {},
   "outputs": [
    {
     "data": {
      "text/plain": [
       "65"
      ]
     },
     "execution_count": 472,
     "metadata": {},
     "output_type": "execute_result"
    }
   ],
   "source": [
    "array = np.arange(1,26).reshape(5,5)\n",
    "trace = np.trace(array)\n",
    "trace"
   ]
  },
  {
   "cell_type": "markdown",
   "metadata": {},
   "source": [
    "## Exercício 2"
   ]
  },
  {
   "cell_type": "markdown",
   "metadata": {},
   "source": [
    "Crie um array 5x5 com a sequência de números pares entre 0...50 (incluso) e faça as seguintes operações:\n",
    "\n",
    "• Soma das linhas\n",
    "\n",
    "• Soma das Colunas\n",
    "\n",
    "• Média dos elementos da última linha\n",
    "\n",
    "• Média dos elementos da última coluna"
   ]
  },
  {
   "cell_type": "code",
   "execution_count": 478,
   "metadata": {},
   "outputs": [
    {
     "name": "stdout",
     "output_type": "stream",
     "text": [
      "Array: \n",
      " [ 0  2  4  6  8 10 12 14 16 18 20 22 24 26 28 30 32 34 36 38 40 42 44 46\n",
      " 48] \n",
      "\n",
      "Novo Array: \n",
      " [[ 0  2  4  6  8]\n",
      " [10 12 14 16 18]\n",
      " [20 22 24 26 28]\n",
      " [30 32 34 36 38]\n",
      " [40 42 44 46 48]] \n",
      "\n"
     ]
    },
    {
     "ename": "AxisError",
     "evalue": "axis 1 is out of bounds for array of dimension 1",
     "output_type": "error",
     "traceback": [
      "\u001b[1;31m---------------------------------------------------------------------------\u001b[0m",
      "\u001b[1;31mAxisError\u001b[0m                                 Traceback (most recent call last)",
      "\u001b[1;32mc:\\Users\\Anne Karoline\\OneDrive\\Área de Trabalho\\Estágio-Compass\\Sprint02-Python\\sprint02-Python-compass\\lista-de-exercicios\\lista-02\\Lista_02.ipynb Célula: 56\u001b[0m in \u001b[0;36m<cell line: 16>\u001b[1;34m()\u001b[0m\n\u001b[0;32m     <a href='vscode-notebook-cell:/c%3A/Users/Anne%20Karoline/OneDrive/%C3%81rea%20de%20Trabalho/Est%C3%A1gio-Compass/Sprint02-Python/sprint02-Python-compass/lista-de-exercicios/lista-02/Lista_02.ipynb#X32sZmlsZQ%3D%3D?line=12'>13</a>\u001b[0m new_array \u001b[39m=\u001b[39m array\u001b[39m.\u001b[39mreshape((\u001b[39m5\u001b[39m, \u001b[39m5\u001b[39m))\n\u001b[0;32m     <a href='vscode-notebook-cell:/c%3A/Users/Anne%20Karoline/OneDrive/%C3%81rea%20de%20Trabalho/Est%C3%A1gio-Compass/Sprint02-Python/sprint02-Python-compass/lista-de-exercicios/lista-02/Lista_02.ipynb#X32sZmlsZQ%3D%3D?line=13'>14</a>\u001b[0m \u001b[39mprint\u001b[39m(\u001b[39m'\u001b[39m\u001b[39mNovo Array: \u001b[39m\u001b[39m\\n\u001b[39;00m\u001b[39m'\u001b[39m, new_array, \u001b[39m'\u001b[39m\u001b[39m\\n\u001b[39;00m\u001b[39m'\u001b[39m)\n\u001b[1;32m---> <a href='vscode-notebook-cell:/c%3A/Users/Anne%20Karoline/OneDrive/%C3%81rea%20de%20Trabalho/Est%C3%A1gio-Compass/Sprint02-Python/sprint02-Python-compass/lista-de-exercicios/lista-02/Lista_02.ipynb#X32sZmlsZQ%3D%3D?line=15'>16</a>\u001b[0m soma_linhas \u001b[39m=\u001b[39m np\u001b[39m.\u001b[39;49msum(array, axis\u001b[39m=\u001b[39;49m\u001b[39m1\u001b[39;49m)\n\u001b[0;32m     <a href='vscode-notebook-cell:/c%3A/Users/Anne%20Karoline/OneDrive/%C3%81rea%20de%20Trabalho/Est%C3%A1gio-Compass/Sprint02-Python/sprint02-Python-compass/lista-de-exercicios/lista-02/Lista_02.ipynb#X32sZmlsZQ%3D%3D?line=16'>17</a>\u001b[0m \u001b[39mprint\u001b[39m(\u001b[39m'\u001b[39m\u001b[39mSoma das linhas: \u001b[39m\u001b[39m'\u001b[39m, soma_linhas)\n\u001b[0;32m     <a href='vscode-notebook-cell:/c%3A/Users/Anne%20Karoline/OneDrive/%C3%81rea%20de%20Trabalho/Est%C3%A1gio-Compass/Sprint02-Python/sprint02-Python-compass/lista-de-exercicios/lista-02/Lista_02.ipynb#X32sZmlsZQ%3D%3D?line=18'>19</a>\u001b[0m soma_colunas\u001b[39m=\u001b[39mnp\u001b[39m.\u001b[39msum(array, axis\u001b[39m=\u001b[39m\u001b[39m0\u001b[39m)\n",
      "File \u001b[1;32m<__array_function__ internals>:180\u001b[0m, in \u001b[0;36msum\u001b[1;34m(*args, **kwargs)\u001b[0m\n",
      "File \u001b[1;32mc:\\Users\\Anne Karoline\\AppData\\Local\\Programs\\Python\\Python310\\lib\\site-packages\\numpy\\core\\fromnumeric.py:2298\u001b[0m, in \u001b[0;36msum\u001b[1;34m(a, axis, dtype, out, keepdims, initial, where)\u001b[0m\n\u001b[0;32m   2295\u001b[0m         \u001b[39mreturn\u001b[39;00m out\n\u001b[0;32m   2296\u001b[0m     \u001b[39mreturn\u001b[39;00m res\n\u001b[1;32m-> 2298\u001b[0m \u001b[39mreturn\u001b[39;00m _wrapreduction(a, np\u001b[39m.\u001b[39;49madd, \u001b[39m'\u001b[39;49m\u001b[39msum\u001b[39;49m\u001b[39m'\u001b[39;49m, axis, dtype, out, keepdims\u001b[39m=\u001b[39;49mkeepdims,\n\u001b[0;32m   2299\u001b[0m                       initial\u001b[39m=\u001b[39;49minitial, where\u001b[39m=\u001b[39;49mwhere)\n",
      "File \u001b[1;32mc:\\Users\\Anne Karoline\\AppData\\Local\\Programs\\Python\\Python310\\lib\\site-packages\\numpy\\core\\fromnumeric.py:86\u001b[0m, in \u001b[0;36m_wrapreduction\u001b[1;34m(obj, ufunc, method, axis, dtype, out, **kwargs)\u001b[0m\n\u001b[0;32m     83\u001b[0m         \u001b[39melse\u001b[39;00m:\n\u001b[0;32m     84\u001b[0m             \u001b[39mreturn\u001b[39;00m reduction(axis\u001b[39m=\u001b[39maxis, out\u001b[39m=\u001b[39mout, \u001b[39m*\u001b[39m\u001b[39m*\u001b[39mpasskwargs)\n\u001b[1;32m---> 86\u001b[0m \u001b[39mreturn\u001b[39;00m ufunc\u001b[39m.\u001b[39mreduce(obj, axis, dtype, out, \u001b[39m*\u001b[39m\u001b[39m*\u001b[39mpasskwargs)\n",
      "\u001b[1;31mAxisError\u001b[0m: axis 1 is out of bounds for array of dimension 1"
     ]
    }
   ],
   "source": [
    "import numpy as np\n",
    "#coluna 01 -> array[:,1]\n",
    "#soma dos elementos da coluna 1-> s_elementos_col_2 = array[:,1].sum()\n",
    "#linha 01 -> array[1,:]\n",
    "#soma dos elementos da linha 1 -> s_elementos_linha_1 = array[1,:].sum()\n",
    "#soma de cada coluna de uma matriz -> array.sum(axis = 0)\n",
    "#soma de cada linha de uma matriz -> array.sum(axis = 1)\n",
    "\n",
    "# NÃO É POSSÍVEL CONSIDERAR O 50\n",
    "#array = np.array(range(0, 51, 2))\n",
    "array = np.array(range(0, 50, 2))\n",
    "print('Array: \\n', array, '\\n')\n",
    "new_array = array.reshape((5, 5))\n",
    "print('Novo Array: \\n', new_array, '\\n')\n",
    "\n",
    "soma_linhas = np.sum(array, axis=1)\n",
    "print('Soma das linhas: ', soma_linhas)\n",
    "\n",
    "soma_colunas=np.sum(array, axis=0)\n",
    "print('Soma das colunas: ', soma_colunas)\n",
    "\n",
    "media_elementos_ultima_linha = np.mean(array[4], axis=0)\n",
    "print(\"Média dos elementos da ultima linha: \", media_elementos_ultima_linha)\n",
    "media_elementos_ultima_coluna = np.mean(array[:,4])\n",
    "print(\"Média dos elementos da ultima coluna: \", media_elementos_ultima_coluna)\n"
   ]
  },
  {
   "cell_type": "markdown",
   "metadata": {},
   "source": [
    "## Exercício 3"
   ]
  },
  {
   "cell_type": "markdown",
   "metadata": {},
   "source": [
    "Dado o array 2D abaixo, substitua o seu maior valor por 0.\n",
    "\n",
    "• np.random.normal(0, 3, size=(5, 5))"
   ]
  },
  {
   "cell_type": "code",
   "execution_count": null,
   "metadata": {},
   "outputs": [
    {
     "name": "stdout",
     "output_type": "stream",
     "text": [
      "Array Numpy: \n",
      " [[-3.0216359  -3.91974759 -1.37535218 -0.49868235 -0.96356197]\n",
      " [ 2.77758116  0.70171278  0.971768   -1.39136332 -1.5956263 ]\n",
      " [ 2.84782436 -6.88676543 -2.32148887  5.58603046 -0.25705189]\n",
      " [ 0.35347282 -3.18449219  3.02518407 -0.68420723 -1.31942076]\n",
      " [-1.68049945 -0.76293809  3.38786873 -2.23401865  0.14605686]] \n",
      "\n",
      "Maior elemento do array: \n",
      " 5.586030459803489 \n",
      "\n",
      "Substituindo valores: \n",
      " [[-3.0216359  -3.91974759 -1.37535218 -0.49868235 -0.96356197]\n",
      " [ 2.77758116  0.70171278  0.971768   -1.39136332 -1.5956263 ]\n",
      " [ 2.84782436 -6.88676543 -2.32148887  0.         -0.25705189]\n",
      " [ 0.35347282 -3.18449219  3.02518407 -0.68420723 -1.31942076]\n",
      " [-1.68049945 -0.76293809  3.38786873 -2.23401865  0.14605686]]\n"
     ]
    }
   ],
   "source": [
    "import numpy as np\n",
    "\n",
    "array = np.random.normal(0, 3, size=(5, 5))\n",
    "print('Array Numpy: \\n', array, '\\n')\n",
    "bigger_el = np.max(array)\n",
    "print('Maior elemento do array: \\n', bigger_el, '\\n')\n",
    "array[array == bigger_el] = 0\n",
    "print('Substituindo valores: \\n', array )"
   ]
  },
  {
   "cell_type": "markdown",
   "metadata": {},
   "source": [
    "## Exercício 4"
   ]
  },
  {
   "cell_type": "markdown",
   "metadata": {},
   "source": [
    "A partir das arrays abaixo, caso seja possível, realize o produto das mesmas:\n",
    "\n",
    "• np.random.uniform(size=(5, 3))\n",
    "\n",
    "• np.random.uniform(size=(3, 4))"
   ]
  },
  {
   "cell_type": "code",
   "execution_count": null,
   "metadata": {},
   "outputs": [
    {
     "name": "stdout",
     "output_type": "stream",
     "text": [
      "Array Numpy 01: \n",
      " [[0.17051125 0.62092548 0.94493411]\n",
      " [0.13522832 0.96932332 0.97009059]\n",
      " [0.11104264 0.25226468 0.25675456]\n",
      " [0.97201593 0.18326478 0.30034655]\n",
      " [0.1421399  0.595209   0.2514372 ]] \n",
      "\n",
      "Array Numpy 02: \n",
      " [[0.05830546 0.77092893 0.31633224 0.97302812]\n",
      " [0.11075406 0.1504557  0.10673721 0.43829735]\n",
      " [0.75830583 0.17612489 0.93041062 0.89257094]] \n",
      "\n",
      "Produto dos Arrays Numpy: \n",
      " [[0.79526081 0.39130025 0.9993908  1.28148296]\n",
      " [0.8508664  0.42094874 1.04882253 1.42230747]\n",
      " [0.22911221 0.16878151 0.30093957 0.44778621]\n",
      " [0.30472569 0.82982693 0.60648677 1.2942039 ]\n",
      " [0.26487565 0.2434167  0.34243423 0.62361019]] \n",
      " Forma do array:  (5, 4) \n",
      "\n"
     ]
    }
   ],
   "source": [
    "import numpy as np\n",
    "\n",
    "array_1 = np.random.uniform(size=(5, 3)) # m x n\n",
    "array_2 = np.random.uniform(size=(3, 4)) # n x p\n",
    "print('Array Numpy 01: \\n', array_1, '\\n')\n",
    "print('Array Numpy 02: \\n', array_2, '\\n')\n",
    "\n",
    "# PRODUTO DE MATRIZES - So é possível se o número de colunas da primeira matriz for igual ao nimero de linhas da segunda matriz.\n",
    "# O produto das matrizes será n x p -> 5 x 4\n",
    "array_3 = array_1.dot(array_2) # M1.dot(M2) | M1 @ M2 \n",
    "print('Produto dos Arrays Numpy: \\n', array_3, '\\n', 'Forma do array: ', array_3.shape, '\\n')"
   ]
  },
  {
   "cell_type": "markdown",
   "metadata": {},
   "source": [
    "## Exercício 5"
   ]
  },
  {
   "cell_type": "markdown",
   "metadata": {},
   "source": [
    "Dado o array abaixo, converta-o para um array do tipo int32.\n",
    "\n",
    "• np.arange(9, dtype=np.float32).reshape(3, 3)"
   ]
  },
  {
   "cell_type": "code",
   "execution_count": null,
   "metadata": {},
   "outputs": [
    {
     "name": "stdout",
     "output_type": "stream",
     "text": [
      "Array Numpy: \n",
      " [[0. 1. 2.]\n",
      " [3. 4. 5.]\n",
      " [6. 7. 8.]] \n",
      "\n",
      "Tipo de dado do Array:  float32 \n",
      "\n",
      "List: \n",
      " [[0.0, 1.0, 2.0], [3.0, 4.0, 5.0], [6.0, 7.0, 8.0]] \n",
      "\n",
      "Array Numpy convertido: \n",
      " [[0 1 2]\n",
      " [3 4 5]\n",
      " [6 7 8]] \n",
      "\n",
      "Tipo de dado do Array Convertido:  int32\n"
     ]
    }
   ],
   "source": [
    "import numpy as np\n",
    "\n",
    "array = np.arange(9, dtype=np.float32).reshape(3, 3)\n",
    "print('Array Numpy: \\n', array, '\\n')\n",
    "print('Tipo de dado do Array: ', array.dtype, '\\n')\n",
    "print('List: \\n', array.tolist(), '\\n')\n",
    "list_to_array = np.array(array.tolist(), dtype=np.int32)\n",
    "print('Array Numpy convertido: \\n', list_to_array, '\\n')\n",
    "print('Tipo de dado do Array Convertido: ', list_to_array.dtype)\n"
   ]
  },
  {
   "cell_type": "markdown",
   "metadata": {},
   "source": [
    "## Exercício 6"
   ]
  },
  {
   "cell_type": "markdown",
   "metadata": {},
   "source": [
    "Dado o array abaixo, some 10 em todos os elementos da última coluna.\n",
    "\n",
    "• np.random.uniform(size=(8, 8))"
   ]
  },
  {
   "cell_type": "code",
   "execution_count": null,
   "metadata": {},
   "outputs": [
    {
     "name": "stdout",
     "output_type": "stream",
     "text": [
      "Array Numpy: \n",
      " [[0.62152154 0.82429972 0.36505162 0.81157795 0.68192458 0.55692297\n",
      "  0.65975249 0.05751901]\n",
      " [0.41395345 0.35962055 0.07050404 0.51405469 0.36416527 0.42884251\n",
      "  0.76218449 0.99194837]\n",
      " [0.94875821 0.77950635 0.89605597 0.27011098 0.42302986 0.77755738\n",
      "  0.82207286 0.36397305]\n",
      " [0.27888949 0.24517298 0.55448604 0.47633342 0.02995952 0.24521187\n",
      "  0.68805893 0.93599429]\n",
      " [0.57632304 0.91699967 0.1542179  0.11841646 0.26098613 0.54121214\n",
      "  0.08785998 0.95418671]\n",
      " [0.27951755 0.57135041 0.76779998 0.59965838 0.91467809 0.85027499\n",
      "  0.30656701 0.32509762]\n",
      " [0.57452622 0.82989426 0.51169587 0.37496718 0.93646553 0.74948707\n",
      "  0.08156578 0.42859334]\n",
      " [0.2342951  0.32584133 0.0875758  0.82101936 0.73330839 0.32048962\n",
      "  0.72639827 0.12985729]] \n",
      "\n",
      "New Array Numpy: \n",
      " [[10.62152154 10.82429972 10.36505162 10.81157795 10.68192458 10.55692297\n",
      "  10.65975249 10.05751901]\n",
      " [10.41395345 10.35962055 10.07050404 10.51405469 10.36416527 10.42884251\n",
      "  10.76218449 10.99194837]\n",
      " [10.94875821 10.77950635 10.89605597 10.27011098 10.42302986 10.77755738\n",
      "  10.82207286 10.36397305]\n",
      " [10.27888949 10.24517298 10.55448604 10.47633342 10.02995952 10.24521187\n",
      "  10.68805893 10.93599429]\n",
      " [10.57632304 10.91699967 10.1542179  10.11841646 10.26098613 10.54121214\n",
      "  10.08785998 10.95418671]\n",
      " [10.27951755 10.57135041 10.76779998 10.59965838 10.91467809 10.85027499\n",
      "  10.30656701 10.32509762]\n",
      " [10.57452622 10.82989426 10.51169587 10.37496718 10.93646553 10.74948707\n",
      "  10.08156578 10.42859334]\n",
      " [10.2342951  10.32584133 10.0875758  10.82101936 10.73330839 10.32048962\n",
      "  10.72639827 10.12985729]] \n",
      "\n"
     ]
    }
   ],
   "source": [
    "import pandas as pd\n",
    "\n",
    "array = np.random.uniform(size=(8, 8))\n",
    "print('Array Numpy: \\n', array, '\\n')\n",
    "new_array = 10 + array # Matriz Escalar\n",
    "print('New Array Numpy: \\n', new_array, '\\n')"
   ]
  },
  {
   "cell_type": "markdown",
   "metadata": {},
   "source": [
    "## Exercício 7"
   ]
  },
  {
   "cell_type": "markdown",
   "metadata": {},
   "source": [
    "Dados os dois arrays 2x4 abaixo, empilhe ambos formando um novo array 4x4.\n",
    "\n",
    "• np.array([[0,3,4,5], [7, 10, 9, 2]])\n",
    "\n",
    "• np.array([[1,4,9,12], [15, 22, 19, 17]])\n"
   ]
  },
  {
   "cell_type": "code",
   "execution_count": null,
   "metadata": {},
   "outputs": [
    {
     "name": "stdout",
     "output_type": "stream",
     "text": [
      "Array Numpy 01: \n",
      " [[ 0  3  4  5]\n",
      " [ 7 10  9  2]] \n",
      " Forma do array numpy: \n",
      " (2, 4) \n",
      "\n",
      "Array Numpy 02: \n",
      " [[ 1  4  9 12]\n",
      " [15 22 19 17]] \n",
      " Forma do array numpy: \n",
      " (2, 4) \n",
      "\n",
      "New Array Numpy: \n",
      " [[ 0  3  4  5]\n",
      " [ 7 10  9  2]\n",
      " [ 1  4  9 12]\n",
      " [15 22 19 17]] \n",
      " Forma do array numpy: \n",
      " (4, 4)\n"
     ]
    }
   ],
   "source": [
    "import numpy as np\n",
    "\n",
    "array_01 = np.array([[0,3,4,5], [7, 10, 9, 2]])\n",
    "array_02 = np.array([[1,4,9,12], [15, 22, 19, 17]])\n",
    "print('Array Numpy 01: \\n', array_01, '\\n', 'Forma do array numpy: \\n', array_01.shape, '\\n')\n",
    "print('Array Numpy 02: \\n', array_02, '\\n', 'Forma do array numpy: \\n', array_02.shape, '\\n')\n",
    "array_03 = np.concatenate((array_01, array_02))\n",
    "print('New Array Numpy: \\n', array_03, '\\n', 'Forma do array numpy: \\n', array_03.shape)\n"
   ]
  },
  {
   "cell_type": "markdown",
   "metadata": {},
   "source": [
    "## Exercício 8"
   ]
  },
  {
   "cell_type": "markdown",
   "metadata": {},
   "source": [
    "Dado o array definido por np.arange(25).reshape(5, 5), realize as seguintes operações sem utilizar nenhum tipo de loop (for / while):\n",
    "\n",
    "• A média das linhas 0, 2 e 3.\n",
    "\n",
    "• A média das colunas 0, 1 e 4.\n",
    "\n",
    "• A soma dos elementos das duas diagonais."
   ]
  },
  {
   "cell_type": "code",
   "execution_count": 320,
   "metadata": {},
   "outputs": [
    {
     "name": "stdout",
     "output_type": "stream",
     "text": [
      "Array Numpy: \n",
      " [[ 0  1  2  3  4]\n",
      " [ 5  6  7  8  9]\n",
      " [10 11 12 13 14]\n",
      " [15 16 17 18 19]\n",
      " [20 21 22 23 24]] \n",
      " \n",
      " \n",
      "Linha 0:  [0 1 2 3 4]\n",
      "Linha 2:  [10 11 12 13 14]\n",
      "Linha 3:  [15 16 17 18 19] \n",
      "\n",
      "Coluna 0:  [ 0  5 10 15 20]\n",
      "Coluna 1:  [ 1  6 11 16 21]\n",
      "Coluna 4:  [ 4  9 14 19 24] \n",
      "\n",
      "Média das linhas:  12.0\n",
      "Média de cada linha:  [ 2.  7. 12. 17. 22.]\n",
      "Média da linha 0:  2.0\n",
      "Média da linha 2:  12.0\n",
      "Média da linha 3:  17.0 \n",
      "\n",
      "Média das colunas:  12.0\n",
      "Média de cada coluna:  [10. 11. 12. 13. 14.]\n",
      "Média da coluna 0:  10.0\n",
      "Média da coluna 1:  11.0\n",
      "Média da coluna 4:  14.0 \n",
      "\n",
      "A soma dos elementos das duas diagonais é:  120\n"
     ]
    }
   ],
   "source": [
    "import numpy as np\n",
    "\n",
    "#coluna 01 -> array[:,1]\n",
    "#soma dos elementos da coluna 1-> s_elementos_col_2 = array[:,1].sum()\n",
    "#linha 01 -> array[1,:]\n",
    "#soma dos elementos da linha 1 -> s_elementos_linha_1 = array[1,:].sum()\n",
    "#soma de cada coluna de uma matriz -> array.sum(axis = 0)\n",
    "#soma de cada linha de uma matriz -> array.sum(axis = 1)\n",
    "\n",
    "array = np.arange(25).reshape(5, 5)\n",
    "\n",
    "\"\"\"\n",
    "VERIFICAÇÕES\n",
    "print('Array Numpy: \\n', array, '\\n \\n ')\n",
    "print('Linha 0: ', array[0,:])\n",
    "print('Linha 2: ', array[2,:])\n",
    "print('Linha 3: ', array[3,:], '\\n')\n",
    "print('Coluna 0: ', array[:, 0] )\n",
    "print('Coluna 1: ', array[:, 1])\n",
    "print('Coluna 4: ', array[:, 4],'\\n' )\"\"\"\n",
    "\n",
    "media_linhas = np.mean(array, axis = 1)\n",
    "\n",
    "print('Média das linhas: ', np.mean(array))\n",
    "print('Média de cada linha: ', array.mean(axis=1) )\n",
    "print('Média da linha 0: ',  np.mean(array[0,:]))\n",
    "print('Média da linha 2: ',  np.mean(array[2,:]))\n",
    "print('Média da linha 3: ',  np.mean(array[3,:]), '\\n')\n",
    "\n",
    "print('Média das colunas: ', np.mean(array.mean(axis=0)))\n",
    "print('Média de cada coluna: ', array.mean(axis=0) )\n",
    "print('Média da coluna 0: ', np.mean(array[:,0]))\n",
    "print('Média da coluna 1: ', np.mean(array[:,1]))\n",
    "print('Média da coluna 4: ', np.mean(array[:,4]), '\\n')\n",
    "\n",
    "\n",
    "'''\n",
    "TENTATIVAS\n",
    "diagonal1 = np.diagonal(array)\n",
    "print('Elementos da diagonal 1: ', diagonal1, '\\n')\n",
    "print('Exibindo a diagonal: ', np.diag(np.diag(array)) )\n",
    "diagonal2 = 2\n",
    "print('Elementos da diagonal 2: ', diagonal2, '\\n')\n",
    "print('Soma das duas diagonais: ', sum(diagonal1, diagonal2), '\\n')'''\n",
    "#SOMA DA DIAGONAL PRINCIPAL E SECUNDÁRIA\n",
    "diagonal = np.trace(array)\n",
    "diagonal2 = np.trace(array, axis2=1)\n",
    "soma_diagonal = diagonal+diagonal2\n",
    "print(\"A soma dos elementos das duas diagonais é: \", soma_diagonal)"
   ]
  },
  {
   "cell_type": "markdown",
   "metadata": {},
   "source": [
    "## Exercício 9"
   ]
  },
  {
   "cell_type": "markdown",
   "metadata": {},
   "source": [
    "Dado o array abaixo, selecione os valores Pares e todos os valores maiores que 8, seu código não deve conter nenhum tipo de loop (for / while):\n",
    "\n",
    "• np.arange(25).reshape(5, 5)"
   ]
  },
  {
   "cell_type": "code",
   "execution_count": 321,
   "metadata": {},
   "outputs": [
    {
     "name": "stdout",
     "output_type": "stream",
     "text": [
      "Array Numpy: \n",
      " [[ 0  1  2  3  4]\n",
      " [ 5  6  7  8  9]\n",
      " [10 11 12 13 14]\n",
      " [15 16 17 18 19]\n",
      " [20 21 22 23 24]] \n",
      "\n",
      "Seleção de valores pares e valores > 8 do Array Numpy: \n",
      " [10 12 14 16 18 20 22 24] \n",
      "\n"
     ]
    }
   ],
   "source": [
    "import numpy as np\n",
    "\n",
    "array = np.arange(25).reshape(5, 5)\n",
    "\n",
    "print('Array Numpy: \\n', array, '\\n')\n",
    "\n",
    "\n",
    "'''\n",
    "VERIFICAÇÕES:\n",
    "\n",
    "print('Pares do Array Numpy: \\n', array[array%2==0], '\\n') # NUMPY COM EXPRESSÕES CONDICIONAIS ->PARES = ARRAY%2==0 - RETORNA TRUE E FALSE --- ARRAY[PARES]\n",
    "print('Valores > 8 do Array Numpy: \\n', array[array>8], '\\n') # NUMPY COM EXPRESSÕES CONDICIONAIS -> MAIOR_QUE_OITO = ARRAY>5 - RETORNA TRUE E FALSE --- ARRAY[MAIOR_QUE_OITO]'''\n",
    "\n",
    "new_array = array[(array%2==0)&(array>8)]\n",
    "print('Seleção de valores pares e valores > 8 do Array Numpy: \\n', new_array, '\\n')"
   ]
  },
  {
   "cell_type": "markdown",
   "metadata": {},
   "source": [
    "## Exercício 10"
   ]
  },
  {
   "cell_type": "markdown",
   "metadata": {},
   "source": [
    "Dado o array 2D abaixo, substitua os 5 menores valores por -1, seu código não deve conter nenhum tipo de loop (for / while):\n",
    "\n",
    "• a = np.random.randint(0, 50, (5, 5))"
   ]
  },
  {
   "cell_type": "code",
   "execution_count": 335,
   "metadata": {},
   "outputs": [
    {
     "name": "stdout",
     "output_type": "stream",
     "text": [
      "Array Numpy: \n",
      " [[12 42  7  7 16]\n",
      " [34 14 43 19 49]\n",
      " [24 28 23  2 38]\n",
      " [11 12  9  9 47]\n",
      " [40 35 19 38 24]] \n",
      "\n",
      "Lista: \n",
      " [12, 42, 7, 7, 16, 34, 14, 43, 19, 49, 24, 28, 23, 2, 38, 11, 12, 9, 9, 47, 40, 35, 19, 38, 24]\n",
      "Lista ordenada:  [2, 7, 7, 9, 9, 11, 12, 12, 14, 16, 19, 19, 23, 24, 24, 28, 34, 35, 38, 38, 40, 42, 43, 47, 49] \n",
      "\n",
      "Cinco menores:  [2, 7, 7, 9, 9]\n",
      "Lista ordenada com valores substituidos:  [-1, -1, -1, -1, -1, 11, 12, 12, 14, 16, 19, 19, 23, 24, 24, 28, 34, 35, 38, 38, 40, 42, 43, 47, 49] \n",
      "\n",
      "Resultado final: \n",
      " [[-1 -1 -1 -1 -1]\n",
      " [11 12 12 14 16]\n",
      " [19 19 23 24 24]\n",
      " [28 34 35 38 38]\n",
      " [40 42 43 47 49]]\n"
     ]
    }
   ],
   "source": [
    "import numpy as np \n",
    "\n",
    "array = np.random.randint(0, 50, (5, 5))\n",
    "print('Array Numpy: \\n', array, '\\n')\n",
    "\n",
    "lista = array.ravel().tolist()\n",
    "print(\"Lista: \\n\", lista)\n",
    "\n",
    "\n",
    "lista_ordenada = sorted(lista)\n",
    "print(\"Lista ordenada: \", lista_ordenada, '\\n')\n",
    "cinco_menores = lista_ordenada[:5] \n",
    "print(\"Cinco menores: \", cinco_menores)\n",
    "#a, b, c, d, e = cinco_menores\n",
    "#print(\"Cinco menores: \", a, b, c, d, e)\n",
    "\n",
    "#lista_ordenada[:5] = -1\n",
    "lista_ordenada[0] = -1\n",
    "lista_ordenada[1] = -1\n",
    "lista_ordenada[2] = -1\n",
    "lista_ordenada[3] = -1\n",
    "lista_ordenada[4] = -1\n",
    "\n",
    "print(\"Lista ordenada com valores substituidos: \", lista_ordenada, '\\n')\n",
    "novo_array= np.array(lista_ordenada).reshape((5, 5))\n",
    "#print(np.argpartition(array, 5))\n",
    "#menores_valores = np.minimum(array, e)\n",
    "#menores_valores = np.maximum(array, e)\n",
    "print('Resultado final: \\n', novo_array)"
   ]
  }
 ],
 "metadata": {
  "kernelspec": {
   "display_name": "Python 3.10.5 64-bit",
   "language": "python",
   "name": "python3"
  },
  "language_info": {
   "codemirror_mode": {
    "name": "ipython",
    "version": 3
   },
   "file_extension": ".py",
   "mimetype": "text/x-python",
   "name": "python",
   "nbconvert_exporter": "python",
   "pygments_lexer": "ipython3",
   "version": "3.10.5"
  },
  "orig_nbformat": 4,
  "vscode": {
   "interpreter": {
    "hash": "d1d9262175893a3f9c089c524f593192d5b8538f6ec9ef6d8235214e3dc272a1"
   }
  }
 },
 "nbformat": 4,
 "nbformat_minor": 2
}
