{
 "cells": [
  {
   "cell_type": "markdown",
   "metadata": {
    "id": "HxN9tOwd10wz"
   },
   "source": [
    "# Exercícios – Parte 2"
   ]
  },
  {
   "cell_type": "markdown",
   "metadata": {
    "id": "9_zFz1Nj12n2"
   },
   "source": [
    "## Exercício 1"
   ]
  },
  {
   "cell_type": "markdown",
   "metadata": {
    "id": "P9G45UWe2IwR"
   },
   "source": [
    "Dada duas listas como no exemplo abaixo:\n",
    "\n",
    " a = [1, 1, 2, 3, 5, 8, 13, 21, 34, 55, 89]\n",
    "\n",
    " b = [1, 2, 3, 4, 5, 6, 7, 8, 9, 10, 11, 12, 13]\n",
    " \n",
    "Escreve um programa que retorne o que as listas têm comum (sem repetições). O seu programa deve\n",
    "funcionar para listas de qualquer tamanho.\n"
   ]
  },
  {
   "cell_type": "markdown",
   "metadata": {},
   "source": [
    "Utilizando Listas:"
   ]
  },
  {
   "cell_type": "code",
   "execution_count": 2,
   "metadata": {},
   "outputs": [
    {
     "name": "stdout",
     "output_type": "stream",
     "text": [
      "Elementos em comum [1, 1, 2, 3, 5, 8, 13]\n",
      "Elementos em comum sem repetição:  [1, 2, 3, 5, 8, 13]\n"
     ]
    }
   ],
   "source": [
    "a, b = [1, 1, 2, 3, 5, 8, 13, 21, 34, 55, 89], [1, 2, 3, 4, 5, 6, 7, 8, 9, 10, 11, 12, 13]\n",
    "elementos_em_comum, elementos_em_comum_sem_repeticao = [], []\n",
    "\n",
    "for elem_a in a:\n",
    "    for elem_b in b:\n",
    "        if elem_a==elem_b:\n",
    "            elementos_em_comum.append(elem_a)\n",
    "\n",
    "for el in elementos_em_comum:\n",
    "    if el not in elementos_em_comum_sem_repeticao:\n",
    "        elementos_em_comum_sem_repeticao.append(el)\n",
    "        \n",
    "print('Elementos em comum', elementos_em_comum)\n",
    "print('Elementos em comum sem repetição: ', elementos_em_comum_sem_repeticao)"
   ]
  },
  {
   "cell_type": "markdown",
   "metadata": {},
   "source": [
    "Utilizando Conjuntos:"
   ]
  },
  {
   "cell_type": "code",
   "execution_count": 47,
   "metadata": {},
   "outputs": [
    {
     "name": "stdout",
     "output_type": "stream",
     "text": [
      "Elementos em comum sem repetição:  [1, 2, 3, 5, 8, 13]\n"
     ]
    }
   ],
   "source": [
    "a, b = [1, 1, 2, 3, 5, 8, 13, 21, 34, 55, 89], [1, 2, 3, 4, 5, 6, 7, 8, 9, 10, 11, 12, 13]\n",
    "c = set(a).intersection(set(b))\n",
    "print('Elementos em comum sem repetição: ', list(c))\n"
   ]
  },
  {
   "cell_type": "markdown",
   "metadata": {
    "id": "NmrZIH2d15RC"
   },
   "source": [
    "## Exercício 2"
   ]
  },
  {
   "cell_type": "markdown",
   "metadata": {
    "id": "QR5CKxDC2Ns9"
   },
   "source": [
    "Dada a seguinte lista:\n",
    "a = [1, 4, 9, 16, 25, 36, 49, 64, 81, 100]\n",
    "\n",
    "Faça um programa que gere uma nova lista contendo apenas números ímpares.\n"
   ]
  },
  {
   "cell_type": "code",
   "execution_count": 3,
   "metadata": {},
   "outputs": [
    {
     "name": "stdout",
     "output_type": "stream",
     "text": [
      "[1, 9, 25, 49, 81]\n"
     ]
    }
   ],
   "source": [
    "a = [1, 4, 9, 16, 25, 36, 49, 64, 81, 100]\n",
    "lista_numeros_impares = []\n",
    "\n",
    "for x in a:\n",
    "    if (x%2!=0):\n",
    "        lista_numeros_impares.append(x)\n",
    "        \n",
    "print(lista_numeros_impares)"
   ]
  },
  {
   "cell_type": "code",
   "execution_count": 21,
   "metadata": {},
   "outputs": [
    {
     "name": "stdout",
     "output_type": "stream",
     "text": [
      "[1, 9, 25, 49, 81]\n"
     ]
    }
   ],
   "source": [
    "a = [1, 4, 9, 16, 25, 36, 49, 64, 81, 100]\n",
    "lista_numeros_impares = [x for x in a if x % 2 !=0 ]\n",
    "print(lista_numeros_impares)"
   ]
  },
  {
   "cell_type": "markdown",
   "metadata": {
    "id": "1_e1c0rC16ag"
   },
   "source": [
    "## Exercício 3"
   ]
  },
  {
   "cell_type": "markdown",
   "metadata": {
    "id": "wnnL0IOv2Qmu"
   },
   "source": [
    "Peça para o usuário digitar uma palavra pelo teclado e determina se a palavra digitada é ou não um\n",
    "palíndromo. Um palíndromo é uma palavra que permanece igual se lida de traz pra frente.\n"
   ]
  },
  {
   "cell_type": "code",
   "execution_count": 9,
   "metadata": {},
   "outputs": [
    {
     "name": "stdout",
     "output_type": "stream",
     "text": [
      "A palavra digitada nao é um palíndromo.\n"
     ]
    }
   ],
   "source": [
    "palavra = input('Digite uma palavra: ')\n",
    "\n",
    "if palavra == ''.join(reversed(palavra)):\n",
    "    print(\"A palavra digitada é um palíndromo.\")\n",
    "else:\n",
    "    print(\"A palavra digitada não é um palíndromo.\")"
   ]
  },
  {
   "cell_type": "code",
   "execution_count": 37,
   "metadata": {},
   "outputs": [
    {
     "name": "stdout",
     "output_type": "stream",
     "text": [
      "ola\n",
      "['a', 'l', 'o']\n",
      "A palavra digitada não é um palíndromo.\n"
     ]
    }
   ],
   "source": [
    "## ERRO\n",
    "palavra = str(input('Digite uma palavra: '))\n",
    "palavra_reversa = list(palavra)\n",
    "palavra_reversa.reverse()\n",
    "\n",
    "if list(palavra) == palavra_reversa:\n",
    "    print(\"A palavra digitada é um palíndromo.\")\n",
    "else:\n",
    "    print(\"A palavra digitada não é um palíndromo.\")"
   ]
  },
  {
   "cell_type": "code",
   "execution_count": 24,
   "metadata": {},
   "outputs": [
    {
     "name": "stdout",
     "output_type": "stream",
     "text": [
      "A palavra digitada é um palíndromo.\n"
     ]
    }
   ],
   "source": [
    "palavra = str(input('Digite uma palavra: '))\n",
    "if palavra == palavra[::-1]:\n",
    "    print(\"A palavra digitada é um palíndromo.\")\n",
    "else:\n",
    "    print(\"A palavra digitada não é um palíndromo.\")"
   ]
  },
  {
   "cell_type": "markdown",
   "metadata": {
    "id": "3F39NIWQ17lk"
   },
   "source": [
    "## Exercício 4"
   ]
  },
  {
   "cell_type": "markdown",
   "metadata": {
    "id": "tZe2VdPX2TnA"
   },
   "source": [
    "Dada as listas a seguir:\n",
    "\n",
    "primeirosNomes = ['Joao', 'Douglas', 'Lucas', 'José']\n",
    "\n",
    "sobreNomes = ['Soares', 'Souza', 'Silveira', 'Pedreira']\n",
    "\n",
    "idades = [19, 28, 25, 31]\n",
    "\n",
    "Faça um programa que imprima os dados na seguinte estrutura: \" - está com anos\"\n"
   ]
  },
  {
   "cell_type": "code",
   "execution_count": 6,
   "metadata": {},
   "outputs": [
    {
     "name": "stdout",
     "output_type": "stream",
     "text": [
      "Joao Soares está com 19 anos.\n",
      "Douglas Souza está com 28 anos.\n",
      "Lucas Silveira está com 25 anos.\n",
      "José Pedreira está com 31 anos.\n"
     ]
    }
   ],
   "source": [
    "primeirosNomes, sobrenomes, idades = ['Joao', 'Douglas', 'Lucas', 'José'], ['Soares', 'Souza', 'Silveira', 'Pedreira'], [19, 28, 25, 31]\n",
    "\n",
    "x=0\n",
    "while x<len(idades):\n",
    "    print(f'{primeirosNomes[x]} {sobrenomes[x]} está com {idades[x]} anos.')\n",
    "    x+=1"
   ]
  },
  {
   "cell_type": "code",
   "execution_count": 25,
   "metadata": {},
   "outputs": [
    {
     "name": "stdout",
     "output_type": "stream",
     "text": [
      "Joao Soares está com 19 anos.\n",
      "Douglas Souza está com 28 anos.\n",
      "Lucas Silveira está com 25 anos.\n",
      "José Pedreira está com 31 anos.\n"
     ]
    }
   ],
   "source": [
    "primeirosNomes, sobrenomes, idades = ['Joao', 'Douglas', 'Lucas', 'José'], ['Soares', 'Souza', 'Silveira', 'Pedreira'], [19, 28, 25, 31]\n",
    "for primeirosNomes, sobrenomes, idades in zip(primeirosNomes, sobrenomes, idades):\n",
    "    print(f'{primeirosNomes} {sobrenomes} está com {idades} anos.')"
   ]
  },
  {
   "cell_type": "markdown",
   "metadata": {
    "id": "duTJNJ5s1-HC"
   },
   "source": [
    "## Exercício 5"
   ]
  },
  {
   "cell_type": "markdown",
   "metadata": {
    "id": "e3hn33Uv2Z0k"
   },
   "source": [
    "Escreva uma função que recebe uma lista e retorna uma nova lista sem elementos duplicados. Utilize um\n",
    "exemplo para testar sua função"
   ]
  },
  {
   "cell_type": "code",
   "execution_count": 52,
   "metadata": {},
   "outputs": [
    {
     "name": "stdout",
     "output_type": "stream",
     "text": [
      "Lista original: [1, 1, 2, 3, 4]\n",
      "Nova Lista: [1, 2, 3, 4]\n"
     ]
    }
   ],
   "source": [
    "lista = [1, 1, 2, 3, 4]\n",
    "print('Lista original:', lista)\n",
    "\n",
    "def nova_lista(lista):    \n",
    "    #convertendo lista em conjunto\n",
    "    lista_conjunto = set(lista)\n",
    "    nova_lista_conjunto = lista_conjunto\n",
    "    \n",
    "    nova_lista = list(nova_lista_conjunto)              \n",
    "    return nova_lista\n",
    "\n",
    "print('Nova Lista:', nova_lista(lista))"
   ]
  },
  {
   "cell_type": "markdown",
   "metadata": {},
   "source": [
    "Utilizando testes unitários.\n",
    "\n",
    "Documentação: https://docs.python.org/3/library/unittest.html"
   ]
  },
  {
   "cell_type": "code",
   "execution_count": 29,
   "metadata": {},
   "outputs": [
    {
     "name": "stderr",
     "output_type": "stream",
     "text": [
      "usage: ipykernel_launcher.py [-h] [-v] [-q] [--locals] [-f] [-c] [-b]\n",
      "                             [-k TESTNAMEPATTERNS]\n",
      "                             [tests ...]\n",
      "ipykernel_launcher.py: error: argument -f/--failfast: ignored explicit argument '\"c:\\\\Users\\\\Anne Karoline\\\\AppData\\\\Roaming\\\\jupyter\\\\runtime\\\\kernel-v2-3464ajHE1BhnsM17.json\"'\n"
     ]
    },
    {
     "ename": "AssertionError",
     "evalue": "",
     "output_type": "error",
     "traceback": [
      "\u001b[1;31m---------------------------------------------------------------------------\u001b[0m",
      "\u001b[1;31mArgumentError\u001b[0m                             Traceback (most recent call last)",
      "File \u001b[1;32mc:\\Users\\Anne Karoline\\AppData\\Local\\Programs\\Python\\Python310\\lib\\argparse.py:1859\u001b[0m, in \u001b[0;36mArgumentParser.parse_known_args\u001b[1;34m(self, args, namespace)\u001b[0m\n\u001b[0;32m   1858\u001b[0m \u001b[39mtry\u001b[39;00m:\n\u001b[1;32m-> 1859\u001b[0m     namespace, args \u001b[39m=\u001b[39m \u001b[39mself\u001b[39;49m\u001b[39m.\u001b[39;49m_parse_known_args(args, namespace)\n\u001b[0;32m   1860\u001b[0m \u001b[39mexcept\u001b[39;00m ArgumentError:\n",
      "File \u001b[1;32mc:\\Users\\Anne Karoline\\AppData\\Local\\Programs\\Python\\Python310\\lib\\argparse.py:2068\u001b[0m, in \u001b[0;36mArgumentParser._parse_known_args\u001b[1;34m(self, arg_strings, namespace)\u001b[0m\n\u001b[0;32m   2067\u001b[0m     \u001b[39m# consume the next optional and any arguments for it\u001b[39;00m\n\u001b[1;32m-> 2068\u001b[0m     start_index \u001b[39m=\u001b[39m consume_optional(start_index)\n\u001b[0;32m   2070\u001b[0m \u001b[39m# consume any positionals following the last Optional\u001b[39;00m\n",
      "File \u001b[1;32mc:\\Users\\Anne Karoline\\AppData\\Local\\Programs\\Python\\Python310\\lib\\argparse.py:1990\u001b[0m, in \u001b[0;36mArgumentParser._parse_known_args.<locals>.consume_optional\u001b[1;34m(start_index)\u001b[0m\n\u001b[0;32m   1989\u001b[0m         msg \u001b[39m=\u001b[39m _(\u001b[39m'\u001b[39m\u001b[39mignored explicit argument \u001b[39m\u001b[39m%r\u001b[39;00m\u001b[39m'\u001b[39m)\n\u001b[1;32m-> 1990\u001b[0m         \u001b[39mraise\u001b[39;00m ArgumentError(action, msg \u001b[39m%\u001b[39m explicit_arg)\n\u001b[0;32m   1992\u001b[0m \u001b[39m# if there is no explicit argument, try to match the\u001b[39;00m\n\u001b[0;32m   1993\u001b[0m \u001b[39m# optional's string arguments with the following strings\u001b[39;00m\n\u001b[0;32m   1994\u001b[0m \u001b[39m# if successful, exit the loop\u001b[39;00m\n\u001b[0;32m   1995\u001b[0m \u001b[39melse\u001b[39;00m:\n",
      "\u001b[1;31mArgumentError\u001b[0m: argument -f/--failfast: ignored explicit argument '\"c:\\\\Users\\\\Anne Karoline\\\\AppData\\\\Roaming\\\\jupyter\\\\runtime\\\\kernel-v2-3464ajHE1BhnsM17.json\"'",
      "\nDuring handling of the above exception, another exception occurred:\n",
      "\u001b[1;31mSystemExit\u001b[0m                                Traceback (most recent call last)",
      "    \u001b[1;31m[... skipping hidden 1 frame]\u001b[0m\n",
      "\u001b[1;32mc:\\Users\\Anne Karoline\\OneDrive\\Área de Trabalho\\Estágio-Compass\\Sprint02-Python\\sprint02-Python-compass\\lista-de-exercicios\\lista-01-02\\Lista_01-Parte_02.ipynb Célula: 24\u001b[0m in \u001b[0;36m<cell line: 12>\u001b[1;34m()\u001b[0m\n\u001b[0;32m     <a href='vscode-notebook-cell:/c%3A/Users/Anne%20Karoline/OneDrive/%C3%81rea%20de%20Trabalho/Est%C3%A1gio-Compass/Sprint02-Python/sprint02-Python-compass/lista-de-exercicios/lista-01-02/Lista_01-Parte_02.ipynb#Y106sZmlsZQ%3D%3D?line=11'>12</a>\u001b[0m \u001b[39mif\u001b[39;00m \u001b[39m__name__\u001b[39m \u001b[39m==\u001b[39m \u001b[39m'\u001b[39m\u001b[39m__main__\u001b[39m\u001b[39m'\u001b[39m:\n\u001b[1;32m---> <a href='vscode-notebook-cell:/c%3A/Users/Anne%20Karoline/OneDrive/%C3%81rea%20de%20Trabalho/Est%C3%A1gio-Compass/Sprint02-Python/sprint02-Python-compass/lista-de-exercicios/lista-01-02/Lista_01-Parte_02.ipynb#Y106sZmlsZQ%3D%3D?line=12'>13</a>\u001b[0m     unittest\u001b[39m.\u001b[39;49mmain()\n",
      "File \u001b[1;32mc:\\Users\\Anne Karoline\\AppData\\Local\\Programs\\Python\\Python310\\lib\\unittest\\main.py:100\u001b[0m, in \u001b[0;36mTestProgram.__init__\u001b[1;34m(self, module, defaultTest, argv, testRunner, testLoader, exit, verbosity, failfast, catchbreak, buffer, warnings, tb_locals)\u001b[0m\n\u001b[0;32m     99\u001b[0m \u001b[39mself\u001b[39m\u001b[39m.\u001b[39mprogName \u001b[39m=\u001b[39m os\u001b[39m.\u001b[39mpath\u001b[39m.\u001b[39mbasename(argv[\u001b[39m0\u001b[39m])\n\u001b[1;32m--> 100\u001b[0m \u001b[39mself\u001b[39;49m\u001b[39m.\u001b[39;49mparseArgs(argv)\n\u001b[0;32m    101\u001b[0m \u001b[39mself\u001b[39m\u001b[39m.\u001b[39mrunTests()\n",
      "File \u001b[1;32mc:\\Users\\Anne Karoline\\AppData\\Local\\Programs\\Python\\Python310\\lib\\unittest\\main.py:133\u001b[0m, in \u001b[0;36mTestProgram.parseArgs\u001b[1;34m(self, argv)\u001b[0m\n\u001b[0;32m    132\u001b[0m \u001b[39melse\u001b[39;00m:\n\u001b[1;32m--> 133\u001b[0m     \u001b[39mself\u001b[39;49m\u001b[39m.\u001b[39;49m_main_parser\u001b[39m.\u001b[39;49mparse_args(argv[\u001b[39m1\u001b[39;49m:], \u001b[39mself\u001b[39;49m)\n\u001b[0;32m    135\u001b[0m \u001b[39mif\u001b[39;00m \u001b[39mself\u001b[39m\u001b[39m.\u001b[39mtests:\n",
      "File \u001b[1;32mc:\\Users\\Anne Karoline\\AppData\\Local\\Programs\\Python\\Python310\\lib\\argparse.py:1826\u001b[0m, in \u001b[0;36mArgumentParser.parse_args\u001b[1;34m(self, args, namespace)\u001b[0m\n\u001b[0;32m   1825\u001b[0m \u001b[39mdef\u001b[39;00m \u001b[39mparse_args\u001b[39m(\u001b[39mself\u001b[39m, args\u001b[39m=\u001b[39m\u001b[39mNone\u001b[39;00m, namespace\u001b[39m=\u001b[39m\u001b[39mNone\u001b[39;00m):\n\u001b[1;32m-> 1826\u001b[0m     args, argv \u001b[39m=\u001b[39m \u001b[39mself\u001b[39;49m\u001b[39m.\u001b[39;49mparse_known_args(args, namespace)\n\u001b[0;32m   1827\u001b[0m     \u001b[39mif\u001b[39;00m argv:\n",
      "File \u001b[1;32mc:\\Users\\Anne Karoline\\AppData\\Local\\Programs\\Python\\Python310\\lib\\argparse.py:1862\u001b[0m, in \u001b[0;36mArgumentParser.parse_known_args\u001b[1;34m(self, args, namespace)\u001b[0m\n\u001b[0;32m   1861\u001b[0m         err \u001b[39m=\u001b[39m _sys\u001b[39m.\u001b[39mexc_info()[\u001b[39m1\u001b[39m]\n\u001b[1;32m-> 1862\u001b[0m         \u001b[39mself\u001b[39;49m\u001b[39m.\u001b[39;49merror(\u001b[39mstr\u001b[39;49m(err))\n\u001b[0;32m   1863\u001b[0m \u001b[39melse\u001b[39;00m:\n",
      "File \u001b[1;32mc:\\Users\\Anne Karoline\\AppData\\Local\\Programs\\Python\\Python310\\lib\\argparse.py:2583\u001b[0m, in \u001b[0;36mArgumentParser.error\u001b[1;34m(self, message)\u001b[0m\n\u001b[0;32m   2582\u001b[0m args \u001b[39m=\u001b[39m {\u001b[39m'\u001b[39m\u001b[39mprog\u001b[39m\u001b[39m'\u001b[39m: \u001b[39mself\u001b[39m\u001b[39m.\u001b[39mprog, \u001b[39m'\u001b[39m\u001b[39mmessage\u001b[39m\u001b[39m'\u001b[39m: message}\n\u001b[1;32m-> 2583\u001b[0m \u001b[39mself\u001b[39;49m\u001b[39m.\u001b[39;49mexit(\u001b[39m2\u001b[39;49m, _(\u001b[39m'\u001b[39;49m\u001b[39m%(prog)s\u001b[39;49;00m\u001b[39m: error: \u001b[39;49m\u001b[39m%(message)s\u001b[39;49;00m\u001b[39m\\n\u001b[39;49;00m\u001b[39m'\u001b[39;49m) \u001b[39m%\u001b[39;49m args)\n",
      "File \u001b[1;32mc:\\Users\\Anne Karoline\\AppData\\Local\\Programs\\Python\\Python310\\lib\\argparse.py:2570\u001b[0m, in \u001b[0;36mArgumentParser.exit\u001b[1;34m(self, status, message)\u001b[0m\n\u001b[0;32m   2569\u001b[0m     \u001b[39mself\u001b[39m\u001b[39m.\u001b[39m_print_message(message, _sys\u001b[39m.\u001b[39mstderr)\n\u001b[1;32m-> 2570\u001b[0m _sys\u001b[39m.\u001b[39;49mexit(status)\n",
      "\u001b[1;31mSystemExit\u001b[0m: 2",
      "\nDuring handling of the above exception, another exception occurred:\n",
      "\u001b[1;31mAssertionError\u001b[0m                            Traceback (most recent call last)",
      "    \u001b[1;31m[... skipping hidden 1 frame]\u001b[0m\n",
      "File \u001b[1;32mc:\\Users\\Anne Karoline\\AppData\\Local\\Programs\\Python\\Python310\\lib\\site-packages\\IPython\\core\\interactiveshell.py:1983\u001b[0m, in \u001b[0;36mInteractiveShell.showtraceback\u001b[1;34m(self, exc_tuple, filename, tb_offset, exception_only, running_compiled_code)\u001b[0m\n\u001b[0;32m   1980\u001b[0m \u001b[39mif\u001b[39;00m exception_only:\n\u001b[0;32m   1981\u001b[0m     stb \u001b[39m=\u001b[39m [\u001b[39m'\u001b[39m\u001b[39mAn exception has occurred, use \u001b[39m\u001b[39m%\u001b[39m\u001b[39mtb to see \u001b[39m\u001b[39m'\u001b[39m\n\u001b[0;32m   1982\u001b[0m            \u001b[39m'\u001b[39m\u001b[39mthe full traceback.\u001b[39m\u001b[39m\\n\u001b[39;00m\u001b[39m'\u001b[39m]\n\u001b[1;32m-> 1983\u001b[0m     stb\u001b[39m.\u001b[39mextend(\u001b[39mself\u001b[39;49m\u001b[39m.\u001b[39;49mInteractiveTB\u001b[39m.\u001b[39;49mget_exception_only(etype,\n\u001b[0;32m   1984\u001b[0m                                                      value))\n\u001b[0;32m   1985\u001b[0m \u001b[39melse\u001b[39;00m:\n\u001b[0;32m   1986\u001b[0m     \u001b[39mtry\u001b[39;00m:\n\u001b[0;32m   1987\u001b[0m         \u001b[39m# Exception classes can customise their traceback - we\u001b[39;00m\n\u001b[0;32m   1988\u001b[0m         \u001b[39m# use this in IPython.parallel for exceptions occurring\u001b[39;00m\n\u001b[0;32m   1989\u001b[0m         \u001b[39m# in the engines. This should return a list of strings.\u001b[39;00m\n",
      "File \u001b[1;32mc:\\Users\\Anne Karoline\\AppData\\Local\\Programs\\Python\\Python310\\lib\\site-packages\\IPython\\core\\ultratb.py:585\u001b[0m, in \u001b[0;36mListTB.get_exception_only\u001b[1;34m(self, etype, value)\u001b[0m\n\u001b[0;32m    577\u001b[0m \u001b[39mdef\u001b[39;00m \u001b[39mget_exception_only\u001b[39m(\u001b[39mself\u001b[39m, etype, value):\n\u001b[0;32m    578\u001b[0m     \u001b[39m\"\"\"Only print the exception type and message, without a traceback.\u001b[39;00m\n\u001b[0;32m    579\u001b[0m \n\u001b[0;32m    580\u001b[0m \u001b[39m    Parameters\u001b[39;00m\n\u001b[1;32m   (...)\u001b[0m\n\u001b[0;32m    583\u001b[0m \u001b[39m    value : exception value\u001b[39;00m\n\u001b[0;32m    584\u001b[0m \u001b[39m    \"\"\"\u001b[39;00m\n\u001b[1;32m--> 585\u001b[0m     \u001b[39mreturn\u001b[39;00m ListTB\u001b[39m.\u001b[39;49mstructured_traceback(\u001b[39mself\u001b[39;49m, etype, value)\n",
      "File \u001b[1;32mc:\\Users\\Anne Karoline\\AppData\\Local\\Programs\\Python\\Python310\\lib\\site-packages\\IPython\\core\\ultratb.py:443\u001b[0m, in \u001b[0;36mListTB.structured_traceback\u001b[1;34m(self, etype, evalue, etb, tb_offset, context)\u001b[0m\n\u001b[0;32m    440\u001b[0m     chained_exc_ids\u001b[39m.\u001b[39madd(\u001b[39mid\u001b[39m(exception[\u001b[39m1\u001b[39m]))\n\u001b[0;32m    441\u001b[0m     chained_exceptions_tb_offset \u001b[39m=\u001b[39m \u001b[39m0\u001b[39m\n\u001b[0;32m    442\u001b[0m     out_list \u001b[39m=\u001b[39m (\n\u001b[1;32m--> 443\u001b[0m         \u001b[39mself\u001b[39;49m\u001b[39m.\u001b[39;49mstructured_traceback(\n\u001b[0;32m    444\u001b[0m             etype, evalue, (etb, chained_exc_ids),\n\u001b[0;32m    445\u001b[0m             chained_exceptions_tb_offset, context)\n\u001b[0;32m    446\u001b[0m         \u001b[39m+\u001b[39m chained_exception_message\n\u001b[0;32m    447\u001b[0m         \u001b[39m+\u001b[39m out_list)\n\u001b[0;32m    449\u001b[0m \u001b[39mreturn\u001b[39;00m out_list\n",
      "File \u001b[1;32mc:\\Users\\Anne Karoline\\AppData\\Local\\Programs\\Python\\Python310\\lib\\site-packages\\IPython\\core\\ultratb.py:1118\u001b[0m, in \u001b[0;36mAutoFormattedTB.structured_traceback\u001b[1;34m(self, etype, value, tb, tb_offset, number_of_lines_of_context)\u001b[0m\n\u001b[0;32m   1116\u001b[0m \u001b[39melse\u001b[39;00m:\n\u001b[0;32m   1117\u001b[0m     \u001b[39mself\u001b[39m\u001b[39m.\u001b[39mtb \u001b[39m=\u001b[39m tb\n\u001b[1;32m-> 1118\u001b[0m \u001b[39mreturn\u001b[39;00m FormattedTB\u001b[39m.\u001b[39;49mstructured_traceback(\n\u001b[0;32m   1119\u001b[0m     \u001b[39mself\u001b[39;49m, etype, value, tb, tb_offset, number_of_lines_of_context)\n",
      "File \u001b[1;32mc:\\Users\\Anne Karoline\\AppData\\Local\\Programs\\Python\\Python310\\lib\\site-packages\\IPython\\core\\ultratb.py:1012\u001b[0m, in \u001b[0;36mFormattedTB.structured_traceback\u001b[1;34m(self, etype, value, tb, tb_offset, number_of_lines_of_context)\u001b[0m\n\u001b[0;32m   1009\u001b[0m mode \u001b[39m=\u001b[39m \u001b[39mself\u001b[39m\u001b[39m.\u001b[39mmode\n\u001b[0;32m   1010\u001b[0m \u001b[39mif\u001b[39;00m mode \u001b[39min\u001b[39;00m \u001b[39mself\u001b[39m\u001b[39m.\u001b[39mverbose_modes:\n\u001b[0;32m   1011\u001b[0m     \u001b[39m# Verbose modes need a full traceback\u001b[39;00m\n\u001b[1;32m-> 1012\u001b[0m     \u001b[39mreturn\u001b[39;00m VerboseTB\u001b[39m.\u001b[39;49mstructured_traceback(\n\u001b[0;32m   1013\u001b[0m         \u001b[39mself\u001b[39;49m, etype, value, tb, tb_offset, number_of_lines_of_context\n\u001b[0;32m   1014\u001b[0m     )\n\u001b[0;32m   1015\u001b[0m \u001b[39melif\u001b[39;00m mode \u001b[39m==\u001b[39m \u001b[39m'\u001b[39m\u001b[39mMinimal\u001b[39m\u001b[39m'\u001b[39m:\n\u001b[0;32m   1016\u001b[0m     \u001b[39mreturn\u001b[39;00m ListTB\u001b[39m.\u001b[39mget_exception_only(\u001b[39mself\u001b[39m, etype, value)\n",
      "File \u001b[1;32mc:\\Users\\Anne Karoline\\AppData\\Local\\Programs\\Python\\Python310\\lib\\site-packages\\IPython\\core\\ultratb.py:865\u001b[0m, in \u001b[0;36mVerboseTB.structured_traceback\u001b[1;34m(self, etype, evalue, etb, tb_offset, number_of_lines_of_context)\u001b[0m\n\u001b[0;32m    856\u001b[0m \u001b[39mdef\u001b[39;00m \u001b[39mstructured_traceback\u001b[39m(\n\u001b[0;32m    857\u001b[0m     \u001b[39mself\u001b[39m,\n\u001b[0;32m    858\u001b[0m     etype: \u001b[39mtype\u001b[39m,\n\u001b[1;32m   (...)\u001b[0m\n\u001b[0;32m    862\u001b[0m     number_of_lines_of_context: \u001b[39mint\u001b[39m \u001b[39m=\u001b[39m \u001b[39m5\u001b[39m,\n\u001b[0;32m    863\u001b[0m ):\n\u001b[0;32m    864\u001b[0m     \u001b[39m\"\"\"Return a nice text document describing the traceback.\"\"\"\u001b[39;00m\n\u001b[1;32m--> 865\u001b[0m     formatted_exception \u001b[39m=\u001b[39m \u001b[39mself\u001b[39;49m\u001b[39m.\u001b[39;49mformat_exception_as_a_whole(etype, evalue, etb, number_of_lines_of_context,\n\u001b[0;32m    866\u001b[0m                                                            tb_offset)\n\u001b[0;32m    868\u001b[0m     colors \u001b[39m=\u001b[39m \u001b[39mself\u001b[39m\u001b[39m.\u001b[39mColors  \u001b[39m# just a shorthand + quicker name lookup\u001b[39;00m\n\u001b[0;32m    869\u001b[0m     colorsnormal \u001b[39m=\u001b[39m colors\u001b[39m.\u001b[39mNormal  \u001b[39m# used a lot\u001b[39;00m\n",
      "File \u001b[1;32mc:\\Users\\Anne Karoline\\AppData\\Local\\Programs\\Python\\Python310\\lib\\site-packages\\IPython\\core\\ultratb.py:799\u001b[0m, in \u001b[0;36mVerboseTB.format_exception_as_a_whole\u001b[1;34m(self, etype, evalue, etb, number_of_lines_of_context, tb_offset)\u001b[0m\n\u001b[0;32m    796\u001b[0m \u001b[39massert\u001b[39;00m \u001b[39misinstance\u001b[39m(tb_offset, \u001b[39mint\u001b[39m)\n\u001b[0;32m    797\u001b[0m head \u001b[39m=\u001b[39m \u001b[39mself\u001b[39m\u001b[39m.\u001b[39mprepare_header(etype, \u001b[39mself\u001b[39m\u001b[39m.\u001b[39mlong_header)\n\u001b[0;32m    798\u001b[0m records \u001b[39m=\u001b[39m (\n\u001b[1;32m--> 799\u001b[0m     \u001b[39mself\u001b[39;49m\u001b[39m.\u001b[39;49mget_records(etb, number_of_lines_of_context, tb_offset) \u001b[39mif\u001b[39;00m etb \u001b[39melse\u001b[39;00m []\n\u001b[0;32m    800\u001b[0m )\n\u001b[0;32m    802\u001b[0m frames \u001b[39m=\u001b[39m []\n\u001b[0;32m    803\u001b[0m skipped \u001b[39m=\u001b[39m \u001b[39m0\u001b[39m\n",
      "File \u001b[1;32mc:\\Users\\Anne Karoline\\AppData\\Local\\Programs\\Python\\Python310\\lib\\site-packages\\IPython\\core\\ultratb.py:854\u001b[0m, in \u001b[0;36mVerboseTB.get_records\u001b[1;34m(self, etb, number_of_lines_of_context, tb_offset)\u001b[0m\n\u001b[0;32m    848\u001b[0m     formatter \u001b[39m=\u001b[39m \u001b[39mNone\u001b[39;00m\n\u001b[0;32m    849\u001b[0m options \u001b[39m=\u001b[39m stack_data\u001b[39m.\u001b[39mOptions(\n\u001b[0;32m    850\u001b[0m     before\u001b[39m=\u001b[39mbefore,\n\u001b[0;32m    851\u001b[0m     after\u001b[39m=\u001b[39mafter,\n\u001b[0;32m    852\u001b[0m     pygments_formatter\u001b[39m=\u001b[39mformatter,\n\u001b[0;32m    853\u001b[0m )\n\u001b[1;32m--> 854\u001b[0m \u001b[39mreturn\u001b[39;00m \u001b[39mlist\u001b[39;49m(stack_data\u001b[39m.\u001b[39;49mFrameInfo\u001b[39m.\u001b[39;49mstack_data(etb, options\u001b[39m=\u001b[39;49moptions))[tb_offset:]\n",
      "File \u001b[1;32mc:\\Users\\Anne Karoline\\AppData\\Local\\Programs\\Python\\Python310\\lib\\site-packages\\stack_data\\core.py:544\u001b[0m, in \u001b[0;36mFrameInfo.stack_data\u001b[1;34m(cls, frame_or_tb, options, collapse_repeated_frames)\u001b[0m\n\u001b[0;32m    528\u001b[0m \u001b[39m@classmethod\u001b[39m\n\u001b[0;32m    529\u001b[0m \u001b[39mdef\u001b[39;00m \u001b[39mstack_data\u001b[39m(\n\u001b[0;32m    530\u001b[0m         \u001b[39mcls\u001b[39m,\n\u001b[1;32m   (...)\u001b[0m\n\u001b[0;32m    534\u001b[0m         collapse_repeated_frames: \u001b[39mbool\u001b[39m \u001b[39m=\u001b[39m \u001b[39mTrue\u001b[39;00m\n\u001b[0;32m    535\u001b[0m ) \u001b[39m-\u001b[39m\u001b[39m>\u001b[39m Iterator[Union[\u001b[39m'\u001b[39m\u001b[39mFrameInfo\u001b[39m\u001b[39m'\u001b[39m, RepeatedFrames]]:\n\u001b[0;32m    536\u001b[0m     \u001b[39m\"\"\"\u001b[39;00m\n\u001b[0;32m    537\u001b[0m \u001b[39m    An iterator of FrameInfo and RepeatedFrames objects representing\u001b[39;00m\n\u001b[0;32m    538\u001b[0m \u001b[39m    a full traceback or stack. Similar consecutive frames are collapsed into RepeatedFrames\u001b[39;00m\n\u001b[1;32m   (...)\u001b[0m\n\u001b[0;32m    542\u001b[0m \u001b[39m    and optionally an Options object to configure.\u001b[39;00m\n\u001b[0;32m    543\u001b[0m \u001b[39m    \"\"\"\u001b[39;00m\n\u001b[1;32m--> 544\u001b[0m     stack \u001b[39m=\u001b[39m \u001b[39mlist\u001b[39;49m(iter_stack(frame_or_tb))\n\u001b[0;32m    546\u001b[0m     \u001b[39m# Reverse the stack from a frame so that it's in the same order\u001b[39;00m\n\u001b[0;32m    547\u001b[0m     \u001b[39m# as the order from a traceback, which is the order of a printed\u001b[39;00m\n\u001b[0;32m    548\u001b[0m     \u001b[39m# traceback when read top to bottom (most recent call last)\u001b[39;00m\n\u001b[0;32m    549\u001b[0m     \u001b[39mif\u001b[39;00m is_frame(frame_or_tb):\n",
      "File \u001b[1;32mc:\\Users\\Anne Karoline\\AppData\\Local\\Programs\\Python\\Python310\\lib\\site-packages\\stack_data\\utils.py:98\u001b[0m, in \u001b[0;36miter_stack\u001b[1;34m(frame_or_tb)\u001b[0m\n\u001b[0;32m     96\u001b[0m \u001b[39mwhile\u001b[39;00m frame_or_tb:\n\u001b[0;32m     97\u001b[0m     \u001b[39myield\u001b[39;00m frame_or_tb\n\u001b[1;32m---> 98\u001b[0m     \u001b[39mif\u001b[39;00m is_frame(frame_or_tb):\n\u001b[0;32m     99\u001b[0m         frame_or_tb \u001b[39m=\u001b[39m frame_or_tb\u001b[39m.\u001b[39mf_back\n\u001b[0;32m    100\u001b[0m     \u001b[39melse\u001b[39;00m:\n",
      "File \u001b[1;32mc:\\Users\\Anne Karoline\\AppData\\Local\\Programs\\Python\\Python310\\lib\\site-packages\\stack_data\\utils.py:91\u001b[0m, in \u001b[0;36mis_frame\u001b[1;34m(frame_or_tb)\u001b[0m\n\u001b[0;32m     90\u001b[0m \u001b[39mdef\u001b[39;00m \u001b[39mis_frame\u001b[39m(frame_or_tb: Union[FrameType, TracebackType]) \u001b[39m-\u001b[39m\u001b[39m>\u001b[39m \u001b[39mbool\u001b[39m:\n\u001b[1;32m---> 91\u001b[0m     assert_(\u001b[39misinstance\u001b[39;49m(frame_or_tb, (types\u001b[39m.\u001b[39;49mFrameType, types\u001b[39m.\u001b[39;49mTracebackType)))\n\u001b[0;32m     92\u001b[0m     \u001b[39mreturn\u001b[39;00m \u001b[39misinstance\u001b[39m(frame_or_tb, (types\u001b[39m.\u001b[39mFrameType,))\n",
      "File \u001b[1;32mc:\\Users\\Anne Karoline\\AppData\\Local\\Programs\\Python\\Python310\\lib\\site-packages\\stack_data\\utils.py:172\u001b[0m, in \u001b[0;36massert_\u001b[1;34m(condition, error)\u001b[0m\n\u001b[0;32m    170\u001b[0m \u001b[39mif\u001b[39;00m \u001b[39misinstance\u001b[39m(error, \u001b[39mstr\u001b[39m):\n\u001b[0;32m    171\u001b[0m     error \u001b[39m=\u001b[39m \u001b[39mAssertionError\u001b[39;00m(error)\n\u001b[1;32m--> 172\u001b[0m \u001b[39mraise\u001b[39;00m error\n",
      "\u001b[1;31mAssertionError\u001b[0m: "
     ]
    }
   ],
   "source": [
    "import unittest\n",
    "\n",
    "def nova_lista(lista):        \n",
    "    nova_lista = list(set(lista))              \n",
    "    return nova_lista\n",
    "\n",
    "class TestNovaLista(unittest.TestCase):\n",
    "    def nova_lista_test(self):\n",
    "        listaTeste = [1, 1, 2, 3, 4]\n",
    "        self.assertTrue(listaTeste==lista)\n",
    "        \n",
    "if __name__ == '__main__':\n",
    "    unittest.main()"
   ]
  },
  {
   "cell_type": "markdown",
   "metadata": {
    "id": "bM8EuhJ22elc"
   },
   "source": [
    "## Exercício 6"
   ]
  },
  {
   "cell_type": "markdown",
   "metadata": {
    "id": "Bp84TIUs2uye"
   },
   "source": [
    "Escreva um programa que lê o conteúdo do arquivo texto arquivo_texto.txt e imprime o seu conteúdo.\n",
    "Dica: leia documentação da função open(...), link: https://docs.python.org/3/library/functions.html#open\n"
   ]
  },
  {
   "cell_type": "code",
   "execution_count": 38,
   "metadata": {},
   "outputs": [
    {
     "name": "stdout",
     "output_type": "stream",
     "text": [
      "1\n",
      "\n",
      "2\n",
      "\n",
      "3\n",
      "\n",
      "4\n",
      "\n",
      "5\n",
      "\n",
      "6\n",
      "\n",
      "7\n",
      "\n",
      "8\n",
      "\n",
      "9\n",
      "\n",
      "10\n"
     ]
    }
   ],
   "source": [
    "arquivo = open('arquivo_texto.txt', 'r')\n",
    "\n",
    "for line in arquivo.readlines():\n",
    "    print(line)\n",
    "    \n",
    "arquivo.close()"
   ]
  },
  {
   "cell_type": "markdown",
   "metadata": {
    "id": "R7LNTCUA2fob"
   },
   "source": [
    "## Exercício 7"
   ]
  },
  {
   "cell_type": "markdown",
   "metadata": {
    "id": "nABTFeC82xrq"
   },
   "source": [
    "Leia o arquivo person.json, faça o parsing e imprima seu conteúdo.\n",
    "Dica: leia a documentação do pacote json, link: https://docs.python.org/3/library/json.html\n"
   ]
  },
  {
   "cell_type": "code",
   "execution_count": 6,
   "metadata": {},
   "outputs": [
    {
     "name": "stdout",
     "output_type": "stream",
     "text": [
      "{\n",
      "\n",
      "\tpersons: [\n",
      "\n",
      "\t\t{\n",
      "\n",
      "\t\t\tname: \"John Doe\",\n",
      "\n",
      "\t\t\tage: 35\n",
      "\n",
      "\t\t},\n",
      "\n",
      "\t\t{\n",
      "\n",
      "\t\t\tname: \"Jane Doe\",\n",
      "\n",
      "\t\t\tage: 32\n",
      "\n",
      "\t\t},\n",
      "\n",
      "\t\t{\n",
      "\n",
      "\t\t\tname: \"John Jr.\",\n",
      "\n",
      "\t\t\tage: 7\n",
      "\n",
      "\t\t}\n",
      "\n",
      "\t]\n",
      "\n",
      "}\n"
     ]
    }
   ],
   "source": [
    "arquivo = open('./person.json', 'r')\n",
    "\n",
    "for line in arquivo.readlines():\n",
    "    print(line)\n",
    "    \n",
    "arquivo.close()"
   ]
  },
  {
   "cell_type": "code",
   "execution_count": 17,
   "metadata": {},
   "outputs": [
    {
     "ename": "AttributeError",
     "evalue": "'str' object has no attribute 'read'",
     "output_type": "error",
     "traceback": [
      "\u001b[1;31m---------------------------------------------------------------------------\u001b[0m",
      "\u001b[1;31mAttributeError\u001b[0m                            Traceback (most recent call last)",
      "\u001b[1;32mc:\\Users\\Anne Karoline\\OneDrive\\Área de Trabalho\\Estágio-Compass\\Sprint02-Python\\sprint02-Python-compass\\lista-de-exercicios\\lista-01-02\\Lista_01-Parte_02.ipynb Célula: 25\u001b[0m in \u001b[0;36m<cell line: 7>\u001b[1;34m()\u001b[0m\n\u001b[0;32m      <a href='vscode-notebook-cell:/c%3A/Users/Anne%20Karoline/OneDrive/%C3%81rea%20de%20Trabalho/Est%C3%A1gio-Compass/Sprint02-Python/sprint02-Python-compass/lista-de-exercicios/lista-01-02/Lista_01-Parte_02.ipynb#X33sZmlsZQ%3D%3D?line=4'>5</a>\u001b[0m arquivoJson \u001b[39m=\u001b[39m \u001b[39m'\u001b[39m\u001b[39m./person.json\u001b[39m\u001b[39m'\u001b[39m \n\u001b[0;32m      <a href='vscode-notebook-cell:/c%3A/Users/Anne%20Karoline/OneDrive/%C3%81rea%20de%20Trabalho/Est%C3%A1gio-Compass/Sprint02-Python/sprint02-Python-compass/lista-de-exercicios/lista-01-02/Lista_01-Parte_02.ipynb#X33sZmlsZQ%3D%3D?line=5'>6</a>\u001b[0m \u001b[39m# PARSE JSON - Converter de JSON para Python\u001b[39;00m\n\u001b[1;32m----> <a href='vscode-notebook-cell:/c%3A/Users/Anne%20Karoline/OneDrive/%C3%81rea%20de%20Trabalho/Est%C3%A1gio-Compass/Sprint02-Python/sprint02-Python-compass/lista-de-exercicios/lista-01-02/Lista_01-Parte_02.ipynb#X33sZmlsZQ%3D%3D?line=6'>7</a>\u001b[0m arquivoPython \u001b[39m=\u001b[39m json\u001b[39m.\u001b[39;49mload(arquivoJson)\n\u001b[0;32m      <a href='vscode-notebook-cell:/c%3A/Users/Anne%20Karoline/OneDrive/%C3%81rea%20de%20Trabalho/Est%C3%A1gio-Compass/Sprint02-Python/sprint02-Python-compass/lista-de-exercicios/lista-01-02/Lista_01-Parte_02.ipynb#X33sZmlsZQ%3D%3D?line=7'>8</a>\u001b[0m arquivoPythonDumped \u001b[39m=\u001b[39m json\u001b[39m.\u001b[39mdumps(arquivoJson, indent\u001b[39m=\u001b[39m\u001b[39m3\u001b[39m, ensure_ascii\u001b[39m=\u001b[39m\u001b[39mFalse\u001b[39;00m)\n\u001b[0;32m     <a href='vscode-notebook-cell:/c%3A/Users/Anne%20Karoline/OneDrive/%C3%81rea%20de%20Trabalho/Est%C3%A1gio-Compass/Sprint02-Python/sprint02-Python-compass/lista-de-exercicios/lista-01-02/Lista_01-Parte_02.ipynb#X33sZmlsZQ%3D%3D?line=9'>10</a>\u001b[0m \u001b[39m#Resultado -> Dicionário em Python\u001b[39;00m\n",
      "File \u001b[1;32mc:\\Users\\Anne Karoline\\AppData\\Local\\Programs\\Python\\Python310\\lib\\json\\__init__.py:293\u001b[0m, in \u001b[0;36mload\u001b[1;34m(fp, cls, object_hook, parse_float, parse_int, parse_constant, object_pairs_hook, **kw)\u001b[0m\n\u001b[0;32m    274\u001b[0m \u001b[39mdef\u001b[39;00m \u001b[39mload\u001b[39m(fp, \u001b[39m*\u001b[39m, \u001b[39mcls\u001b[39m\u001b[39m=\u001b[39m\u001b[39mNone\u001b[39;00m, object_hook\u001b[39m=\u001b[39m\u001b[39mNone\u001b[39;00m, parse_float\u001b[39m=\u001b[39m\u001b[39mNone\u001b[39;00m,\n\u001b[0;32m    275\u001b[0m         parse_int\u001b[39m=\u001b[39m\u001b[39mNone\u001b[39;00m, parse_constant\u001b[39m=\u001b[39m\u001b[39mNone\u001b[39;00m, object_pairs_hook\u001b[39m=\u001b[39m\u001b[39mNone\u001b[39;00m, \u001b[39m*\u001b[39m\u001b[39m*\u001b[39mkw):\n\u001b[0;32m    276\u001b[0m     \u001b[39m\"\"\"Deserialize ``fp`` (a ``.read()``-supporting file-like object containing\u001b[39;00m\n\u001b[0;32m    277\u001b[0m \u001b[39m    a JSON document) to a Python object.\u001b[39;00m\n\u001b[0;32m    278\u001b[0m \n\u001b[1;32m   (...)\u001b[0m\n\u001b[0;32m    291\u001b[0m \u001b[39m    kwarg; otherwise ``JSONDecoder`` is used.\u001b[39;00m\n\u001b[0;32m    292\u001b[0m \u001b[39m    \"\"\"\u001b[39;00m\n\u001b[1;32m--> 293\u001b[0m     \u001b[39mreturn\u001b[39;00m loads(fp\u001b[39m.\u001b[39;49mread(),\n\u001b[0;32m    294\u001b[0m         \u001b[39mcls\u001b[39m\u001b[39m=\u001b[39m\u001b[39mcls\u001b[39m, object_hook\u001b[39m=\u001b[39mobject_hook,\n\u001b[0;32m    295\u001b[0m         parse_float\u001b[39m=\u001b[39mparse_float, parse_int\u001b[39m=\u001b[39mparse_int,\n\u001b[0;32m    296\u001b[0m         parse_constant\u001b[39m=\u001b[39mparse_constant, object_pairs_hook\u001b[39m=\u001b[39mobject_pairs_hook, \u001b[39m*\u001b[39m\u001b[39m*\u001b[39mkw)\n",
      "\u001b[1;31mAttributeError\u001b[0m: 'str' object has no attribute 'read'"
     ]
    }
   ],
   "source": [
    "# IMPORTAR O MODULO JSON\n",
    "import json\n",
    "\n",
    "with open('person.json')\n",
    "\n",
    "#DEFINIR O ARQUIVO COMO UMA VARIÁVEL\n",
    "arquivoJson = './person.json' \n",
    "# PARSE JSON - Converter de JSON para Python\n",
    "arquivoPython = json.load(arquivoJson)\n",
    "arquivoPythonDumped = json.dumps(arquivoJson, indent=3, ensure_ascii=False)\n",
    "\n",
    "#Resultado -> Dicionário em Python\n",
    "print(arquivoPython[\"age\"]) "
   ]
  },
  {
   "cell_type": "markdown",
   "metadata": {
    "id": "m0WlP5rr2goN"
   },
   "source": [
    "## Exercício 8"
   ]
  },
  {
   "cell_type": "markdown",
   "metadata": {
    "id": "jUEATQis20g1"
   },
   "source": [
    "Implemente a função my_map(list, f) que recebe uma lista como primeiro argumento e uma função como\n",
    "segundo argumento. Esta função aplica a função recebida para cada elemento da lista recebida retorna o\n",
    "resultado em uma nova lista.\n",
    "Teste sua função para saber se está ok"
   ]
  },
  {
   "cell_type": "code",
   "execution_count": 68,
   "metadata": {},
   "outputs": [
    {
     "name": "stdout",
     "output_type": "stream",
     "text": [
      "[2, 2, 2, 2]\n"
     ]
    }
   ],
   "source": [
    "#def my_map(list,f):\n",
    "def my_map(list,f):\n",
    "    nova_lista=[]\n",
    "    \n",
    "    for elemento in list:\n",
    "        resultado = f()\n",
    "        nova_lista.append(resultado)\n",
    "    print(nova_lista)   \n",
    "    \n",
    "lista = [1, 2, 3, 4]\n",
    "\n",
    "def default():\n",
    "    return 2\n",
    " \n",
    "my_map(lista, default)"
   ]
  },
  {
   "cell_type": "markdown",
   "metadata": {
    "id": "5cacDHT02hlK"
   },
   "source": [
    "## Exercício 9"
   ]
  },
  {
   "cell_type": "markdown",
   "metadata": {
    "id": "4HNGdN6422iF"
   },
   "source": [
    "Escreva uma função que recebe um número variável de parâmetros não nomeados e um número variado de\n",
    "parâmetros nomeados e imprime o valor de cada parâmetro recebido."
   ]
  },
  {
   "cell_type": "code",
   "execution_count": 30,
   "metadata": {},
   "outputs": [
    {
     "name": "stdout",
     "output_type": "stream",
     "text": [
      "Parâmetro não nomeado:  1\n",
      "Parâmetro não nomeado:  2\n",
      "Parâmetro não nomeado:  True\n",
      "Parâmetro não nomeado:  ['b', 'c']\n",
      "Parâmetro não nomeado:  6.3\n",
      "Parâmetro nomeado:  y 7.8\n",
      "Parâmetro nomeado:  param1 10\n",
      "Parâmetro nomeado:  param2 hello\n"
     ]
    }
   ],
   "source": [
    "def function(*args, **kwargs):\n",
    "    for item in args:\n",
    "        print('Parâmetro não nomeado: ', item)\n",
    "    for key, value in kwargs.items():\n",
    "        print('Parâmetro nomeado: ', key, value)\n",
    "        \n",
    "function('1', 2, True, ['b', 'c'], 6.3, y=7.8, param1=10, param2='hello')"
   ]
  },
  {
   "cell_type": "markdown",
   "metadata": {
    "id": "hHIrU1S42jZQ"
   },
   "source": [
    "## Exercício 10"
   ]
  },
  {
   "cell_type": "markdown",
   "metadata": {
    "id": "_a5d8Yx825Yd"
   },
   "source": [
    "Implemente a classe Lampada. A classe Lâmpada recebe um booleano no seu construtor, True se a lâmpada\n",
    "estiver ligada, False caso esteja desligada. A classe Lampada possuí os seguintes métodos:\n",
    "\n",
    "• liga(): muda o estado da lâmpada para ligada\n",
    "\n",
    "• desliga(): muda o estado da lâmpada para desligada\n",
    "\n",
    "• esta_ligada(): retorna verdadeiro se a lâmpada estiver ligada, falso caso contrário"
   ]
  },
  {
   "cell_type": "code",
   "execution_count": 64,
   "metadata": {},
   "outputs": [
    {
     "name": "stdout",
     "output_type": "stream",
     "text": [
      "False\n",
      "\n",
      "False\n",
      "\n",
      "False\n",
      "\n"
     ]
    },
    {
     "data": {
      "text/plain": [
       "<bound method Lampada.esta_ligada of <__main__.Lampada object at 0x000002032D1D2E30>>"
      ]
     },
     "execution_count": 64,
     "metadata": {},
     "output_type": "execute_result"
    }
   ],
   "source": [
    "class Lampada(object):\n",
    "    #construtor\n",
    "    def __init__(self, ligada = False, status=''):\n",
    "        self.ligada = ligada\n",
    "        self.status = status\n",
    "        \n",
    "    def liga(self):\n",
    "        self.ligada = True \n",
    "        self.status = 'Lâmpada ligada'\n",
    "        return print(self.status)  \n",
    "      \n",
    "    def desliga(self):\n",
    "        self.ligada = False \n",
    "        self.status = 'Lâmpada desligada'\n",
    "        return print(self.status)   \n",
    "      \n",
    "    def esta_ligada(self):\n",
    "       print(f'Status da Lâmpada: {self.status} Ligada: {self.ligada}')\n",
    "       \n",
    "    \n",
    "lampada1 = Lampada(False)\n",
    "print(lampada1.ligada)\n",
    "print(lampada1.status)\n",
    "\n",
    "lampada1.liga\n",
    "print(lampada1.ligada)\n",
    "print(lampada1.status)\n",
    "\n",
    "lampada1.esta_ligada\n",
    "\n",
    "lampada1.desliga\n",
    "print(lampada1.ligada)\n",
    "print(lampada1.status)\n",
    "\n",
    "lampada1.esta_ligada\n",
    "\n"
   ]
  },
  {
   "cell_type": "markdown",
   "metadata": {
    "id": "XS3fEs832klf"
   },
   "source": [
    "## Exercício 11"
   ]
  },
  {
   "cell_type": "markdown",
   "metadata": {
    "id": "GMWHAp6C28wB"
   },
   "source": [
    "Escreva um programa que leia do teclado uma sequência de número separados por vírgula (e.g. 2,4,5,6,1,6) e\n",
    "imprime a soma de todos eles.\n"
   ]
  },
  {
   "cell_type": "code",
   "execution_count": 64,
   "metadata": {},
   "outputs": [
    {
     "name": "stdout",
     "output_type": "stream",
     "text": [
      "Numeros digitados:  1, 2, 3\n",
      "<class 'str'>\n",
      "Lista criada:  [1, 2, 3]\n",
      "Soma:  6\n"
     ]
    }
   ],
   "source": [
    "numero = input(\"Digite os numeros que deseja somar, separados por virgula: \")\n",
    "print('Numeros digitados: ', numero)\n",
    "print(type(numero)) #string\n",
    "\n",
    "lista = numero.split(',')\n",
    "\n",
    "lista_numeros = []\n",
    "for el in lista:\n",
    "    lista_numeros.append(int(el) )   \n",
    "    \n",
    "print('Lista criada: ', lista_numeros)\n",
    "\n",
    "print('Soma: ', sum(lista_numeros))"
   ]
  },
  {
   "cell_type": "markdown",
   "metadata": {
    "id": "NQC-4lZU2lug"
   },
   "source": [
    "## Exercício 12"
   ]
  },
  {
   "cell_type": "markdown",
   "metadata": {
    "id": "T2MtQzBX2-9X"
   },
   "source": [
    "Escreve uma função que recebe como parâmetro uma lista e retorna 3 listas: a lista recebida dividida em 3\n",
    "partes iguais. Teste sua implementação\n",
    "b = [1, 2, 3, 4, 5, 6, 7, 8, 9, 10, 11, 12, 13]"
   ]
  },
  {
   "cell_type": "code",
   "execution_count": 70,
   "metadata": {},
   "outputs": [
    {
     "name": "stdout",
     "output_type": "stream",
     "text": [
      "1\n",
      "13\n",
      "13\n",
      "4\n",
      "([1, 2, 3, 4], [5, 6, 7, 8], [9, 10, 11, 12, 13])\n"
     ]
    }
   ],
   "source": [
    "def funcao(lista):\n",
    "    primeira_posicao = lista[0]\n",
    "    ultima_posicao = len(lista)\n",
    "    qtd_elementos = len(lista)\n",
    "    qtd_lista = (qtd_elementos//3)\n",
    "    \n",
    "    print(primeira_posicao)\n",
    "    print(ultima_posicao)\n",
    "    print(qtd_elementos)\n",
    "    print(qtd_lista)\n",
    "    \n",
    "    a = []\n",
    "    b = []\n",
    "    c = []\n",
    "    \n",
    "    for el in lista:\n",
    "        #a = lista[:qtd_lista]\n",
    "        a = lista[:qtd_elementos//3]\n",
    "        b = lista[qtd_lista: (2*qtd_lista)]\n",
    "        c = lista[(2*qtd_lista):qtd_elementos]\n",
    "        \n",
    "    return a, b, c\n",
    "    \n",
    "    \n",
    "lista = [1, 2, 3, 4, 5, 6, 7, 8, 9, 10, 11, 12, 13]\n",
    "print(funcao(lista))"
   ]
  },
  {
   "cell_type": "markdown",
   "metadata": {
    "id": "MritdD1u2nNJ"
   },
   "source": [
    "## Exercício 13"
   ]
  },
  {
   "cell_type": "markdown",
   "metadata": {
    "id": "uC9UllTL3Cjo"
   },
   "source": [
    "Dado o dicionário a seguir:\n",
    "\n",
    "speed = {'jan':47, 'feb':52, 'march':47, 'April':44, 'May':52, 'June':53, 'july':54, 'Aug':44, 'Sept':54}\n",
    "\n",
    "Crie uma lista com todos os valores (não as chaves!) e coloque numa lista de forma que não haja valores\n",
    "duplicados."
   ]
  },
  {
   "cell_type": "code",
   "execution_count": 78,
   "metadata": {},
   "outputs": [
    {
     "name": "stdout",
     "output_type": "stream",
     "text": [
      "47\n",
      "\n",
      "valor:  47\n",
      "valor:  52\n",
      "valor:  47\n",
      "valor:  44\n",
      "valor:  52\n",
      "valor:  53\n",
      "valor:  54\n",
      "valor:  44\n",
      "valor:  54\n"
     ]
    }
   ],
   "source": [
    "speed = {'jan':47, 'feb':52, 'march':47, 'April':44, 'May':52, 'June':53, 'july':54, 'Aug':44, 'Sept':54}\n",
    "print(speed['jan'])\n",
    "print()\n",
    "\n",
    "for key, value in speed.items():\n",
    "    print('valor: ', value)\n",
    "lista = list()"
   ]
  },
  {
   "cell_type": "markdown",
   "metadata": {
    "id": "obsBdWbj2pDe"
   },
   "source": [
    "## Exercício 14"
   ]
  },
  {
   "cell_type": "markdown",
   "metadata": {
    "id": "MYIA1XBw3HsA"
   },
   "source": [
    "Calcule o valor mínimo, valor máximo, valor médio e a mediana da lista gerada na célula abaixo:\n",
    "\n",
    "Obs.: Lembrem-se, para calcular a mediana a lista deve estar ordenada!\n"
   ]
  },
  {
   "cell_type": "code",
   "execution_count": 18,
   "metadata": {},
   "outputs": [
    {
     "ename": "TypeError",
     "evalue": "object of type 'int' has no len()",
     "output_type": "error",
     "traceback": [
      "\u001b[1;31m---------------------------------------------------------------------------\u001b[0m",
      "\u001b[1;31mTypeError\u001b[0m                                 Traceback (most recent call last)",
      "\u001b[1;32mc:\\Users\\Anne Karoline\\OneDrive\\Área de Trabalho\\Estágio-Compass\\Sprint02-Python\\sprint02-Python-compass\\lista-de-exercicios\\lista-01-02\\Lista_01-Parte_02.ipynb Célula: 46\u001b[0m in \u001b[0;36m<cell line: 8>\u001b[1;34m()\u001b[0m\n\u001b[0;32m      <a href='vscode-notebook-cell:/c%3A/Users/Anne%20Karoline/OneDrive/%C3%81rea%20de%20Trabalho/Est%C3%A1gio-Compass/Sprint02-Python/sprint02-Python-compass/lista-de-exercicios/lista-01-02/Lista_01-Parte_02.ipynb#X63sZmlsZQ%3D%3D?line=4'>5</a>\u001b[0m valor_maximo \u001b[39m=\u001b[39m \u001b[39mmax\u001b[39m(lista)\n\u001b[0;32m      <a href='vscode-notebook-cell:/c%3A/Users/Anne%20Karoline/OneDrive/%C3%81rea%20de%20Trabalho/Est%C3%A1gio-Compass/Sprint02-Python/sprint02-Python-compass/lista-de-exercicios/lista-01-02/Lista_01-Parte_02.ipynb#X63sZmlsZQ%3D%3D?line=5'>6</a>\u001b[0m valor_medio \u001b[39m=\u001b[39m (\u001b[39msum\u001b[39m(lista),\u001b[39mlen\u001b[39m(lista))\n\u001b[1;32m----> <a href='vscode-notebook-cell:/c%3A/Users/Anne%20Karoline/OneDrive/%C3%81rea%20de%20Trabalho/Est%C3%A1gio-Compass/Sprint02-Python/sprint02-Python-compass/lista-de-exercicios/lista-01-02/Lista_01-Parte_02.ipynb#X63sZmlsZQ%3D%3D?line=7'>8</a>\u001b[0m lista_ordenada \u001b[39m=\u001b[39m lista\u001b[39m.\u001b[39;49msort(key\u001b[39m=\u001b[39;49m\u001b[39mlambda\u001b[39;49;00m x: \u001b[39mlen\u001b[39;49m(x), reverse\u001b[39m=\u001b[39;49m\u001b[39mFalse\u001b[39;49;00m)\n\u001b[0;32m     <a href='vscode-notebook-cell:/c%3A/Users/Anne%20Karoline/OneDrive/%C3%81rea%20de%20Trabalho/Est%C3%A1gio-Compass/Sprint02-Python/sprint02-Python-compass/lista-de-exercicios/lista-01-02/Lista_01-Parte_02.ipynb#X63sZmlsZQ%3D%3D?line=9'>10</a>\u001b[0m \u001b[39mif\u001b[39;00m(\u001b[39mlen\u001b[39m(lista)\u001b[39m%\u001b[39m\u001b[39m2\u001b[39m)\u001b[39m==\u001b[39m\u001b[39m0\u001b[39m:\n\u001b[0;32m     <a href='vscode-notebook-cell:/c%3A/Users/Anne%20Karoline/OneDrive/%C3%81rea%20de%20Trabalho/Est%C3%A1gio-Compass/Sprint02-Python/sprint02-Python-compass/lista-de-exercicios/lista-01-02/Lista_01-Parte_02.ipynb#X63sZmlsZQ%3D%3D?line=10'>11</a>\u001b[0m     med1 \u001b[39m=\u001b[39m lista[\u001b[39mlen\u001b[39m(lista_ordenada)\u001b[39m/\u001b[39m\u001b[39m/\u001b[39m\u001b[39m2\u001b[39m]\n",
      "\u001b[1;32mc:\\Users\\Anne Karoline\\OneDrive\\Área de Trabalho\\Estágio-Compass\\Sprint02-Python\\sprint02-Python-compass\\lista-de-exercicios\\lista-01-02\\Lista_01-Parte_02.ipynb Célula: 46\u001b[0m in \u001b[0;36m<lambda>\u001b[1;34m(x)\u001b[0m\n\u001b[0;32m      <a href='vscode-notebook-cell:/c%3A/Users/Anne%20Karoline/OneDrive/%C3%81rea%20de%20Trabalho/Est%C3%A1gio-Compass/Sprint02-Python/sprint02-Python-compass/lista-de-exercicios/lista-01-02/Lista_01-Parte_02.ipynb#X63sZmlsZQ%3D%3D?line=4'>5</a>\u001b[0m valor_maximo \u001b[39m=\u001b[39m \u001b[39mmax\u001b[39m(lista)\n\u001b[0;32m      <a href='vscode-notebook-cell:/c%3A/Users/Anne%20Karoline/OneDrive/%C3%81rea%20de%20Trabalho/Est%C3%A1gio-Compass/Sprint02-Python/sprint02-Python-compass/lista-de-exercicios/lista-01-02/Lista_01-Parte_02.ipynb#X63sZmlsZQ%3D%3D?line=5'>6</a>\u001b[0m valor_medio \u001b[39m=\u001b[39m (\u001b[39msum\u001b[39m(lista),\u001b[39mlen\u001b[39m(lista))\n\u001b[1;32m----> <a href='vscode-notebook-cell:/c%3A/Users/Anne%20Karoline/OneDrive/%C3%81rea%20de%20Trabalho/Est%C3%A1gio-Compass/Sprint02-Python/sprint02-Python-compass/lista-de-exercicios/lista-01-02/Lista_01-Parte_02.ipynb#X63sZmlsZQ%3D%3D?line=7'>8</a>\u001b[0m lista_ordenada \u001b[39m=\u001b[39m lista\u001b[39m.\u001b[39msort(key\u001b[39m=\u001b[39m\u001b[39mlambda\u001b[39;00m x: \u001b[39mlen\u001b[39;49m(x), reverse\u001b[39m=\u001b[39m\u001b[39mFalse\u001b[39;00m)\n\u001b[0;32m     <a href='vscode-notebook-cell:/c%3A/Users/Anne%20Karoline/OneDrive/%C3%81rea%20de%20Trabalho/Est%C3%A1gio-Compass/Sprint02-Python/sprint02-Python-compass/lista-de-exercicios/lista-01-02/Lista_01-Parte_02.ipynb#X63sZmlsZQ%3D%3D?line=9'>10</a>\u001b[0m \u001b[39mif\u001b[39;00m(\u001b[39mlen\u001b[39m(lista)\u001b[39m%\u001b[39m\u001b[39m2\u001b[39m)\u001b[39m==\u001b[39m\u001b[39m0\u001b[39m:\n\u001b[0;32m     <a href='vscode-notebook-cell:/c%3A/Users/Anne%20Karoline/OneDrive/%C3%81rea%20de%20Trabalho/Est%C3%A1gio-Compass/Sprint02-Python/sprint02-Python-compass/lista-de-exercicios/lista-01-02/Lista_01-Parte_02.ipynb#X63sZmlsZQ%3D%3D?line=10'>11</a>\u001b[0m     med1 \u001b[39m=\u001b[39m lista[\u001b[39mlen\u001b[39m(lista_ordenada)\u001b[39m/\u001b[39m\u001b[39m/\u001b[39m\u001b[39m2\u001b[39m]\n",
      "\u001b[1;31mTypeError\u001b[0m: object of type 'int' has no len()"
     ]
    }
   ],
   "source": [
    "import random\n",
    "#lista = [2, 4, 2, 2, 2, 8, 2, 2, 2, 4]\n",
    "lista = random.sample(range(500),50)\n",
    "valor_minimo = min(lista)\n",
    "valor_maximo = max(lista)\n",
    "valor_medio = (sum(lista),len(lista))\n",
    "\n",
    "lista_ordenada = lista.sort(key=lambda x: len(x), reverse=False)\n",
    "\n",
    "if(len(lista)%2)==0:\n",
    "    med1 = lista[len(lista_ordenada)//2]\n",
    "    med2 = lista[len(lista_ordenada)//2 + 1]\n",
    "    mediana = (med1+med2)/2\n",
    "else:\n",
    "    posicao = len(lista_ordenada)//2\n",
    "    mediana = lista[posicao]\n",
    "\n",
    "print(\"Valor minimo: \", valor_minimo)\n",
    "print(\"Valor máximo: \", valor_maximo)\n",
    "print(\"Valor médio: \", valor_medio)\n",
    "print(\"Valor mediana: \", mediana)"
   ]
  },
  {
   "cell_type": "markdown",
   "metadata": {
    "id": "qjsdQkOs2qai"
   },
   "source": [
    "## Exercício 15"
   ]
  },
  {
   "cell_type": "markdown",
   "metadata": {
    "id": "boeh3Tlo3Q8g"
   },
   "source": [
    "Imprima a lista da célula abaixo de trás para frente.\n",
    "\n",
    "a = [1, 1, 2, 3, 5, 8, 13, 21, 34, 55, 89]"
   ]
  },
  {
   "cell_type": "code",
   "execution_count": 81,
   "metadata": {
    "id": "eslOWtuu6WJc"
   },
   "outputs": [
    {
     "name": "stdout",
     "output_type": "stream",
     "text": [
      "[89, 55, 34, 21, 13, 8, 5, 3, 2, 1, 1]\n"
     ]
    }
   ],
   "source": [
    "a = [1, 1, 2, 3, 5, 8, 13, 21, 34, 55, 89]\n",
    "print(a[::-1])"
   ]
  },
  {
   "cell_type": "code",
   "execution_count": 38,
   "metadata": {},
   "outputs": [
    {
     "name": "stdout",
     "output_type": "stream",
     "text": [
      "[89, 55, 34, 21, 13, 8, 5, 3, 2, 1, 1]\n"
     ]
    }
   ],
   "source": [
    "a = [1, 1, 2, 3, 5, 8, 13, 21, 34, 55, 89]\n",
    "a.reverse()\n",
    "print(a)"
   ]
  }
 ],
 "metadata": {
  "colab": {
   "name": "Lista_01.ipynb",
   "provenance": []
  },
  "kernelspec": {
   "display_name": "Python 3.10.5 64-bit",
   "language": "python",
   "name": "python3"
  },
  "language_info": {
   "codemirror_mode": {
    "name": "ipython",
    "version": 3
   },
   "file_extension": ".py",
   "mimetype": "text/x-python",
   "name": "python",
   "nbconvert_exporter": "python",
   "pygments_lexer": "ipython3",
   "version": "3.10.5"
  },
  "vscode": {
   "interpreter": {
    "hash": "d1d9262175893a3f9c089c524f593192d5b8538f6ec9ef6d8235214e3dc272a1"
   }
  }
 },
 "nbformat": 4,
 "nbformat_minor": 1
}
