{
 "cells": [
  {
   "cell_type": "markdown",
   "metadata": {
    "id": "HxN9tOwd10wz"
   },
   "source": [
    "# Exercícios – Parte 2"
   ]
  },
  {
   "cell_type": "markdown",
   "metadata": {
    "id": "9_zFz1Nj12n2"
   },
   "source": [
    "## Exercício 1"
   ]
  },
  {
   "cell_type": "markdown",
   "metadata": {
    "id": "P9G45UWe2IwR"
   },
   "source": [
    "Dada duas listas como no exemplo abaixo:\n",
    "\n",
    " a = [1, 1, 2, 3, 5, 8, 13, 21, 34, 55, 89]\n",
    "\n",
    " b = [1, 2, 3, 4, 5, 6, 7, 8, 9, 10, 11, 12, 13]\n",
    " \n",
    "Escreve um programa que retorne o que as listas têm comum (sem repetições). O seu programa deve\n",
    "funcionar para listas de qualquer tamanho.\n"
   ]
  },
  {
   "cell_type": "markdown",
   "metadata": {},
   "source": [
    "Resolução utilizando listas:"
   ]
  },
  {
   "cell_type": "code",
   "execution_count": 1,
   "metadata": {},
   "outputs": [
    {
     "name": "stdout",
     "output_type": "stream",
     "text": [
      "Elementos em comum [1, 1, 2, 3, 5, 8, 13]\n",
      "Elementos em comum sem repetição:  [1, 2, 3, 5, 8, 13]\n"
     ]
    }
   ],
   "source": [
    "a, b = [1, 1, 2, 3, 5, 8, 13, 21, 34, 55, 89], [1, 2, 3, 4, 5, 6, 7, 8, 9, 10, 11, 12, 13]\n",
    "elementos_em_comum, elementos_em_comum_sem_repeticao = [], []\n",
    "\n",
    "for elem_a in a:\n",
    "    for elem_b in b:\n",
    "        if elem_a==elem_b:\n",
    "            elementos_em_comum.append(elem_a)\n",
    "\n",
    "for el in elementos_em_comum:\n",
    "    if el not in elementos_em_comum_sem_repeticao:\n",
    "        elementos_em_comum_sem_repeticao.append(el)\n",
    "        \n",
    "print('Elementos em comum', elementos_em_comum)\n",
    "print('Elementos em comum sem repetição: ', elementos_em_comum_sem_repeticao)"
   ]
  },
  {
   "cell_type": "markdown",
   "metadata": {},
   "source": [
    "Resolução utilizando conjuntos:"
   ]
  },
  {
   "cell_type": "code",
   "execution_count": 2,
   "metadata": {},
   "outputs": [
    {
     "name": "stdout",
     "output_type": "stream",
     "text": [
      "Elementos em comum sem repetição:  [1, 2, 3, 5, 8, 13]\n"
     ]
    }
   ],
   "source": [
    "a, b = [1, 1, 2, 3, 5, 8, 13, 21, 34, 55, 89], [1, 2, 3, 4, 5, 6, 7, 8, 9, 10, 11, 12, 13]\n",
    "c = set(a).intersection(set(b))\n",
    "print('Elementos em comum sem repetição: ', list(c))"
   ]
  },
  {
   "cell_type": "markdown",
   "metadata": {
    "id": "NmrZIH2d15RC"
   },
   "source": [
    "## Exercício 2"
   ]
  },
  {
   "cell_type": "markdown",
   "metadata": {
    "id": "QR5CKxDC2Ns9"
   },
   "source": [
    "Dada a seguinte lista:\n",
    "a = [1, 4, 9, 16, 25, 36, 49, 64, 81, 100]\n",
    "\n",
    "Faça um programa que gere uma nova lista contendo apenas números ímpares.\n"
   ]
  },
  {
   "cell_type": "markdown",
   "metadata": {},
   "source": [
    "Resolução utilizando iteração:"
   ]
  },
  {
   "cell_type": "code",
   "execution_count": 3,
   "metadata": {},
   "outputs": [
    {
     "name": "stdout",
     "output_type": "stream",
     "text": [
      "[1, 9, 25, 49, 81]\n"
     ]
    }
   ],
   "source": [
    "a = [1, 4, 9, 16, 25, 36, 49, 64, 81, 100]\n",
    "lista_numeros_impares = []\n",
    "\n",
    "for x in a:\n",
    "    if (x%2!=0):\n",
    "        lista_numeros_impares.append(x)\n",
    "        \n",
    "print(lista_numeros_impares)"
   ]
  },
  {
   "cell_type": "markdown",
   "metadata": {},
   "source": [
    "Resolução utilizando List Comprehension"
   ]
  },
  {
   "cell_type": "code",
   "execution_count": 21,
   "metadata": {},
   "outputs": [
    {
     "data": {
      "text/plain": [
       "[1, 9, 25, 49, 81]"
      ]
     },
     "execution_count": 21,
     "metadata": {},
     "output_type": "execute_result"
    }
   ],
   "source": [
    "a = [1, 4, 9, 16, 25, 36, 49, 64, 81, 100]\n",
    "[x for x in a if x % 2 !=0 ]"
   ]
  },
  {
   "cell_type": "markdown",
   "metadata": {
    "id": "1_e1c0rC16ag"
   },
   "source": [
    "## Exercício 3"
   ]
  },
  {
   "cell_type": "markdown",
   "metadata": {
    "id": "wnnL0IOv2Qmu"
   },
   "source": [
    "Peça para o usuário digitar uma palavra pelo teclado e determina se a palavra digitada é ou não um\n",
    "palíndromo. \n",
    "\n",
    "Um palíndromo é uma palavra que permanece igual se lida de traz pra frente.\n"
   ]
  },
  {
   "cell_type": "code",
   "execution_count": 7,
   "metadata": {},
   "outputs": [
    {
     "name": "stdout",
     "output_type": "stream",
     "text": [
      "A palavra digitada é um palíndromo.\n"
     ]
    }
   ],
   "source": [
    "palavra = str(input('Digite uma palavra: ').replace(\" \", '').lower())\n",
    "palavra_reversa = list(palavra)\n",
    "palavra_reversa.reverse()\n",
    "\n",
    "if list(palavra) == palavra_reversa:\n",
    "    print(\"A palavra digitada é um palíndromo.\")\n",
    "else:\n",
    "    print(\"A palavra digitada não é um palíndromo.\")"
   ]
  },
  {
   "cell_type": "code",
   "execution_count": 24,
   "metadata": {},
   "outputs": [
    {
     "name": "stdout",
     "output_type": "stream",
     "text": [
      "A palavra digitada é um palíndromo.\n"
     ]
    }
   ],
   "source": [
    "palavra = str(input('Digite uma palavra: ').replace(\" \", '').lower())\n",
    "if palavra == palavra[::-1]:\n",
    "    print(\"A palavra digitada é um palíndromo.\")\n",
    "else:\n",
    "    print(\"A palavra digitada não é um palíndromo.\")"
   ]
  },
  {
   "cell_type": "markdown",
   "metadata": {},
   "source": [
    "Tratando:"
   ]
  },
  {
   "cell_type": "code",
   "execution_count": 20,
   "metadata": {},
   "outputs": [
    {
     "name": "stdout",
     "output_type": "stream",
     "text": [
      "A palavra digitada é um palíndromo.\n"
     ]
    }
   ],
   "source": [
    "on = True\n",
    "while True:\n",
    "    try:\n",
    "        palavra = input('Digite uma palavra: ').replace(' ','').lower()\n",
    "        if palavra == ''.join(reversed(palavra)):\n",
    "            print(\"A palavra digitada é um palíndromo.\")\n",
    "        else:\n",
    "            print(\"A palavra digitada não é um palíndromo.\")\n",
    "        on = False\n",
    "        break\n",
    "    except ValueError:\n",
    "        print(\"Erro na aplicação. A aplicação será finalizada.\")\n",
    "        break"
   ]
  },
  {
   "cell_type": "markdown",
   "metadata": {
    "id": "3F39NIWQ17lk"
   },
   "source": [
    "## Exercício 4"
   ]
  },
  {
   "cell_type": "markdown",
   "metadata": {
    "id": "tZe2VdPX2TnA"
   },
   "source": [
    "Dada as listas a seguir:\n",
    "\n",
    "primeirosNomes = ['Joao', 'Douglas', 'Lucas', 'José']\n",
    "\n",
    "sobreNomes = ['Soares', 'Souza', 'Silveira', 'Pedreira']\n",
    "\n",
    "idades = [19, 28, 25, 31]\n",
    "\n",
    "Faça um programa que imprima os dados na seguinte estrutura: \" - está com anos\"\n"
   ]
  },
  {
   "cell_type": "markdown",
   "metadata": {},
   "source": [
    "Resolução utilizando laços:"
   ]
  },
  {
   "cell_type": "code",
   "execution_count": 25,
   "metadata": {},
   "outputs": [
    {
     "name": "stdout",
     "output_type": "stream",
     "text": [
      "Joao Soares está com 19 anos.\n",
      "Douglas Souza está com 28 anos.\n",
      "Lucas Silveira está com 25 anos.\n",
      "José Pedreira está com 31 anos.\n"
     ]
    }
   ],
   "source": [
    "primeirosNomes, sobrenomes, idades = ['Joao', 'Douglas', 'Lucas', 'José'], ['Soares', 'Souza', 'Silveira', 'Pedreira'], [19, 28, 25, 31]\n",
    "\n",
    "x=0\n",
    "while x<len(idades):\n",
    "    print(f'{primeirosNomes[x]} {sobrenomes[x]} está com {idades[x]} anos.')\n",
    "    x+=1"
   ]
  },
  {
   "cell_type": "markdown",
   "metadata": {},
   "source": [
    "Resolução utilizando iteração e zip()"
   ]
  },
  {
   "cell_type": "code",
   "execution_count": 26,
   "metadata": {},
   "outputs": [
    {
     "name": "stdout",
     "output_type": "stream",
     "text": [
      "Joao Soares está com 19 anos.\n",
      "Douglas Souza está com 28 anos.\n",
      "Lucas Silveira está com 25 anos.\n",
      "José Pedreira está com 31 anos.\n"
     ]
    }
   ],
   "source": [
    "primeirosNomes, sobrenomes, idades = ['Joao', 'Douglas', 'Lucas', 'José'], ['Soares', 'Souza', 'Silveira', 'Pedreira'], [19, 28, 25, 31]\n",
    "for primeirosNomes, sobrenomes, idades in zip(primeirosNomes, sobrenomes, idades):\n",
    "    print(f'{primeirosNomes} {sobrenomes} está com {idades} anos.')"
   ]
  },
  {
   "cell_type": "markdown",
   "metadata": {
    "id": "duTJNJ5s1-HC"
   },
   "source": [
    "## Exercício 5"
   ]
  },
  {
   "cell_type": "markdown",
   "metadata": {
    "id": "e3hn33Uv2Z0k"
   },
   "source": [
    "Escreva uma função que recebe uma lista e retorna uma nova lista sem elementos duplicados. Utilize um\n",
    "exemplo para testar sua função"
   ]
  },
  {
   "cell_type": "code",
   "execution_count": 23,
   "metadata": {},
   "outputs": [],
   "source": [
    "def nova_lista(lista):    \n",
    "    lista_conjunto = set(lista)\n",
    "    nova_lista_conjunto = lista_conjunto\n",
    "    \n",
    "    nova_lista = list(nova_lista_conjunto)              \n",
    "    return nova_lista"
   ]
  },
  {
   "cell_type": "code",
   "execution_count": 24,
   "metadata": {},
   "outputs": [
    {
     "name": "stdout",
     "output_type": "stream",
     "text": [
      "Lista original: [1, 1, 2, 3, 4]\n",
      "Nova Lista: [1, 2, 3, 4]\n"
     ]
    }
   ],
   "source": [
    "lista = [1, 1, 2, 3, 4]\n",
    "print('Lista original:', lista)\n",
    "print('Nova Lista:', nova_lista(lista))"
   ]
  },
  {
   "cell_type": "markdown",
   "metadata": {},
   "source": [
    "Utilizando testes unitários.\n",
    "\n",
    "Documentação: https://docs.python.org/3/library/unittest.html"
   ]
  },
  {
   "cell_type": "code",
   "execution_count": 21,
   "metadata": {},
   "outputs": [
    {
     "name": "stderr",
     "output_type": "stream",
     "text": [
      "\n",
      "----------------------------------------------------------------------\n",
      "Ran 0 tests in 0.000s\n",
      "\n",
      "OK\n"
     ]
    },
    {
     "data": {
      "text/plain": [
       "<unittest.main.TestProgram at 0x1d936f0fa00>"
      ]
     },
     "execution_count": 21,
     "metadata": {},
     "output_type": "execute_result"
    }
   ],
   "source": [
    "import unittest\n",
    "\n",
    "class TestNovaLista(unittest.TestCase):\n",
    "    def nova_lista_test(self, lista):\n",
    "        listaTeste = [1, 1, 2, 3, 4]\n",
    "        self.assertTrue(listaTeste==lista) \n",
    "    \n",
    "unittest.main(argv=[''], verbosity=2, exit=False)"
   ]
  },
  {
   "cell_type": "markdown",
   "metadata": {
    "id": "bM8EuhJ22elc"
   },
   "source": [
    "## Exercício 6"
   ]
  },
  {
   "cell_type": "markdown",
   "metadata": {
    "id": "Bp84TIUs2uye"
   },
   "source": [
    "Escreva um programa que lê o conteúdo do arquivo texto arquivo_texto.txt e imprime o seu conteúdo.\n",
    "Dica: leia documentação da função open(...), link: https://docs.python.org/3/library/functions.html#open\n"
   ]
  },
  {
   "cell_type": "code",
   "execution_count": 25,
   "metadata": {},
   "outputs": [
    {
     "name": "stdout",
     "output_type": "stream",
     "text": [
      "1\n",
      "\n",
      "2\n",
      "\n",
      "3\n",
      "\n",
      "4\n",
      "\n",
      "5\n",
      "\n",
      "6\n",
      "\n",
      "7\n",
      "\n",
      "8\n",
      "\n",
      "9\n",
      "\n",
      "10\n"
     ]
    }
   ],
   "source": [
    "arquivo = open('arquivo_texto.txt', 'r')\n",
    "for line in arquivo.readlines():\n",
    "    print(line) \n",
    "arquivo.close()"
   ]
  },
  {
   "cell_type": "markdown",
   "metadata": {
    "id": "R7LNTCUA2fob"
   },
   "source": [
    "## Exercício 7"
   ]
  },
  {
   "cell_type": "markdown",
   "metadata": {
    "id": "nABTFeC82xrq"
   },
   "source": [
    "Leia o arquivo person.json, faça o parsing e imprima seu conteúdo.\n",
    "Dica: leia a documentação do pacote json, link: https://docs.python.org/3/library/json.html\n"
   ]
  },
  {
   "cell_type": "code",
   "execution_count": 27,
   "metadata": {},
   "outputs": [
    {
     "name": "stdout",
     "output_type": "stream",
     "text": [
      "Parse do arquivo Json - tipo atual -> dicionario: \n",
      " {'person': [{'name': 'John Doe', 'age': 35}, {'name': 'Jane Doe', 'age': 32}, {'name': 'John Jr.', 'age': 7}]} \n",
      "\n",
      "Tipo de arquivo: \n",
      " <class 'dict'> \n",
      "\n",
      "Conteúdo do arquivo Json: \n",
      " [{'name': 'John Doe', 'age': 35}, {'name': 'Jane Doe', 'age': 32}, {'name': 'John Jr.', 'age': 7}] \n",
      "\n",
      "Arquivo JSON: \n",
      " {\n",
      "   \"person\": [\n",
      "      {\n",
      "         \"name\": \"John Doe\",\n",
      "         \"age\": 35\n",
      "      },\n",
      "      {\n",
      "         \"name\": \"Jane Doe\",\n",
      "         \"age\": 32\n",
      "      },\n",
      "      {\n",
      "         \"name\": \"John Jr.\",\n",
      "         \"age\": 7\n",
      "      }\n",
      "   ]\n",
      "}\n",
      "<class 'str'>\n"
     ]
    }
   ],
   "source": [
    "import json\n",
    "\n",
    "with open('./person.json', 'r') as arquivoJson:\n",
    "    #Parse\n",
    "    arquivoJson = json.load(arquivoJson)  #Metodo para realizar o parse do arquivo JSON - converte em dicionario\n",
    "    print('Parse do arquivo Json - tipo atual -> dicionario: \\n', arquivoJson, '\\n')\n",
    "    print('Tipo de arquivo: \\n', type(arquivoJson), '\\n')\n",
    "    \n",
    "    #ACESSO AS INFORMAÇÕES\n",
    "    #print(arquivoJson['person'][0].keys())\n",
    "    #print(arquivoJson['person'][0].values())\n",
    "    #print(arquivoJson['person'][0], '\\n')\n",
    "    print('Conteúdo do arquivo Json: \\n', arquivoJson['person'], '\\n')\n",
    "      \n",
    "    #JSON data em Python\n",
    "    arquivoJsonDumped = json.dumps(arquivoJson, indent=3, ensure_ascii=False) # converte para JSON - STRING\n",
    "    print('Arquivo JSON: \\n', arquivoJsonDumped)\n",
    "    print(type(arquivoJsonDumped))"
   ]
  },
  {
   "cell_type": "code",
   "execution_count": 3,
   "metadata": {},
   "outputs": [
    {
     "name": "stdout",
     "output_type": "stream",
     "text": [
      "{\"person\": [{\"name\": \"John Doe\", \"age\": 35}, {\"name\": \"Jane Doe\", \"age\": 32}, {\"name\": \"John Jr.\", \"age\": 7}]}\n",
      "<class 'str'>\n"
     ]
    }
   ],
   "source": [
    "import json\n",
    "#Retorna uma string representando um JSON a partir da estrutura de dados Python, o. Por exemplo:\n",
    "with open('./person.json', 'r') as arquivoJson:\n",
    "    arquivoJson = json.load(arquivoJson)\n",
    "    a = json.JSONEncoder().encode(arquivoJson)\n",
    "    print(a)\n",
    "    print(type(a))"
   ]
  },
  {
   "cell_type": "markdown",
   "metadata": {
    "id": "m0WlP5rr2goN"
   },
   "source": [
    "## Exercício 8"
   ]
  },
  {
   "cell_type": "markdown",
   "metadata": {
    "id": "jUEATQis20g1"
   },
   "source": [
    "Implemente a função my_map(list, f) que recebe uma lista como primeiro argumento e uma função como\n",
    "segundo argumento. Esta função aplica a função recebida para cada elemento da lista recebida retorna o\n",
    "resultado em uma nova lista.\n",
    "Teste sua função para saber se está ok"
   ]
  },
  {
   "cell_type": "code",
   "execution_count": 39,
   "metadata": {},
   "outputs": [],
   "source": [
    "def my_map(list,f):\n",
    "    nova_lista=[]\n",
    "    \n",
    "    for elemento in list:\n",
    "        resultado = f()\n",
    "        nova_lista.append(resultado)\n",
    "    return nova_lista  \n",
    "    \n",
    "def default_valor2():\n",
    "    return 2\n",
    "\n",
    "def default_valor3():\n",
    "    return 3"
   ]
  },
  {
   "cell_type": "code",
   "execution_count": 40,
   "metadata": {},
   "outputs": [
    {
     "data": {
      "text/plain": [
       "[3, 3, 3, 3]"
      ]
     },
     "execution_count": 40,
     "metadata": {},
     "output_type": "execute_result"
    }
   ],
   "source": [
    "lista = [1, 2, 3, 4]\n",
    "my_map(lista, default_valor2)\n",
    "my_map(lista, default_valor3)"
   ]
  },
  {
   "cell_type": "code",
   "execution_count": 41,
   "metadata": {},
   "outputs": [
    {
     "name": "stderr",
     "output_type": "stream",
     "text": [
      "test (__main__.Testa_funcao_my_map) ... ok\n",
      "\n",
      "----------------------------------------------------------------------\n",
      "Ran 1 test in 0.004s\n",
      "\n",
      "OK\n"
     ]
    },
    {
     "data": {
      "text/plain": [
       "<unittest.main.TestProgram at 0x1af69b18700>"
      ]
     },
     "execution_count": 41,
     "metadata": {},
     "output_type": "execute_result"
    }
   ],
   "source": [
    "import unittest\n",
    "\n",
    "def my_map(list,f):\n",
    "    nova_lista=[]\n",
    "    \n",
    "    for elemento in list:\n",
    "        resultado = f()\n",
    "        nova_lista.append(resultado)\n",
    "    return nova_lista  \n",
    "    \n",
    "def default_valor2():\n",
    "    return 2\n",
    "\n",
    "'''-------------------------------------------''' \n",
    "\n",
    "class Testa_funcao_my_map(unittest.TestCase):\n",
    "    def test(self):\n",
    "        self.assertEqual(my_map([1, 2, 3, 4], default_valor2), [2, 2, 2, 2])\n",
    "    \n",
    "unittest.main(argv=[''], verbosity=2, exit=False)"
   ]
  },
  {
   "cell_type": "markdown",
   "metadata": {
    "id": "5cacDHT02hlK"
   },
   "source": [
    "## Exercício 9"
   ]
  },
  {
   "cell_type": "markdown",
   "metadata": {
    "id": "4HNGdN6422iF"
   },
   "source": [
    "Escreva uma função que recebe um número variável de parâmetros não nomeados e um número variado de\n",
    "parâmetros nomeados e imprime o valor de cada parâmetro recebido."
   ]
  },
  {
   "cell_type": "code",
   "execution_count": 24,
   "metadata": {},
   "outputs": [
    {
     "name": "stdout",
     "output_type": "stream",
     "text": [
      "Parâmetro não nomeado:  1\n",
      "Parâmetro não nomeado:  2\n",
      "Parâmetro não nomeado:  True\n",
      "Parâmetro não nomeado:  ['b', 'c']\n",
      "Parâmetro não nomeado:  6.3\n",
      "Parâmetro nomeado:  y 7.8\n",
      "Parâmetro nomeado:  param1 10\n",
      "Parâmetro nomeado:  param2 hello\n"
     ]
    }
   ],
   "source": [
    "def function(*args, **kwargs):\n",
    "    for item in args:\n",
    "        print('Parâmetro não nomeado: ', item)\n",
    "    for key, value in kwargs.items():\n",
    "        print('Parâmetro nomeado: ', key, value)\n",
    "        \n",
    "function('1', 2, True, ['b', 'c'], 6.3, y=7.8, param1=10, param2='hello')"
   ]
  },
  {
   "cell_type": "markdown",
   "metadata": {
    "id": "hHIrU1S42jZQ"
   },
   "source": [
    "## Exercício 10"
   ]
  },
  {
   "cell_type": "markdown",
   "metadata": {
    "id": "_a5d8Yx825Yd"
   },
   "source": [
    "Implemente a classe Lampada. A classe Lâmpada recebe um booleano no seu construtor, True se a lâmpada\n",
    "estiver ligada, False caso esteja desligada. \n",
    "\n",
    "A classe Lampada possuí os seguintes métodos:\n",
    "\n",
    "• liga(): muda o estado da lâmpada para ligada\n",
    "\n",
    "• desliga(): muda o estado da lâmpada para desligada\n",
    "\n",
    "• esta_ligada(): retorna verdadeiro se a lâmpada estiver ligada, falso caso contrário"
   ]
  },
  {
   "cell_type": "code",
   "execution_count": 34,
   "metadata": {},
   "outputs": [],
   "source": [
    "class Lampada(object):\n",
    "    #construtor\n",
    "    def __init__(self, ligada = False, status='Lâmpada desligada'):\n",
    "        self.ligada = ligada\n",
    "        self.status = status\n",
    "        \n",
    "    def liga(self):\n",
    "        self.ligada = True \n",
    "        self.status = 'Lâmpada ligada'\n",
    "        return print('Lâmpada ligada com sucesso. \\n') \n",
    "      \n",
    "    def desliga(self):\n",
    "        self.ligada = False \n",
    "        self.status = 'Lâmpada desligada'\n",
    "        return print('Lâmpada desligada com sucesso. \\n') \n",
    "      \n",
    "    def esta_ligada(self):\n",
    "       print(f'Status da Lâmpada: {self.status} \\nLigada: {self.ligada} \\n')"
   ]
  },
  {
   "cell_type": "code",
   "execution_count": 37,
   "metadata": {},
   "outputs": [
    {
     "name": "stdout",
     "output_type": "stream",
     "text": [
      "Status da Lâmpada: Lâmpada desligada \n",
      "Ligada: False \n",
      "\n",
      "Lâmpada ligada com sucesso. \n",
      "\n",
      "Status da Lâmpada: Lâmpada ligada \n",
      "Ligada: True \n",
      "\n",
      "Lâmpada desligada com sucesso. \n",
      "\n",
      "Status da Lâmpada: Lâmpada desligada \n",
      "Ligada: False \n",
      "\n"
     ]
    }
   ],
   "source": [
    "lampada1 = Lampada()\n",
    "lampada1.esta_ligada()\n",
    "lampada1.liga()\n",
    "lampada1.esta_ligada()\n",
    "lampada1.desliga()\n",
    "lampada1.esta_ligada()"
   ]
  },
  {
   "cell_type": "markdown",
   "metadata": {
    "id": "XS3fEs832klf"
   },
   "source": [
    "## Exercício 11"
   ]
  },
  {
   "cell_type": "markdown",
   "metadata": {
    "id": "GMWHAp6C28wB"
   },
   "source": [
    "Escreva um programa que leia do teclado uma sequência de número separados por vírgula (e.g. 2,4,5,6,1,6) e\n",
    "imprime a soma de todos eles.\n"
   ]
  },
  {
   "cell_type": "code",
   "execution_count": 43,
   "metadata": {},
   "outputs": [
    {
     "name": "stdout",
     "output_type": "stream",
     "text": [
      "Numeros digitados:  1, 2.3, 1, 4.5\n",
      "Lista criada:  [1.0, 2.3, 1.0, 4.5]\n",
      "Soma:  8.8\n"
     ]
    }
   ],
   "source": [
    "numero = input(\"Digite os numeros que deseja somar, separados por virgula: \")\n",
    "print('Numeros digitados: ', numero)\n",
    "#print(type(numero)) #string\n",
    "\n",
    "lista = numero.split(',')\n",
    "\n",
    "lista_numeros = []\n",
    "for el in lista:\n",
    "    lista_numeros.append(float(el) )   \n",
    "    \n",
    "print('Lista criada: ', lista_numeros)\n",
    "\n",
    "print('Soma: ', sum(lista_numeros))"
   ]
  },
  {
   "cell_type": "code",
   "execution_count": 10,
   "metadata": {},
   "outputs": [
    {
     "name": "stdout",
     "output_type": "stream",
     "text": [
      "Numeros digitados:  q1, 2, 3\n",
      "VALORES INVÁLIDOS. Digite novamente.\n",
      "Numeros digitados:  3, 4, 5\n",
      "Lista criada:  [3.0, 4.0, 5.0]\n",
      "Soma:  12.0\n"
     ]
    }
   ],
   "source": [
    "funcionando = True\n",
    "while(funcionando):\n",
    "    try:\n",
    "        numero = input(\"Digite os numeros que deseja somar, separados por virgula: \")    \n",
    "        print('Numeros digitados: ', numero)\n",
    "        lista = numero.split(',')\n",
    "        lista_numeros = []\n",
    "        for el in lista:\n",
    "            lista_numeros.append(float(el))              \n",
    "        print('Lista criada: ', lista_numeros)\n",
    "        print('Soma: ', sum(lista_numeros))\n",
    "        funcionando = False\n",
    "    except ValueError:\n",
    "        print(\"VALORES INVÁLIDOS. Digite novamente.\")\n",
    "        "
   ]
  },
  {
   "cell_type": "markdown",
   "metadata": {
    "id": "NQC-4lZU2lug"
   },
   "source": [
    "## Exercício 12"
   ]
  },
  {
   "cell_type": "markdown",
   "metadata": {
    "id": "T2MtQzBX2-9X"
   },
   "source": [
    "Escreve uma função que recebe como parâmetro uma lista e retorna 3 listas: a lista recebida dividida em 3\n",
    "partes iguais. \n",
    "\n",
    "Teste sua implementação\n",
    "b = [1, 2, 3, 4, 5, 6, 7, 8, 9, 10, 11, 12, 13]"
   ]
  },
  {
   "cell_type": "code",
   "execution_count": 13,
   "metadata": {},
   "outputs": [
    {
     "name": "stdout",
     "output_type": "stream",
     "text": [
      "Não é possível realizar a divisão da lista informada em 3 partes iguais.\n"
     ]
    }
   ],
   "source": [
    "def divide_lista(lista):\n",
    "    primeira_posicao = lista[0]\n",
    "    ultima_posicao = len(lista)\n",
    "    qtd_elementos = len(lista)\n",
    "    qtd_lista = (qtd_elementos//3)\n",
    "        \n",
    "    a = []\n",
    "    b = []\n",
    "    c = []\n",
    "   \n",
    "    for el in lista:\n",
    "        #a = lista[:qtd_lista]\n",
    "        a = lista[:qtd_elementos//3]\n",
    "        b = lista[qtd_lista: (2*qtd_lista)]\n",
    "        c = lista[(2*qtd_lista):qtd_elementos]\n",
    "    if len(a)==len(b) and len(b)==len(c):\n",
    "        return a, b, c\n",
    "    else: # len(lista)%3 != 0\n",
    "        return 'Não é possível realizar a divisão da lista informada em 3 partes iguais.'\n",
    "    \n",
    "    \n",
    "lista = [1, 2, 3, 4, 5, 6, 7, 8, 9, 10, 11, 12, 13]\n",
    "#lista = [1, 2, 3, 4, 5, 6, 7, 8, 9, 10, 11, 12, 13, 16]\n",
    "#lista = [1, 2, 3, 4, 5, 6, 7, 8, 9, 10, 11, 12, 13, 16, 18]\n",
    "print(divide_lista(lista))"
   ]
  },
  {
   "cell_type": "code",
   "execution_count": 48,
   "metadata": {},
   "outputs": [
    {
     "name": "stderr",
     "output_type": "stream",
     "text": [
      "testFunction (__main__.Testa_funcao_Divide_Lista) ... ok\n",
      "test (__main__.Testa_funcao_my_map) ... ok\n",
      "\n",
      "----------------------------------------------------------------------\n",
      "Ran 2 tests in 0.006s\n",
      "\n",
      "OK\n"
     ]
    },
    {
     "data": {
      "text/plain": [
       "<unittest.main.TestProgram at 0x1af69b1a860>"
      ]
     },
     "execution_count": 48,
     "metadata": {},
     "output_type": "execute_result"
    }
   ],
   "source": [
    "class Testa_funcao_Divide_Lista(unittest.TestCase):\n",
    "    def testFunction(self):\n",
    "        self.assertEqual(divide_lista([1, 2, 3, 4, 5, 6, 7, 8, 9, 10, 11, 12, 13, 16, 18]), ([1, 2, 3, 4, 5], [6, 7, 8, 9, 10], [11, 12, 13, 16, 18]))\n",
    "    \n",
    "unittest.main(argv=[''], verbosity=2, exit=False)"
   ]
  },
  {
   "cell_type": "markdown",
   "metadata": {},
   "source": [
    "Exemplo do Ari:"
   ]
  },
  {
   "cell_type": "code",
   "execution_count": 4,
   "metadata": {},
   "outputs": [
    {
     "name": "stdout",
     "output_type": "stream",
     "text": [
      "[[1, 2, 3, 4], [5, 6, 7, 8], [9, 10, 'x', 'x']]\n"
     ]
    }
   ],
   "source": [
    "def div_list_3(list, x):\n",
    "    list = list\n",
    "    for i in range(0, len(list)):\n",
    "        if len(list) % x == 0:\n",
    "            break\n",
    "        else:\n",
    "            list.append(\"x\")\n",
    "\n",
    "    final = [list[i:i + (len(list) // x)] for i in range(0, len(list), len(list) // x)]\n",
    "    print(final)\n",
    "\n",
    "\n",
    "lista_1 = [1, 2, 3, 4, 5, 6, 7, 8, 9, 10]\n",
    "div_list_3(lista_1, 3)"
   ]
  },
  {
   "cell_type": "code",
   "execution_count": 25,
   "metadata": {},
   "outputs": [
    {
     "name": "stdout",
     "output_type": "stream",
     "text": [
      "\n",
      "Este programa realiza a divisão da lista informada em 3 partes iguais. Caso a lista informada não gere listas de mesmo tamanho, sera adicionado um 0 ao final da lista até ser possível realizar a divisão.\n",
      "Não foi possível realizar a divisão da lista em 3 listas de tamanhos iguais.\n",
      "Acrescentando um zero na lista...\n",
      "Chamando a função novamente...\n",
      "Nova lista:  [1, 2, 3, 4, 5, 6, 7, 8, 9, 10, 11, 12, 13, 0]\n",
      "\n",
      "Este programa realiza a divisão da lista informada em 3 partes iguais. Caso a lista informada não gere listas de mesmo tamanho, sera adicionado um 0 ao final da lista até ser possível realizar a divisão.\n",
      "Não foi possível realizar a divisão da lista em 3 listas de tamanhos iguais.\n",
      "Acrescentando um zero na lista...\n",
      "Chamando a função novamente...\n",
      "Nova lista:  [1, 2, 3, 4, 5, 6, 7, 8, 9, 10, 11, 12, 13, 0, 0]\n",
      "\n",
      "Este programa realiza a divisão da lista informada em 3 partes iguais. Caso a lista informada não gere listas de mesmo tamanho, sera adicionado um 0 ao final da lista até ser possível realizar a divisão.\n",
      "Listas: [1, 2, 3, 4, 5], [6, 7, 8, 9, 10], [11, 12, 13, 0, 0]\n"
     ]
    }
   ],
   "source": [
    "def divide_lista(lista):\n",
    "    primeira_posicao = lista[0]\n",
    "    ultima_posicao = len(lista)\n",
    "    qtd_elementos = len(lista)\n",
    "    qtd_lista = (qtd_elementos//3)\n",
    "        \n",
    "    a = []\n",
    "    b = []\n",
    "    c = []\n",
    "    \n",
    "    print('\\nEste programa realiza a divisão da lista informada em 3 partes iguais. Caso a lista informada não gere listas de mesmo tamanho, sera adicionado um 0 ao final da lista até ser possível realizar a divisão.')\n",
    "    \n",
    "    for el in lista:\n",
    "        #a = lista[:qtd_lista]\n",
    "        a = lista[:qtd_elementos//3]\n",
    "        b = lista[qtd_lista: (2*qtd_lista)]\n",
    "        c = lista[(2*qtd_lista):qtd_elementos]\n",
    "    if len(a)==len(b) and len(b)==len(c):\n",
    "        return f'Listas: {a}, {b}, {c}'\n",
    "    else: # len(lista)%3 != 0\n",
    "        print(\"Não foi possível realizar a divisão da lista em 3 listas de tamanhos iguais.\")\n",
    "        print(\"Acrescentando um zero na lista...\")\n",
    "        print(\"Chamando a função novamente...\")\n",
    "        lista.append(0)\n",
    "        print(\"Nova lista: \", lista)\n",
    "        return (divide_lista(lista))\n",
    "        #return 'Não é possível realizar a divisão da lista informada em 3 partes iguais.'\n",
    "    \n",
    "    \n",
    "lista = [1, 2, 3, 4, 5, 6, 7, 8, 9, 10, 11, 12, 13]\n",
    "#lista = [1, 2, 3, 4, 5, 6, 7, 8, 9, 10, 11, 12, 13, 16]\n",
    "#lista = [1, 2, 3, 4, 5, 6, 7, 8, 9, 10, 11, 12, 13, 16, 18]\n",
    "print(divide_lista(lista))"
   ]
  },
  {
   "cell_type": "markdown",
   "metadata": {
    "id": "MritdD1u2nNJ"
   },
   "source": [
    "## Exercício 13"
   ]
  },
  {
   "cell_type": "markdown",
   "metadata": {
    "id": "uC9UllTL3Cjo"
   },
   "source": [
    "Dado o dicionário a seguir:\n",
    "\n",
    "speed = {'jan':47, 'feb':52, 'march':47, 'April':44, 'May':52, 'June':53, 'july':54, 'Aug':44, 'Sept':54}\n",
    "\n",
    "Crie uma lista com todos os valores (não as chaves!) e coloque numa lista de forma que não haja valores\n",
    "duplicados."
   ]
  },
  {
   "cell_type": "code",
   "execution_count": 15,
   "metadata": {},
   "outputs": [
    {
     "name": "stdout",
     "output_type": "stream",
     "text": [
      "Lista:  [47, 52, 44, 53, 54]\n"
     ]
    }
   ],
   "source": [
    "speed = {'jan':47, 'feb':52, 'march':47, 'April':44, 'May':52, 'June':53, 'july':54, 'Aug':44, 'Sept':54}\n",
    "c = []\n",
    "for key, value in speed.items():\n",
    "    if value in c:\n",
    "        continue \n",
    "    else:\n",
    "        c.append(value)\n",
    "print('Lista: ', c)"
   ]
  },
  {
   "cell_type": "markdown",
   "metadata": {
    "id": "obsBdWbj2pDe"
   },
   "source": [
    "## Exercício 14"
   ]
  },
  {
   "cell_type": "markdown",
   "metadata": {
    "id": "MYIA1XBw3HsA"
   },
   "source": [
    "Calcule o valor mínimo, valor máximo, valor médio e a mediana da lista gerada na célula abaixo:\n",
    "\n",
    "Obs.: Lembrem-se, para calcular a mediana a lista deve estar ordenada!\n"
   ]
  },
  {
   "cell_type": "code",
   "execution_count": 26,
   "metadata": {},
   "outputs": [
    {
     "name": "stdout",
     "output_type": "stream",
     "text": [
      "Lista Informada:  [405, 14, 203, 15, 32, 477, 397, 50, 74, 118, 294, 466, 6, 110, 2, 388, 286, 301, 112, 187, 184, 39, 52, 125, 101, 165, 263, 394, 474, 105, 416, 434, 45, 309, 26, 153, 209, 73, 98, 235, 133, 95, 88, 479, 143, 354, 115, 18, 61, 461] \n",
      "\n",
      "Lista ordenada:  [2, 6, 14, 15, 18, 26, 32, 39, 45, 50, 52, 61, 73, 74, 88, 95, 98, 101, 105, 110, 112, 115, 118, 125, 133, 143, 153, 165, 184, 187, 203, 209, 235, 263, 286, 294, 301, 309, 354, 388, 394, 397, 405, 416, 434, 461, 466, 474, 477, 479] \n",
      "\n",
      "Valor minimo:  2\n",
      "Valor máximo:  479\n",
      "Valor médio:  195.68\n",
      "Valor mediana:  214.0\n"
     ]
    }
   ],
   "source": [
    "import random\n",
    "#lista = [2, 4, 2, 2, 2, 8, 2, 2, 2, 4]\n",
    "lista = random.sample(range(500),50)\n",
    "print('Lista Informada: ', lista, '\\n')\n",
    "valor_minimo = min(lista)\n",
    "valor_maximo = max(lista)\n",
    "valor_medio = (sum(lista)/len(lista))\n",
    "\n",
    "lista_ordenada = sorted(lista)\n",
    "print(\"Lista ordenada: \", lista_ordenada, '\\n')\n",
    " \n",
    "if(len(lista_ordenada)%2)==0:\n",
    "    med1 = lista[len(lista_ordenada)//2]\n",
    "    med2 = lista[len(lista_ordenada)//2 + 1]\n",
    "    mediana = (med1+med2)/2\n",
    "else:\n",
    "    posicao = len(lista_ordenada)//2\n",
    "    mediana = lista_ordenada[posicao]\n",
    "\n",
    "print(\"Valor minimo: \", valor_minimo)\n",
    "print(\"Valor máximo: \", valor_maximo)\n",
    "print(\"Valor médio: \", valor_medio)\n",
    "print(\"Valor mediana: \", mediana)"
   ]
  },
  {
   "cell_type": "markdown",
   "metadata": {
    "id": "qjsdQkOs2qai"
   },
   "source": [
    "## Exercício 15"
   ]
  },
  {
   "cell_type": "markdown",
   "metadata": {
    "id": "boeh3Tlo3Q8g"
   },
   "source": [
    "Imprima a lista da célula abaixo de trás para frente.\n",
    "\n",
    "a = [1, 1, 2, 3, 5, 8, 13, 21, 34, 55, 89]"
   ]
  },
  {
   "cell_type": "code",
   "execution_count": 1,
   "metadata": {
    "id": "eslOWtuu6WJc"
   },
   "outputs": [
    {
     "name": "stdout",
     "output_type": "stream",
     "text": [
      "[89, 55, 34, 21, 13, 8, 5, 3, 2, 1, 1]\n"
     ]
    }
   ],
   "source": [
    "a = [1, 1, 2, 3, 5, 8, 13, 21, 34, 55, 89]\n",
    "print(a[::-1])"
   ]
  },
  {
   "cell_type": "code",
   "execution_count": 2,
   "metadata": {},
   "outputs": [
    {
     "name": "stdout",
     "output_type": "stream",
     "text": [
      "[89, 55, 34, 21, 13, 8, 5, 3, 2, 1, 1]\n"
     ]
    }
   ],
   "source": [
    "a = [1, 1, 2, 3, 5, 8, 13, 21, 34, 55, 89]\n",
    "a.reverse()\n",
    "print(a)"
   ]
  }
 ],
 "metadata": {
  "colab": {
   "name": "Lista_01.ipynb",
   "provenance": []
  },
  "kernelspec": {
   "display_name": "Python 3.10.5 64-bit",
   "language": "python",
   "name": "python3"
  },
  "language_info": {
   "codemirror_mode": {
    "name": "ipython",
    "version": 3
   },
   "file_extension": ".py",
   "mimetype": "text/x-python",
   "name": "python",
   "nbconvert_exporter": "python",
   "pygments_lexer": "ipython3",
   "version": "3.10.5"
  },
  "vscode": {
   "interpreter": {
    "hash": "d1d9262175893a3f9c089c524f593192d5b8538f6ec9ef6d8235214e3dc272a1"
   }
  }
 },
 "nbformat": 4,
 "nbformat_minor": 1
}
